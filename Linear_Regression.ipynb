{
 "cells": [
  {
   "cell_type": "code",
   "execution_count": null,
   "metadata": {},
   "outputs": [],
   "source": [
    "from pyspark.sql import SparkSession\n",
    "from pyspark.ml.regression import LinearRegression\n",
    "from pyspark.ml.evaluation import RegressionEvaluator\n",
    "if __name__ == \"__main__\":\n",
    "    spark_session = SparkSession\\\n",
    "        .builder\\\n",
    "        .appName(\"Spark Regression\")\\\n",
    "        .getOrCreate()\n",
    "    # Loads data\n",
    "    dataset = spark_session\\\n",
    "        .read\\\n",
    "        .format(\"libsvm\")\\\n",
    "        .load(\"/Users/benjaminvegaherrera/Desktop/data/classificationDataLibsvm.txt\")\n",
    "    dataset.printSchema()\n",
    "    dataset.show()\n",
    "     # Split the data into training and test sets (30% held out for testing)\n",
    "    (trainingData, testData) = dataset.randomSplit([0.7, 0.3])\n",
    "    lr = LinearRegression(maxIter=10, regParam=0.3, elasticNetParam=0.8)\n",
    "    # Fit the model\n",
    "    lrModel = lr.fit(trainingData)\n",
    "    # Print the coefficients and intercept for linear regression\n",
    "    print(\"Coefficients: %s\" % str(lrModel.coefficients))\n",
    "    print(\"Intercept: %s\" % str(lrModel.intercept))\n",
    "    # Summarize the model over the training set and print out some metrics\n",
    "    trainingSummary = lrModel.summary\n",
    "    print(\"numIterations: %d\" % trainingSummary.totalIterations)\n",
    "    print(\"objectiveHistory: %s\" % str(trainingSummary.objectiveHistory))\n",
    "    trainingSummary.residuals.show()\n",
    "    print(\"RMSE: %f\" % trainingSummary.rootMeanSquaredError)\n",
    "    print(\"r2: %f\" % trainingSummary.r2)\n",
    "    lr_predictions = lrModel.transform(testData)\n",
    "    lr_predictions.select(\"prediction\",\"features\").show(5)\n",
    "    lr_evaluator = RegressionEvaluator(predictionCol=\"prediction\", metricName=\"r2\")\n",
    "    print(\"R Squared (R2) on test data = %g\" % lr_evaluator.evaluate(lr_predictions))\n",
    "    lr_predictions.select(\"prediction\",\"label\",\"features\").show()\n",
    "    spark_session.stop()"
   ]
  }
 ],
 "metadata": {
  "kernelspec": {
   "display_name": "Python 3",
   "language": "python",
   "name": "python3"
  },
  "language_info": {
   "codemirror_mode": {
    "name": "ipython",
    "version": 3
   },
   "file_extension": ".py",
   "mimetype": "text/x-python",
   "name": "python",
   "nbconvert_exporter": "python",
   "pygments_lexer": "ipython3",
   "version": "3.8.3"
  }
 },
 "nbformat": 4,
 "nbformat_minor": 4
}
