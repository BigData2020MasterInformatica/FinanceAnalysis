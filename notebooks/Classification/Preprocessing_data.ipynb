{
 "cells": [
  {
   "cell_type": "code",
   "execution_count": 1,
   "metadata": {},
   "outputs": [],
   "source": [
    #Benjamin Vega, Iuliana Ilie
    "from pyspark.sql import SparkSession\n",
    "from pyspark.ml import Pipeline\n",
    "from pyspark.ml.regression import RandomForestRegressor\n",
    "from pyspark.ml.feature import VectorIndexer\n",
    "from pyspark.ml.evaluation import RegressionEvaluator\n",
    "from pyspark.ml.feature import VectorAssembler\n",
    "import requests\n",
    "#https://www.silect.is/blog/2019/4/2/random-forest-in-spark-ml"
   ]
  },
  {
   "cell_type": "code",
   "execution_count": 2,
   "metadata": {},
   "outputs": [],
   "source": [
    "spark_session = SparkSession\\\n",
    "        .builder\\\n",
    "        .appName(\"Spark Regression\")\\\n",
    "        .getOrCreate()"
   ]
  },
  {
   "cell_type": "code",
   "execution_count": 3,
   "metadata": {},
   "outputs": [],
   "source": [
    "dataset = spark_session\\\n",
    "        .read\\\n",
    "        .format(\"csv\")\\\n",
    "        .option(\"header\", \"true\")\\\n",
    "        .load(\"/Users/benjaminvegaherrera/Desktop/BigData/data/data_fileAAPL.csv\",inferSchema = True)"
   ]
  },
  {
   "cell_type": "code",
   "execution_count": 5,
   "metadata": {},
   "outputs": [],
   "source": [
    "# Loads data\n",
    "dataset = spark_session\\\n",
    "        .read\\\n",
    "        .format(\"csv\")\\\n",
    "        .option(\"header\", \"true\")\\\n",
    "        .load(\"/Users/benjaminvegaherrera/Desktop/BigData/data/data_file_2.csv\",inferSchema = True)\n",
    "#dataset = spark_session.read.format(\"libsvm\").load(\"data/data_file.txt\")"
   ]
  },
  {
   "cell_type": "code",
   "execution_count": 6,
   "metadata": {},
   "outputs": [
    {
     "name": "stdout",
     "output_type": "stream",
     "text": [
      "root\n",
      " |-- label: double (nullable = true)\n",
      " |-- high: double (nullable = true)\n",
      " |-- low: double (nullable = true)\n",
      " |-- open: double (nullable = true)\n",
      " |-- adjClose: double (nullable = true)\n",
      " |-- volume: double (nullable = true)\n",
      " |-- unadjustedVolume: double (nullable = true)\n",
      " |-- change: double (nullable = true)\n",
      " |-- changePercent: double (nullable = true)\n",
      " |-- vwap: double (nullable = true)\n",
      " |-- changeOverTime: double (nullable = true)\n",
      "\n",
      "+----------+----------+----------+----------+----------+----------+----------------+--------+-------------+---------+--------------+\n",
      "|     label|      high|       low|      open|  adjClose|    volume|unadjustedVolume|  change|changePercent|     vwap|changeOverTime|\n",
      "+----------+----------+----------+----------+----------+----------+----------------+--------+-------------+---------+--------------+\n",
      "|115.970001|117.589996|114.129997|115.550003|115.970001|1.380234E8|      1.380234E8|    0.42|        0.363|115.89666|       0.00363|\n",
      "|    116.32|121.989998|116.050003|     120.5|    116.32|1.545153E8|      1.545153E8|   -4.18|       -3.469|   118.12|      -0.03469|\n",
      "|118.690002|119.199997|116.129997|    118.32|118.690002|1.144579E8|      1.144579E8|    0.37|        0.313|118.00667|       0.00313|\n",
      "|119.029999|119.620003|116.870003|117.949997|118.824997|1.263871E8|      1.263871E8|    1.08|        0.916|118.50667|       0.00916|\n",
      "|114.949997|115.589996|112.349998|114.139999|114.752022|1.382355E8|      1.382355E8|    0.81|         0.71|114.29666|        0.0071|\n",
      "|110.440002|111.489998|108.730003|109.660004|110.249794|1.076244E8|      1.076244E8|    0.78|        0.711|   110.22|       0.00711|\n",
      "|108.769997|    110.68|    107.32|109.110001|108.582664|1.228669E8|      1.228669E8|   -0.34|       -0.312|108.92333|      -0.00312|\n",
      "|108.860001|111.989998|107.720001|111.059998|108.672516|1.902726E8|      1.902726E8|    -2.2|       -1.981|109.52333|      -0.01981|\n",
      "|    115.32|    116.93|112.199997|112.370003|115.121384|1.461292E8|      1.461292E8|    2.95|        2.625|114.81667|       0.02625|\n",
      "|111.199997|    115.43|111.099998|115.050003|111.008476|1.439378E8|      1.439378E8|-3.85001|       -3.346|112.57667|      -0.03346|\n",
      "|116.599998|117.279999|114.540001|115.489998|116.399178| 9.22768E7|       9.22768E7|    1.11|        0.961|   116.14|       0.00961|\n",
      "|115.050003|116.550003|112.879997|114.010002|114.851852|1.118507E8|      1.118507E8|    1.04|        0.912|114.82667|       0.00912|\n",
      "|115.040001|116.550003|114.279999|116.389999|114.841873| 8.25726E7|       8.25726E7|   -1.35|        -1.16|   115.29|       -0.0116|\n",
      "|    115.75|118.040001|114.589996|117.449997|115.550644| 1.01988E8|       1.01988E8|    -1.7|       -1.447|116.12667|      -0.01447|\n",
      "|116.870003|118.709999|116.449997|116.669998|116.668724|  8.9946E7|        8.9946E7|     0.2|        0.171|117.34333|       0.00171|\n",
      "|117.510002|118.980003|115.629997|116.199997|117.307617|1.244237E8|      1.244237E8| 1.31001|        1.127|117.37333|       0.01127|\n",
      "|115.980003|120.419998|115.660004|119.959999|115.780251|1.206393E8|      1.206393E8|   -3.98|       -3.318|117.35334|      -0.03318|\n",
      "|119.019997|121.550003|118.809998|121.279999| 118.81501|1.153938E8|      1.153938E8|   -2.26|       -1.863|119.79333|      -0.01863|\n",
      "|120.709999|121.199997|118.150002|118.720001|120.502106|1.125592E8|      1.125592E8|    1.99|        1.676|   120.02|       0.01676|\n",
      "|121.190002|123.029999|119.620003|     121.0|120.981277|1.510623E8|      1.510623E8|    0.19|        0.157|   121.28|       0.00157|\n",
      "+----------+----------+----------+----------+----------+----------+----------------+--------+-------------+---------+--------------+\n",
      "only showing top 20 rows\n",
      "\n"
     ]
    }
   ],
   "source": [
    "dataset.printSchema()\n",
    "dataset.show()"
   ]
  },
  {
   "cell_type": "code",
   "execution_count": 7,
   "metadata": {},
   "outputs": [
    {
     "data": {
      "text/plain": [
       "7777"
      ]
     },
     "execution_count": 7,
     "metadata": {},
     "output_type": "execute_result"
    }
   ],
   "source": [
    "dataset.count()"
   ]
  }
 ],
 "metadata": {
  "kernelspec": {
   "display_name": "Python 3",
   "language": "python",
   "name": "python3"
  },
  "language_info": {
   "codemirror_mode": {
    "name": "ipython",
    "version": 3
   },
   "file_extension": ".py",
   "mimetype": "text/x-python",
   "name": "python",
   "nbconvert_exporter": "python",
   "pygments_lexer": "ipython3",
   "version": "3.8.3"
  }
 },
 "nbformat": 4,
 "nbformat_minor": 4
}
