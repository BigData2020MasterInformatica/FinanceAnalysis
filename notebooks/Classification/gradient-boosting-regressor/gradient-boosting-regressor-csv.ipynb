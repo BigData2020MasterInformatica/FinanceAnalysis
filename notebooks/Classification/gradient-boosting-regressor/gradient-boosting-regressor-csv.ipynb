{
 "cells": [
  {
   "cell_type": "code",
   "execution_count": 1,
   "metadata": {},
   "outputs": [],
   "source": [
    "from pyspark.sql import SparkSession\n",
    "from pyspark.ml import Pipeline\n",
    "from pyspark.ml.regression import RandomForestRegressor\n",
    "from pyspark.ml.feature import VectorIndexer\n",
    "from pyspark.ml.evaluation import RegressionEvaluator\n",
    "from pyspark.ml.feature import VectorAssembler\n",
    "import requests\n",
    "#https://www.silect.is/blog/2019/4/2/random-forest-in-spark-ml\n",
    "\n",
    "from pyspark.sql import SparkSession\n",
    "from pyspark.ml.regression import LinearRegression\n",
    "from pyspark.ml.evaluation import RegressionEvaluator\n",
    "from pyspark.ml.regression import GBTRegressor\n",
    "\n",
    "from pyspark.ml.tuning import CrossValidator\n",
    "from pyspark.ml.evaluation import RegressionEvaluator\n",
    "\n",
    "from pyspark.ml.tuning import ParamGridBuilder\n",
    "\n",
    "import numpy as np\n",
    "import matplotlib.pyplot as plt"
   ]
  },
  {
   "cell_type": "code",
   "execution_count": 2,
   "metadata": {},
   "outputs": [],
   "source": [
    "spark_session = SparkSession\\\n",
    "        .builder\\\n",
    "        .appName(\"Spark Regression\")\\\n",
    "        .getOrCreate()"
   ]
  },
  {
   "cell_type": "code",
   "execution_count": 3,
   "metadata": {},
   "outputs": [],
   "source": [
    "# Loads data\n",
    "dataset = spark_session\\\n",
    "        .read\\\n",
    "        .format(\"csv\")\\\n",
    "        .option(\"header\", \"true\")\\\n",
    "        .load(\"data/data_file_2.csv\",inferSchema = True)\n",
    "#dataset = spark_session.read.format(\"libsvm\").load(\"data/data_file.txt\")"
   ]
  },
  {
   "cell_type": "code",
   "execution_count": 4,
   "metadata": {},
   "outputs": [
    {
     "name": "stdout",
     "output_type": "stream",
     "text": [
      "root\n",
      " |-- label: double (nullable = true)\n",
      " |-- high: double (nullable = true)\n",
      " |-- low: double (nullable = true)\n",
      " |-- open: double (nullable = true)\n",
      " |-- adjClose: double (nullable = true)\n",
      " |-- volume: double (nullable = true)\n",
      " |-- unadjustedVolume: double (nullable = true)\n",
      " |-- change: double (nullable = true)\n",
      " |-- changePercent: double (nullable = true)\n",
      " |-- vwap: double (nullable = true)\n",
      " |-- changeOverTime: double (nullable = true)\n",
      "\n",
      "+----------+----------+----------+----------+----------+----------+----------------+--------+-------------+---------+--------------+\n",
      "|     label|      high|       low|      open|  adjClose|    volume|unadjustedVolume|  change|changePercent|     vwap|changeOverTime|\n",
      "+----------+----------+----------+----------+----------+----------+----------------+--------+-------------+---------+--------------+\n",
      "|115.970001|117.589996|114.129997|115.550003|115.970001|1.380234E8|      1.380234E8|    0.42|        0.363|115.89666|       0.00363|\n",
      "|    116.32|121.989998|116.050003|     120.5|    116.32|1.545153E8|      1.545153E8|   -4.18|       -3.469|   118.12|      -0.03469|\n",
      "|118.690002|119.199997|116.129997|    118.32|118.690002|1.144579E8|      1.144579E8|    0.37|        0.313|118.00667|       0.00313|\n",
      "|119.029999|119.620003|116.870003|117.949997|118.824997|1.263871E8|      1.263871E8|    1.08|        0.916|118.50667|       0.00916|\n",
      "|114.949997|115.589996|112.349998|114.139999|114.752022|1.382355E8|      1.382355E8|    0.81|         0.71|114.29666|        0.0071|\n",
      "|110.440002|111.489998|108.730003|109.660004|110.249794|1.076244E8|      1.076244E8|    0.78|        0.711|   110.22|       0.00711|\n",
      "|108.769997|    110.68|    107.32|109.110001|108.582664|1.228669E8|      1.228669E8|   -0.34|       -0.312|108.92333|      -0.00312|\n",
      "|108.860001|111.989998|107.720001|111.059998|108.672516|1.902726E8|      1.902726E8|    -2.2|       -1.981|109.52333|      -0.01981|\n",
      "|    115.32|    116.93|112.199997|112.370003|115.121384|1.461292E8|      1.461292E8|    2.95|        2.625|114.81667|       0.02625|\n",
      "|111.199997|    115.43|111.099998|115.050003|111.008476|1.439378E8|      1.439378E8|-3.85001|       -3.346|112.57667|      -0.03346|\n",
      "|116.599998|117.279999|114.540001|115.489998|116.399178| 9.22768E7|       9.22768E7|    1.11|        0.961|   116.14|       0.00961|\n",
      "|115.050003|116.550003|112.879997|114.010002|114.851852|1.118507E8|      1.118507E8|    1.04|        0.912|114.82667|       0.00912|\n",
      "|115.040001|116.550003|114.279999|116.389999|114.841873| 8.25726E7|       8.25726E7|   -1.35|        -1.16|   115.29|       -0.0116|\n",
      "|    115.75|118.040001|114.589996|117.449997|115.550644| 1.01988E8|       1.01988E8|    -1.7|       -1.447|116.12667|      -0.01447|\n",
      "|116.870003|118.709999|116.449997|116.669998|116.668724|  8.9946E7|        8.9946E7|     0.2|        0.171|117.34333|       0.00171|\n",
      "|117.510002|118.980003|115.629997|116.199997|117.307617|1.244237E8|      1.244237E8| 1.31001|        1.127|117.37333|       0.01127|\n",
      "|115.980003|120.419998|115.660004|119.959999|115.780251|1.206393E8|      1.206393E8|   -3.98|       -3.318|117.35334|      -0.03318|\n",
      "|119.019997|121.550003|118.809998|121.279999| 118.81501|1.153938E8|      1.153938E8|   -2.26|       -1.863|119.79333|      -0.01863|\n",
      "|120.709999|121.199997|118.150002|118.720001|120.502106|1.125592E8|      1.125592E8|    1.99|        1.676|   120.02|       0.01676|\n",
      "|121.190002|123.029999|119.620003|     121.0|120.981277|1.510623E8|      1.510623E8|    0.19|        0.157|   121.28|       0.00157|\n",
      "+----------+----------+----------+----------+----------+----------+----------------+--------+-------------+---------+--------------+\n",
      "only showing top 20 rows\n",
      "\n"
     ]
    }
   ],
   "source": [
    "dataset.printSchema()\n",
    "dataset.show()"
   ]
  },
  {
   "cell_type": "code",
   "execution_count": 5,
   "metadata": {},
   "outputs": [
    {
     "data": {
      "text/plain": [
       "VectorAssembler_4bb4deaa3a0e"
      ]
     },
     "execution_count": 5,
     "metadata": {},
     "output_type": "execute_result"
    }
   ],
   "source": [
    "feature_list = []\n",
    "for col in dataset.columns:\n",
    "    if col == 'label':\n",
    "        continue\n",
    "    else:\n",
    "        feature_list.append(col)\n",
    "\n",
    "assembler = VectorAssembler(inputCols=feature_list, outputCol=\"features\")\n",
    "assembler"
   ]
  },
  {
   "cell_type": "code",
   "execution_count": null,
   "metadata": {},
   "outputs": [],
   "source": [
    "# Automatically identify categorical features, and index them.\n",
    "# Set maxCategories so features with > 4 distinct values are treated as continuous.\n",
    "# featureIndexer = VectorIndexer(inputCol=\"features\", outputCol=\"indexedFeatures\", maxCategories=4).fit(data)\n"
   ]
  },
  {
   "cell_type": "code",
   "execution_count": 6,
   "metadata": {},
   "outputs": [],
   "source": [
    "gbt = GBTRegressor(featuresCol = 'features', labelCol = 'label')"
   ]
  },
  {
   "cell_type": "code",
   "execution_count": 7,
   "metadata": {},
   "outputs": [],
   "source": [
    "# Now, we put our simple, two-stage workflow into an ML pipeline.\n",
    "pipeline = Pipeline(stages=[assembler, gbt])"
   ]
  },
  {
   "cell_type": "code",
   "execution_count": 27,
   "metadata": {},
   "outputs": [],
   "source": [
    "paramGrid = ParamGridBuilder() \\\n",
    "    .addGrid(gbt.maxIter, [int(x) for x in [10]]) \\\n",
    "    .addGrid(gbt.maxDepth, [int(x) for x in [5,10]]) \\\n",
    "    .addGrid(gbt.maxBins, [int(x) for x in [32]]) \\\n",
    "    .build()\n",
    "    #.addGrid(rf.maxBins, [int(x) for x in np.linspace(start = 32, stop = 64, num = 3)]) \\\n",
    "    "
   ]
  },
  {
   "cell_type": "code",
   "execution_count": null,
   "metadata": {},
   "outputs": [],
   "source": []
  },
  {
   "cell_type": "code",
   "execution_count": 28,
   "metadata": {},
   "outputs": [],
   "source": [
    "crossval = CrossValidator(estimator=pipeline,\n",
    "                          estimatorParamMaps=paramGrid,\n",
    "                          evaluator=RegressionEvaluator(),\n",
    "                          numFolds=3)"
   ]
  },
  {
   "cell_type": "code",
   "execution_count": 29,
   "metadata": {},
   "outputs": [
    {
     "name": "stdout",
     "output_type": "stream",
     "text": [
      "+--------+\n",
      "|   label|\n",
      "+--------+\n",
      "|0.116629|\n",
      "|0.117188|\n",
      "|0.117188|\n",
      "|0.117746|\n",
      "|0.117746|\n",
      "|0.118304|\n",
      "| 0.12221|\n",
      "| 0.12221|\n",
      "|0.122768|\n",
      "|0.123326|\n",
      "+--------+\n",
      "only showing top 10 rows\n",
      "\n",
      "None\n"
     ]
    }
   ],
   "source": [
    "# Split the data into training and test sets (30% held out for testing)\n",
    "(trainingData, testData) = dataset.randomSplit([0.7, 0.3])\n",
    "print(trainingData.select(\"label\").show(10))"
   ]
  },
  {
   "cell_type": "code",
   "execution_count": 30,
   "metadata": {},
   "outputs": [],
   "source": [
    "cvModel = crossval.fit(trainingData)"
   ]
  },
  {
   "cell_type": "code",
   "execution_count": 31,
   "metadata": {},
   "outputs": [],
   "source": [
    "predictions = cvModel.transform(testData)"
   ]
  },
  {
   "cell_type": "code",
   "execution_count": 32,
   "metadata": {},
   "outputs": [
    {
     "name": "stdout",
     "output_type": "stream",
     "text": [
      "+------------------+--------+--------------------+\n",
      "|        prediction|   label|            features|\n",
      "+------------------+--------+--------------------+\n",
      "|0.2562583473794685|0.115513|[0.118862,0.11551...|\n",
      "|0.2562583473794685|0.117188|[0.119978,0.11495...|\n",
      "|0.2485096569761136|0.118862|[0.11942,0.116071...|\n",
      "|0.2562583473794685|0.118862|[0.125,0.117746,0...|\n",
      "|0.2485096569761136| 0.12221|[0.123884,0.12165...|\n",
      "|0.2562583473794685|0.123326|[0.127232,0.12276...|\n",
      "|0.2562583473794685|0.124442|[0.127232,0.12276...|\n",
      "|0.2562583473794685|0.126116|[0.132813,0.125,0...|\n",
      "|0.2562583473794685|0.127232|[0.131696,0.125,0...|\n",
      "|0.2562583473794685|0.131696|[0.134487,0.12946...|\n",
      "+------------------+--------+--------------------+\n",
      "only showing top 10 rows\n",
      "\n",
      "None\n",
      "+--------+\n",
      "|   label|\n",
      "+--------+\n",
      "|0.116629|\n",
      "|0.117188|\n",
      "|0.117188|\n",
      "|0.117746|\n",
      "|0.117746|\n",
      "|0.118304|\n",
      "| 0.12221|\n",
      "| 0.12221|\n",
      "|0.122768|\n",
      "|0.123326|\n",
      "+--------+\n",
      "only showing top 10 rows\n",
      "\n",
      "None\n"
     ]
    }
   ],
   "source": [
    "print(predictions.select(\"prediction\", \"label\", \"features\").show(10))\n",
    "print(trainingData.select(\"label\").show(10))"
   ]
  },
  {
   "cell_type": "code",
   "execution_count": 33,
   "metadata": {},
   "outputs": [
    {
     "data": {
      "image/png": "[encoded data removed]",
      "text/plain": [
       "<Figure size 432x288 with 1 Axes>"
      ]
     },
     "metadata": {
      "needs_background": "light"
     },
     "output_type": "display_data"
    },
    {
     "name": "stdout",
     "output_type": "stream",
     "text": [
      "3.305789557138194\n"
     ]
    }
   ],
   "source": [
    "evaluator = RegressionEvaluator(labelCol=\"label\", predictionCol=\"prediction\", metricName=\"rmse\")\n",
    "\n",
    "rmse = evaluator.evaluate(predictions)\n",
    "\n",
    "rfPred = cvModel.transform(dataset)\n",
    "\n",
    "rfResult = rfPred.toPandas()\n",
    "\n",
    "plt.plot(rfResult.label, rfResult.prediction, 'bo')\n",
    "plt.xlabel('Close price')\n",
    "plt.ylabel('Prediction')\n",
    "plt.suptitle(\"Model Performance RMSE: %f\" % rmse)\n",
    "plt.show()\n",
    "\n",
    "print(rmse)"
   ]
  },
  {
   "cell_type": "code",
   "execution_count": 34,
   "metadata": {},
   "outputs": [
    {
     "data": {
      "text/plain": [
       "3.305789557138194"
      ]
     },
     "execution_count": 34,
     "metadata": {},
     "output_type": "execute_result"
    }
   ],
   "source": [
    "rmse"
   ]
  },
  {
   "cell_type": "code",
   "execution_count": 35,
   "metadata": {},
   "outputs": [],
   "source": [
    "bestPipeline = cvModel.bestModel\n",
    "bestModel = bestPipeline.stages[1]"
   ]
  },
  {
   "cell_type": "code",
   "execution_count": 36,
   "metadata": {},
   "outputs": [
    {
     "data": {
      "text/plain": [
       "5"
      ]
     },
     "execution_count": 36,
     "metadata": {},
     "output_type": "execute_result"
    }
   ],
   "source": [
    "bestModel.getMaxDepth()"
   ]
  },
  {
   "cell_type": "code",
   "execution_count": 37,
   "metadata": {},
   "outputs": [
    {
     "data": {
      "text/plain": [
       "10"
      ]
     },
     "execution_count": 37,
     "metadata": {},
     "output_type": "execute_result"
    }
   ],
   "source": [
    "bestModel.getMaxIter()"
   ]
  },
  {
   "cell_type": "code",
   "execution_count": 38,
   "metadata": {},
   "outputs": [
    {
     "data": {
      "text/plain": [
       "32"
      ]
     },
     "execution_count": 38,
     "metadata": {},
     "output_type": "execute_result"
    }
   ],
   "source": [
    "bestModel.getMaxBins()"
   ]
  }
 ],
 "metadata": {
  "kernelspec": {
   "display_name": "Python 3",
   "language": "python",
   "name": "python3"
  },
  "language_info": {
   "codemirror_mode": {
    "name": "ipython",
    "version": 3
   },
   "file_extension": ".py",
   "mimetype": "text/x-python",
   "name": "python",
   "nbconvert_exporter": "python",
   "pygments_lexer": "ipython3",
   "version": "3.8.3"
  }
 },
 "nbformat": 4,
 "nbformat_minor": 4
}
