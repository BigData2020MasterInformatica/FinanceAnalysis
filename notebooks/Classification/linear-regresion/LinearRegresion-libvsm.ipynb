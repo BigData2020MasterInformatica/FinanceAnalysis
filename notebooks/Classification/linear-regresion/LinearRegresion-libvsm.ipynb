{
 "cells": [
  {
   "cell_type": "code",
   "execution_count": 32,
   "metadata": {},
   "outputs": [],
   "source": [
    "from pyspark.sql import SparkSession\n",
    "from pyspark.ml import Pipeline\n",
    "from pyspark.ml.regression import RandomForestRegressor\n",
    "from pyspark.ml.feature import VectorIndexer\n",
    "from pyspark.ml.feature import VectorAssembler\n",
    "from pyspark.ml.evaluation import RegressionEvaluator\n",
    "\n",
    "from pyspark.sql import SparkSession\n",
    "from pyspark.ml.regression import LinearRegression\n",
    "from pyspark.ml.evaluation import RegressionEvaluator\n",
    "from pyspark.ml.regression import GBTRegressor\n",
    "\n",
    "from pyspark.ml.tuning import CrossValidator\n",
    "from pyspark.ml.evaluation import RegressionEvaluator\n",
    "from pyspark.ml.tuning import ParamGridBuilder\n",
    "import numpy as np\n",
    "from pyspark.ml.tuning import CrossValidator\n",
    "\n",
    "import matplotlib.pyplot as plt"
   ]
  },
  {
   "cell_type": "code",
   "execution_count": 2,
   "metadata": {},
   "outputs": [],
   "source": [
    "spark_session = SparkSession\\\n",
    "        .builder\\\n",
    "        .appName(\"Spark Regression\")\\\n",
    "        .getOrCreate()"
   ]
  },
  {
   "cell_type": "code",
   "execution_count": null,
   "metadata": {},
   "outputs": [],
   "source": []
  },
  {
   "cell_type": "code",
   "execution_count": 3,
   "metadata": {},
   "outputs": [],
   "source": [
    "# Load and parse the data file, converting it to a DataFrame.\n",
    "data = spark_session.read.format(\"libsvm\").load(\"data/data_file.txt\")\n",
    "#data = spark_session.read.format(\"libsvm\").load(\"data/classificationDataLibsvm.txt\")"
   ]
  },
  {
   "cell_type": "code",
   "execution_count": 4,
   "metadata": {},
   "outputs": [
    {
     "name": "stdout",
     "output_type": "stream",
     "text": [
      "+----------+--------------------+\n",
      "|     label|            features|\n",
      "+----------+--------------------+\n",
      "|115.970001|(10,[0,1,2,3,4,5,...|\n",
      "|    116.32|(10,[0,1,2,3,4,5,...|\n",
      "|118.690002|(10,[0,1,2,3,4,5,...|\n",
      "|119.029999|(10,[0,1,2,3,4,5,...|\n",
      "|114.949997|(10,[0,1,2,3,4,5,...|\n",
      "|110.440002|(10,[0,1,2,3,4,5,...|\n",
      "|108.769997|(10,[0,1,2,3,4,5,...|\n",
      "|108.860001|(10,[0,1,2,3,4,5,...|\n",
      "|    115.32|(10,[0,1,2,3,4,5,...|\n",
      "|111.199997|(10,[0,1,2,3,4,5,...|\n",
      "|116.599998|(10,[0,1,2,3,4,5,...|\n",
      "|115.050003|(10,[0,1,2,3,4,5,...|\n",
      "|115.040001|(10,[0,1,2,3,4,5,...|\n",
      "|    115.75|(10,[0,1,2,3,4,5,...|\n",
      "|116.870003|(10,[0,1,2,3,4,5,...|\n",
      "|117.510002|(10,[0,1,2,3,4,5,...|\n",
      "|115.980003|(10,[0,1,2,3,4,5,...|\n",
      "|119.019997|(10,[0,1,2,3,4,5,...|\n",
      "|120.709999|(10,[0,1,2,3,4,5,...|\n",
      "|121.190002|(10,[0,1,2,3,4,5,...|\n",
      "+----------+--------------------+\n",
      "only showing top 20 rows\n",
      "\n"
     ]
    }
   ],
   "source": [
    "data.show()"
   ]
  },
  {
   "cell_type": "code",
   "execution_count": 280,
   "metadata": {},
   "outputs": [],
   "source": [
    "# Automatically identify categorical features, and index them.\n",
    "# Set maxCategories so features with > 4 distinct values are treated as continuous.\n",
    "#featureIndexer =\\\n",
    "#    VectorIndexer(inputCol=\"features\", outputCol=\"indexedFeatures\", maxCategories=4).fit(data)"
   ]
  },
  {
   "cell_type": "code",
   "execution_count": 5,
   "metadata": {},
   "outputs": [
    {
     "name": "stdout",
     "output_type": "stream",
     "text": [
      "+--------+\n",
      "|   label|\n",
      "+--------+\n",
      "|0.115513|\n",
      "|0.116629|\n",
      "|0.117188|\n",
      "|0.117746|\n",
      "|0.118862|\n",
      "|0.118862|\n",
      "| 0.12221|\n",
      "|0.123326|\n",
      "|0.123326|\n",
      "|0.124442|\n",
      "+--------+\n",
      "only showing top 10 rows\n",
      "\n",
      "None\n"
     ]
    }
   ],
   "source": [
    "# Split the data into training and test sets (30% held out for testing)\n",
    "#(trainingData, testData) = data.randomSplit([0.7, 0.3]) \n",
    "#(trainingData, testData) = l1NormData.randomSplit([0.7, 0.3])\n",
    "(trainingData, testData) = data.randomSplit([0.7, 0.3])\n",
    "print(trainingData.select(\"label\").show(10))"
   ]
  },
  {
   "cell_type": "code",
   "execution_count": 6,
   "metadata": {},
   "outputs": [],
   "source": [
    "# Train model.\n",
    "#lr = LinearRegression(maxIter=10, regParam=0.3, elasticNetParam=0.8)\n",
    "lr = LinearRegression(featuresCol = 'features', labelCol = 'label',)"
   ]
  },
  {
   "cell_type": "code",
   "execution_count": 18,
   "metadata": {},
   "outputs": [],
   "source": [
    "paramGrid = ParamGridBuilder() \\\n",
    "    .addGrid(lr.maxIter, [int(x) for x in np.linspace(start = 5, stop = 30, num = 6)]) \\\n",
    "    .addGrid(lr.regParam, [float(x) for x in np.linspace(start = 0.1, stop = 0.9, num = 4)]) \\\n",
    "    .addGrid(lr.elasticNetParam, [float(x) for x in np.linspace(start = 0.01, stop = 1.0, num = 6)]) \\\n",
    "    .build()"
   ]
  },
  {
   "cell_type": "code",
   "execution_count": 29,
   "metadata": {},
   "outputs": [],
   "source": [
    "crossval = CrossValidator(estimator=lr,\n",
    "                          estimatorParamMaps=paramGrid,\n",
    "                          evaluator=RegressionEvaluator(),\n",
    "                          numFolds=3)"
   ]
  },
  {
   "cell_type": "code",
   "execution_count": 30,
   "metadata": {},
   "outputs": [],
   "source": [
    "# Split the data into training and test sets (30% held out for testing)\n",
    "(trainingData, testData) = data.randomSplit([0.7, 0.3])"
   ]
  },
  {
   "cell_type": "code",
   "execution_count": 31,
   "metadata": {},
   "outputs": [],
   "source": [
    "cvModel = crossval.fit(trainingData)"
   ]
  },
  {
   "cell_type": "code",
   "execution_count": 33,
   "metadata": {},
   "outputs": [],
   "source": [
    "predictions = cvModel.transform(testData)"
   ]
  },
  {
   "cell_type": "code",
   "execution_count": 34,
   "metadata": {},
   "outputs": [
    {
     "name": "stdout",
     "output_type": "stream",
     "text": [
      "+-------------------+--------+--------------------+\n",
      "|         prediction|   label|            features|\n",
      "+-------------------+--------+--------------------+\n",
      "|0.22151267925253437|0.117188|(10,[0,1,2,3,4,5,...|\n",
      "| 0.2220796425449575|0.117746|(10,[0,1,2,3,4,5,...|\n",
      "|0.22277562005044377|0.117746|(10,[0,1,2,3,4,5,...|\n",
      "| 0.2224841738877473|0.118304|(10,[0,1,2,3,4,5,...|\n",
      "|0.22767488892590818|0.123326|(10,[0,1,2,3,4,5,...|\n",
      "|0.23086287497138908|0.126116|(10,[0,1,2,3,4,5,...|\n",
      "| 0.2312530555656564|0.127232|(10,[0,1,2,3,4,5,...|\n",
      "|0.23274673400742052|0.130022|(10,[0,1,2,3,4,5,...|\n",
      "|0.23548507747928546|0.131138|(10,[0,1,2,3,4,5,...|\n",
      "|0.23547257603710545|0.131138|(10,[0,1,2,3,4,5,...|\n",
      "+-------------------+--------+--------------------+\n",
      "only showing top 10 rows\n",
      "\n"
     ]
    }
   ],
   "source": [
    "predictions.select(\"prediction\", \"label\", \"features\").show(10)"
   ]
  },
  {
   "cell_type": "code",
   "execution_count": 39,
   "metadata": {},
   "outputs": [
    {
     "data": {
      "image/png": "[encoded data removed]",
      "text/plain": [
       "<Figure size 432x288 with 1 Axes>"
      ]
     },
     "metadata": {
      "needs_background": "light"
     },
     "output_type": "display_data"
    },
    {
     "name": "stdout",
     "output_type": "stream",
     "text": [
      "0.16292734951255478\n"
     ]
    }
   ],
   "source": [
    "evaluator = RegressionEvaluator(labelCol=\"label\", predictionCol=\"prediction\", metricName=\"rmse\")\n",
    "\n",
    "rmse = evaluator.evaluate(predictions)\n",
    "\n",
    "rfPred = cvModel.transform(data)\n",
    "\n",
    "rfResult = rfPred.toPandas()\n",
    "\n",
    "plt.plot(rfResult.label, rfResult.prediction, 'bo')\n",
    "plt.xlabel('Close price')\n",
    "plt.ylabel('Prediction')\n",
    "plt.suptitle(\"Model Performance RMSE: %f\" % rmse)\n",
    "plt.show()\n",
    "\n",
    "print(rmse)"
   ]
  },
  {
   "cell_type": "code",
   "execution_count": 36,
   "metadata": {},
   "outputs": [
    {
     "data": {
      "text/plain": [
       "0.16292734951255478"
      ]
     },
     "execution_count": 36,
     "metadata": {},
     "output_type": "execute_result"
    }
   ],
   "source": [
    "rmse"
   ]
  },
  {
   "cell_type": "code",
   "execution_count": 42,
   "metadata": {},
   "outputs": [],
   "source": [
    "bestModel = cvModel.bestModel"
   ]
  },
  {
   "cell_type": "code",
   "execution_count": 43,
   "metadata": {},
   "outputs": [
    {
     "data": {
      "text/plain": [
       "0.1"
      ]
     },
     "execution_count": 43,
     "metadata": {},
     "output_type": "execute_result"
    }
   ],
   "source": [
    "bestModel.getRegParam()"
   ]
  },
  {
   "cell_type": "code",
   "execution_count": 44,
   "metadata": {},
   "outputs": [
    {
     "data": {
      "text/plain": [
       "25"
      ]
     },
     "execution_count": 44,
     "metadata": {},
     "output_type": "execute_result"
    }
   ],
   "source": [
    "bestModel.getMaxIter()"
   ]
  },
  {
   "cell_type": "code",
   "execution_count": 45,
   "metadata": {},
   "outputs": [
    {
     "data": {
      "text/plain": [
       "0.20800000000000002"
      ]
     },
     "execution_count": 45,
     "metadata": {},
     "output_type": "execute_result"
    }
   ],
   "source": [
    "bestModel.getElasticNetParam()"
   ]
  },
  {
   "cell_type": "code",
   "execution_count": 46,
   "metadata": {},
   "outputs": [
    {
     "name": "stdout",
     "output_type": "stream",
     "text": [
      "Coefficients: [0.20186378643202663,0.20883895048780307,0.20570049856229625,0.1792598575218647,0.0,0.0,0.395407090232851,0.0,0.20588117115673085,0.0]\n",
      "Intercept: 0.10717953972076982\n"
     ]
    }
   ],
   "source": [
    "# Print the coefficients and intercept for linear regression\n",
    "print(\"Coefficients: %s\" % str(bestModel.coefficients))\n",
    "print(\"Intercept: %s\" % str(bestModel.intercept))"
   ]
  },
  {
   "cell_type": "code",
   "execution_count": 47,
   "metadata": {},
   "outputs": [
    {
     "name": "stdout",
     "output_type": "stream",
     "text": [
      "numIterations: 26\n",
      "objectiveHistory: [0.5, 0.3934769064453724, 0.0034137796972070994, 0.0022830967688023643, 0.001465475346872687, 0.0014651058487855802, 0.0014649977800952878, 0.0014648718012511839, 0.0014637153600714702, 0.0014631757680483991, 0.0014607448740354152, 0.0014607346162561952, 0.0014607214381198213, 0.0014607125374044656, 0.0014606995813931524, 0.001460690822467514, 0.0014606780911753164, 0.0014606697200786113, 0.001460657621116747, 0.0014606493724809138, 0.001460637460983931, 0.0014606280432133138, 0.001460616315871023, 0.0014606058893601697, 0.0014605953934648157, 0.0014605837429729164]\n",
      "+--------------------+\n",
      "|           residuals|\n",
      "+--------------------+\n",
      "|-0.10513502694602253|\n",
      "|-0.10479896532802406|\n",
      "| -0.1047118406222456|\n",
      "| -0.1052495294498569|\n",
      "|-0.10426766185926989|\n",
      "|-0.10486775517670824|\n",
      "|-0.10409284397516667|\n",
      "|-0.10397497072544969|\n",
      "|-0.10447610326233629|\n",
      "|-0.10461568965011499|\n",
      "|-0.10505449398531073|\n",
      "|-0.10431434525625505|\n",
      "|-0.10521396329154259|\n",
      "| -0.1041714802366468|\n",
      "|-0.10326433977500149|\n",
      "|-0.10408848485742397|\n",
      "|-0.10497990115635966|\n",
      "|-0.10429715110838861|\n",
      "| -0.1039834516696291|\n",
      "|-0.10399816687406796|\n",
      "+--------------------+\n",
      "only showing top 20 rows\n",
      "\n",
      "RMSE: 0.151290\n",
      "r2: 0.999943\n"
     ]
    }
   ],
   "source": [
    "# Summarize the model over the training set and print out some metrics\n",
    "trainingSummary = bestModel.summary\n",
    "print(\"numIterations: %d\" % trainingSummary.totalIterations)\n",
    "print(\"objectiveHistory: %s\" % str(trainingSummary.objectiveHistory))\n",
    "trainingSummary.residuals.show()\n",
    "print(\"RMSE: %f\" % trainingSummary.rootMeanSquaredError)\n",
    "print(\"r2: %f\" % trainingSummary.r2)"
   ]
  },
  {
   "cell_type": "code",
   "execution_count": null,
   "metadata": {},
   "outputs": [],
   "source": []
  }
 ],
 "metadata": {
  "kernelspec": {
   "display_name": "Python 3",
   "language": "python",
   "name": "python3"
  },
  "language_info": {
   "codemirror_mode": {
    "name": "ipython",
    "version": 3
   },
   "file_extension": ".py",
   "mimetype": "text/x-python",
   "name": "python",
   "nbconvert_exporter": "python",
   "pygments_lexer": "ipython3",
   "version": "3.8.3"
  }
 },
 "nbformat": 4,
 "nbformat_minor": 4
}
