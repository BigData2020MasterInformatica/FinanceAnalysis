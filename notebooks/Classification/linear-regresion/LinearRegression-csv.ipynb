{
 "cells": [
  {
   "cell_type": "markdown",
   "metadata": {},
   "source": [
    "# Gradient Boosting Regressor\n",
    "\n",
    "### Authors:\n",
    " - Benjamín Vega\n",
    " - Iuliana Illie"
   ]
  },
  {
   "cell_type": "code",
   "execution_count": 2,
   "metadata": {},
   "outputs": [],
   "source": [
    "from pyspark.sql import SparkSession\n",
    "from pyspark.ml import Pipeline\n",
    "from pyspark.ml.regression import RandomForestRegressor\n",
    "from pyspark.ml.feature import VectorIndexer\n",
    "from pyspark.ml.evaluation import RegressionEvaluator\n",
    "from pyspark.ml.feature import VectorAssembler\n",
    "import requests\n",
    "#https://www.silect.is/blog/2019/4/2/random-forest-in-spark-ml\n",
    "\n",
    "from pyspark.sql import SparkSession\n",
    "from pyspark.ml.regression import LinearRegression\n",
    "from pyspark.ml.evaluation import RegressionEvaluator\n",
    "from pyspark.ml.regression import GBTRegressor\n",
    "\n",
    "from pyspark.ml.tuning import CrossValidator\n",
    "from pyspark.ml.evaluation import RegressionEvaluator\n",
    "\n",
    "from pyspark.ml.tuning import ParamGridBuilder\n",
    "\n",
    "import numpy as np\n",
    "import matplotlib.pyplot as plt"
   ]
  },
  {
   "cell_type": "code",
   "execution_count": 3,
   "metadata": {},
   "outputs": [],
   "source": [
    "spark_session = SparkSession\\\n",
    "        .builder\\\n",
    "        .appName(\"Spark Regression\")\\\n",
    "        .getOrCreate()"
   ]
  },
  {
   "cell_type": "markdown",
   "metadata": {},
   "source": [
    "### Load data in csv format"
   ]
  },
  {
   "cell_type": "code",
   "execution_count": 4,
   "metadata": {},
   "outputs": [],
   "source": [
    "# Loads data\n",
    "dataset = spark_session\\\n",
    "        .read\\\n",
    "        .format(\"csv\")\\\n",
    "        .option(\"header\", \"true\")\\\n",
    "        .load(\"data/data_file.csv\",inferSchema = True)"
   ]
  },
  {
   "cell_type": "code",
   "execution_count": 5,
   "metadata": {},
   "outputs": [
    {
     "name": "stdout",
     "output_type": "stream",
     "text": [
      "root\n",
      " |-- label: double (nullable = true)\n",
      " |-- high: double (nullable = true)\n",
      " |-- low: double (nullable = true)\n",
      " |-- open: double (nullable = true)\n",
      " |-- adjClose: double (nullable = true)\n",
      " |-- volume: double (nullable = true)\n",
      " |-- unadjustedVolume: double (nullable = true)\n",
      " |-- change: double (nullable = true)\n",
      " |-- changePercent: double (nullable = true)\n",
      " |-- vwap: double (nullable = true)\n",
      " |-- changeOverTime: double (nullable = true)\n",
      "\n",
      "+----------+----------+----------+----------+----------+----------+----------------+--------+-------------+---------+--------------+\n",
      "|     label|      high|       low|      open|  adjClose|    volume|unadjustedVolume|  change|changePercent|     vwap|changeOverTime|\n",
      "+----------+----------+----------+----------+----------+----------+----------------+--------+-------------+---------+--------------+\n",
      "|115.970001|117.589996|114.129997|115.550003|115.970001|1.380234E8|      1.380234E8|    0.42|        0.363|115.89666|       0.00363|\n",
      "|    116.32|121.989998|116.050003|     120.5|    116.32|1.545153E8|      1.545153E8|   -4.18|       -3.469|   118.12|      -0.03469|\n",
      "|118.690002|119.199997|116.129997|    118.32|118.690002|1.144579E8|      1.144579E8|    0.37|        0.313|118.00667|       0.00313|\n",
      "|119.029999|119.620003|116.870003|117.949997|118.824997|1.263871E8|      1.263871E8|    1.08|        0.916|118.50667|       0.00916|\n",
      "|114.949997|115.589996|112.349998|114.139999|114.752022|1.382355E8|      1.382355E8|    0.81|         0.71|114.29666|        0.0071|\n",
      "|110.440002|111.489998|108.730003|109.660004|110.249794|1.076244E8|      1.076244E8|    0.78|        0.711|   110.22|       0.00711|\n",
      "|108.769997|    110.68|    107.32|109.110001|108.582664|1.228669E8|      1.228669E8|   -0.34|       -0.312|108.92333|      -0.00312|\n",
      "|108.860001|111.989998|107.720001|111.059998|108.672516|1.902726E8|      1.902726E8|    -2.2|       -1.981|109.52333|      -0.01981|\n",
      "|    115.32|    116.93|112.199997|112.370003|115.121384|1.461292E8|      1.461292E8|    2.95|        2.625|114.81667|       0.02625|\n",
      "|111.199997|    115.43|111.099998|115.050003|111.008476|1.439378E8|      1.439378E8|-3.85001|       -3.346|112.57667|      -0.03346|\n",
      "|116.599998|117.279999|114.540001|115.489998|116.399178| 9.22768E7|       9.22768E7|    1.11|        0.961|   116.14|       0.00961|\n",
      "|115.050003|116.550003|112.879997|114.010002|114.851852|1.118507E8|      1.118507E8|    1.04|        0.912|114.82667|       0.00912|\n",
      "|115.040001|116.550003|114.279999|116.389999|114.841873| 8.25726E7|       8.25726E7|   -1.35|        -1.16|   115.29|       -0.0116|\n",
      "|    115.75|118.040001|114.589996|117.449997|115.550644| 1.01988E8|       1.01988E8|    -1.7|       -1.447|116.12667|      -0.01447|\n",
      "|116.870003|118.709999|116.449997|116.669998|116.668724|  8.9946E7|        8.9946E7|     0.2|        0.171|117.34333|       0.00171|\n",
      "|117.510002|118.980003|115.629997|116.199997|117.307617|1.244237E8|      1.244237E8| 1.31001|        1.127|117.37333|       0.01127|\n",
      "|115.980003|120.419998|115.660004|119.959999|115.780251|1.206393E8|      1.206393E8|   -3.98|       -3.318|117.35334|      -0.03318|\n",
      "|119.019997|121.550003|118.809998|121.279999| 118.81501|1.153938E8|      1.153938E8|   -2.26|       -1.863|119.79333|      -0.01863|\n",
      "|120.709999|121.199997|118.150002|118.720001|120.502106|1.125592E8|      1.125592E8|    1.99|        1.676|   120.02|       0.01676|\n",
      "|121.190002|123.029999|119.620003|     121.0|120.981277|1.510623E8|      1.510623E8|    0.19|        0.157|   121.28|       0.00157|\n",
      "+----------+----------+----------+----------+----------+----------+----------------+--------+-------------+---------+--------------+\n",
      "only showing top 20 rows\n",
      "\n"
     ]
    }
   ],
   "source": [
    "dataset.printSchema()\n",
    "dataset.show()"
   ]
  },
  {
   "cell_type": "markdown",
   "metadata": {},
   "source": [
    "### Split data into train and test sets and normalize \n",
    "\n",
    "We indicate 70% for training and 30% for test. `randomSplit` normalizes the data."
   ]
  },
  {
   "cell_type": "code",
   "execution_count": 6,
   "metadata": {},
   "outputs": [
    {
     "name": "stdout",
     "output_type": "stream",
     "text": [
      "+--------+\n",
      "|   label|\n",
      "+--------+\n",
      "|0.116629|\n",
      "|0.117188|\n",
      "|0.117188|\n",
      "|0.117188|\n",
      "|0.117746|\n",
      "|0.118304|\n",
      "|0.118862|\n",
      "|0.118862|\n",
      "| 0.12221|\n",
      "|0.122768|\n",
      "+--------+\n",
      "only showing top 10 rows\n",
      "\n",
      "None\n"
     ]
    }
   ],
   "source": [
    "# Split the data into training and test sets (30% held out for testing)\n",
    "(trainingData, testData) = dataset.randomSplit([0.7, 0.3])\n",
    "print(trainingData.select(\"label\").show(10))"
   ]
  },
  {
   "cell_type": "markdown",
   "metadata": {},
   "source": [
    "### Training\n",
    "Spark models need the data as a svmformat, then we have to do a transformation. We need a feartures vector. We have to create a `VectorAssembler` and we indicates the features columns."
   ]
  },
  {
   "cell_type": "code",
   "execution_count": 7,
   "metadata": {},
   "outputs": [
    {
     "data": {
      "text/plain": [
       "VectorAssembler_3b87d73a83b8"
      ]
     },
     "execution_count": 7,
     "metadata": {},
     "output_type": "execute_result"
    }
   ],
   "source": [
    "feature_list = []\n",
    "for col in dataset.columns:\n",
    "    if col == 'label':\n",
    "        continue\n",
    "    else:\n",
    "        feature_list.append(col)\n",
    "\n",
    "assembler = VectorAssembler(inputCols=feature_list, outputCol=\"features\")\n",
    "assembler"
   ]
  },
  {
   "cell_type": "markdown",
   "metadata": {},
   "source": [
    "Creating a model. We have to indicate features and taget (label)."
   ]
  },
  {
   "cell_type": "code",
   "execution_count": 8,
   "metadata": {},
   "outputs": [],
   "source": [
    "#lr = LinearRegression(maxIter=10, regParam=0.3, elasticNetParam=0.8)\n",
    "lr = LinearRegression(featuresCol = 'features', labelCol = 'label',)"
   ]
  },
  {
   "cell_type": "markdown",
   "metadata": {},
   "source": [
    "We put in a workflow the vector assembler and the model into a ML pipeline. First getting the features vector and next training the model."
   ]
  },
  {
   "cell_type": "code",
   "execution_count": 9,
   "metadata": {},
   "outputs": [],
   "source": [
    "# Now, we put our simple, two-stage workflow into an ML pipeline.\n",
    "pipeline = Pipeline(stages=[assembler, lr])"
   ]
  },
  {
   "cell_type": "markdown",
   "metadata": {},
   "source": [
    "We prepared `ParamGridBuilder`, builder for a param grid used in grid search-based model selection and find the best configuration. we indicate `maxIter`, `regParam` and `elasticNetParam`."
   ]
  },
  {
   "cell_type": "code",
   "execution_count": 10,
   "metadata": {},
   "outputs": [],
   "source": [
    "paramGrid = ParamGridBuilder() \\\n",
    "    .addGrid(lr.maxIter, [int(x) for x in np.linspace(start = 5, stop = 30, num = 6)]) \\\n",
    "    .addGrid(lr.regParam, [float(x) for x in np.linspace(start = 0.1, stop = 0.9, num = 4)]) \\\n",
    "    .addGrid(lr.elasticNetParam, [float(x) for x in np.linspace(start = 0.01, stop = 1.0, num = 6)]) \\\n",
    "    .build()\n",
    "    #.addGrid(rf.maxBins, [int(x) for x in np.linspace(start = 32, stop = 64, num = 3)]) \\\n",
    "    "
   ]
  },
  {
   "cell_type": "markdown",
   "metadata": {},
   "source": [
    "Cross Validation, we indicate model, paramGrid and evaluator. To evaluate we need a evaluator with metrics, since we are faced with a regression problem, we use root-mean-square error (rmse) as a metric."
   ]
  },
  {
   "cell_type": "code",
   "execution_count": 13,
   "metadata": {},
   "outputs": [],
   "source": [
    "#evaluator\n",
    "evaluator = RegressionEvaluator(labelCol=\"label\", predictionCol=\"prediction\", metricName=\"rmse\")\n",
    "\n",
    "#crossvalidation\n",
    "crossval = CrossValidator(estimator=pipeline,\n",
    "                          estimatorParamMaps=paramGrid,\n",
    "                          evaluator=evaluator,\n",
    "                          numFolds=3)"
   ]
  },
  {
   "cell_type": "markdown",
   "metadata": {},
   "source": [
    "We train using corss validaton fit."
   ]
  },
  {
   "cell_type": "code",
   "execution_count": 14,
   "metadata": {},
   "outputs": [],
   "source": [
    "cvModel = crossval.fit(trainingData)"
   ]
  },
  {
   "cell_type": "markdown",
   "metadata": {},
   "source": [
    "### Evaluation\n",
    "\n",
    "We have to get predictions from test data."
   ]
  },
  {
   "cell_type": "code",
   "execution_count": 15,
   "metadata": {},
   "outputs": [],
   "source": [
    "predictions = cvModel.transform(testData)"
   ]
  },
  {
   "cell_type": "code",
   "execution_count": 16,
   "metadata": {},
   "outputs": [
    {
     "name": "stdout",
     "output_type": "stream",
     "text": [
      "+-------------------+--------+--------------------+\n",
      "|         prediction|   label|            features|\n",
      "+-------------------+--------+--------------------+\n",
      "|0.21688794710431564|0.115513|[0.118862,0.11551...|\n",
      "|0.21532268841790503|0.117746|[0.119978,0.11383...|\n",
      "|0.21618458456185324| 0.12221|[0.123884,0.11830...|\n",
      "| 0.2158955274016489| 0.12221|[0.123884,0.12165...|\n",
      "|0.21866217142432592|0.123326|[0.127232,0.12276...|\n",
      "|0.21855180592060824|0.124442|[0.127232,0.12276...|\n",
      "|0.22146822437200225|0.127232|[0.131696,0.125,0...|\n",
      "|0.22422533639000491|0.130022|[0.130022,0.12388...|\n",
      "| 0.2260107170345097|0.131696|[0.134487,0.12946...|\n",
      "|0.22960068228781266|0.135045|[0.137277,0.13392...|\n",
      "+-------------------+--------+--------------------+\n",
      "only showing top 10 rows\n",
      "\n",
      "None\n",
      "+--------+\n",
      "|   label|\n",
      "+--------+\n",
      "|0.116629|\n",
      "|0.117188|\n",
      "|0.117188|\n",
      "|0.117188|\n",
      "|0.117746|\n",
      "|0.118304|\n",
      "|0.118862|\n",
      "|0.118862|\n",
      "| 0.12221|\n",
      "|0.122768|\n",
      "+--------+\n",
      "only showing top 10 rows\n",
      "\n",
      "None\n"
     ]
    }
   ],
   "source": [
    "print(predictions.select(\"prediction\", \"label\", \"features\").show(10))\n",
    "print(trainingData.select(\"label\").show(10))"
   ]
  },
  {
   "cell_type": "markdown",
   "metadata": {},
   "source": [
    "We evaluate the predictions and show the results. We shoe real price to predicition price. A diagonal would be the perfect target."
   ]
  },
  {
   "cell_type": "code",
   "execution_count": 18,
   "metadata": {},
   "outputs": [
    {
     "data": {
      "image/png": "[encoded data removed]",
      "text/plain": [
       "<Figure size 432x288 with 1 Axes>"
      ]
     },
     "metadata": {
      "needs_background": "light"
     },
     "output_type": "display_data"
    },
    {
     "name": "stdout",
     "output_type": "stream",
     "text": [
      "RMSE: 0.15948897095260517\n"
     ]
    }
   ],
   "source": [
    "rmse = evaluator.evaluate(predictions)\n",
    "\n",
    "rfPred = cvModel.transform(dataset)\n",
    "\n",
    "rfResult = rfPred.toPandas()\n",
    "\n",
    "plt.plot(rfResult.label, rfResult.prediction, 'bo')\n",
    "plt.xlabel('Close price')\n",
    "plt.ylabel('Prediction')\n",
    "plt.suptitle(\"Model Performance RMSE: %f\" % rmse)\n",
    "plt.show()\n",
    "\n",
    "print(\"RMSE:\",rmse)"
   ]
  },
  {
   "cell_type": "markdown",
   "metadata": {},
   "source": [
    "#### Best Model\n",
    "\n",
    "To get the best model we need to obtain from pipeline. First VectorFeatures, second model.\n"
   ]
  },
  {
   "cell_type": "code",
   "execution_count": 20,
   "metadata": {},
   "outputs": [],
   "source": [
    "bestPipeline = cvModel.bestModel\n",
    "bestModel = bestPipeline.stages[1]"
   ]
  },
  {
   "cell_type": "code",
   "execution_count": 21,
   "metadata": {},
   "outputs": [
    {
     "data": {
      "text/plain": [
       "0.1"
      ]
     },
     "execution_count": 21,
     "metadata": {},
     "output_type": "execute_result"
    }
   ],
   "source": [
    "bestModel.getRegParam()"
   ]
  },
  {
   "cell_type": "code",
   "execution_count": 22,
   "metadata": {},
   "outputs": [
    {
     "data": {
      "text/plain": [
       "30"
      ]
     },
     "execution_count": 22,
     "metadata": {},
     "output_type": "execute_result"
    }
   ],
   "source": [
    "bestModel.getMaxIter()"
   ]
  },
  {
   "cell_type": "code",
   "execution_count": 23,
   "metadata": {},
   "outputs": [
    {
     "data": {
      "text/plain": [
       "0.01"
      ]
     },
     "execution_count": 23,
     "metadata": {},
     "output_type": "execute_result"
    }
   ],
   "source": [
    "bestModel.getElasticNetParam()"
   ]
  },
  {
   "cell_type": "markdown",
   "metadata": {},
   "source": [
    "#### Summarize the model"
   ]
  },
  {
   "cell_type": "code",
   "execution_count": 24,
   "metadata": {},
   "outputs": [
    {
     "name": "stdout",
     "output_type": "stream",
     "text": [
      "Coefficients: [0.19892982687060917,0.20493343282857981,0.20257305006588788,0.1938354804702056,1.0962413720382345e-11,1.0962413720382345e-11,0.46115902642607415,-0.00012180894778695074,0.20234570244977448,-0.012180894778696529]\n",
      "Intercept: 0.09324610959648084\n"
     ]
    }
   ],
   "source": [
    "# Print the coefficients and intercept for linear regression\n",
    "print(\"Coefficients: %s\" % str(bestModel.coefficients))\n",
    "print(\"Intercept: %s\" % str(bestModel.intercept))"
   ]
  },
  {
   "cell_type": "code",
   "execution_count": 25,
   "metadata": {},
   "outputs": [
    {
     "name": "stdout",
     "output_type": "stream",
     "text": [
      "numIterations: 31\n",
      "objectiveHistory: [0.5, 0.39324992652272595, 0.10073515583586208, 0.0013974616181290918, 0.0009142369130416191, 0.0005690136112889827, 0.0005681052449030109, 0.0005680353307852856, 0.0005679603307449621, 0.0005679096283944794, 0.0005677963239654106, 0.0005677457965447297, 0.0005677283528046211, 0.0005675882150538362, 0.0005675696163935129, 0.0005674247455380087, 0.0005674033543691116, 0.000567259074738329, 0.0005672367769325538, 0.0005670877423557945, 0.0005670037762375569, 0.0005669747718277492, 0.0005669423847161198, 0.0005665654770599142, 0.0005664701015809959, 0.0005664437287348064, 0.0005664103035757392, 0.0005663852212796947, 0.000566351794223847, 0.0005663279757662025, 0.0005662945713630292]\n",
      "+--------------------+\n",
      "|           residuals|\n",
      "+--------------------+\n",
      "| -0.0964617254725857|\n",
      "|-0.09266018200456329|\n",
      "|-0.09661149627805236|\n",
      "|-0.10010928305016166|\n",
      "|   -0.10169356060448|\n",
      "|-0.10047655006938756|\n",
      "| -0.0922913308554317|\n",
      "|-0.09494478707134743|\n",
      "|-0.09347018542875217|\n",
      "|-0.09280570088170977|\n",
      "|-0.09493984674637627|\n",
      "| -0.0973690341803683|\n",
      "|-0.09484535963924895|\n",
      "|-0.09385230925992996|\n",
      "|-0.09374357460491936|\n",
      "|-0.09909246219689474|\n",
      "|-0.10320878235468897|\n",
      "|-0.09559454966196249|\n",
      "|-0.09279120400991223|\n",
      "|-0.09267374021833594|\n",
      "+--------------------+\n",
      "only showing top 20 rows\n",
      "\n",
      "RMSE: 0.157735\n",
      "r2: 0.999940\n"
     ]
    }
   ],
   "source": [
    "# Summarize the model over the training set and print out some metrics\n",
    "trainingSummary = bestModel.summary\n",
    "print(\"numIterations: %d\" % trainingSummary.totalIterations)\n",
    "print(\"objectiveHistory: %s\" % str(trainingSummary.objectiveHistory))\n",
    "trainingSummary.residuals.show()\n",
    "print(\"RMSE: %f\" % trainingSummary.rootMeanSquaredError)\n",
    "print(\"r2: %f\" % trainingSummary.r2)"
   ]
  }
 ],
 "metadata": {
  "kernelspec": {
   "display_name": "Python 3",
   "language": "python",
   "name": "python3"
  },
  "language_info": {
   "codemirror_mode": {
    "name": "ipython",
    "version": 3
   },
   "file_extension": ".py",
   "mimetype": "text/x-python",
   "name": "python",
   "nbconvert_exporter": "python",
   "pygments_lexer": "ipython3",
   "version": "3.8.3"
  }
 },
 "nbformat": 4,
 "nbformat_minor": 4
}
