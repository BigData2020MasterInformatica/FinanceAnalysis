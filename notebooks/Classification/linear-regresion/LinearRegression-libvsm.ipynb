{
 "cells": [
  {
   "cell_type": "markdown",
   "metadata": {},
   "source": [
    "# Linear Regression\n",
    "\n",
    "### Authors:\n",
    " - Benjamín Vega\n",
    " - Iuliana Illie"
   ]
  },
  {
   "cell_type": "code",
   "execution_count": 3,
   "metadata": {},
   "outputs": [],
   "source": [
    "from pyspark.sql import SparkSession\n",
    "from pyspark.ml import Pipeline\n",
    "from pyspark.ml.regression import RandomForestRegressor\n",
    "from pyspark.ml.feature import VectorIndexer\n",
    "from pyspark.ml.feature import VectorAssembler\n",
    "from pyspark.ml.evaluation import RegressionEvaluator\n",
    "\n",
    "from pyspark.sql import SparkSession\n",
    "from pyspark.ml.regression import LinearRegression\n",
    "from pyspark.ml.evaluation import RegressionEvaluator\n",
    "from pyspark.ml.regression import GBTRegressor\n",
    "\n",
    "from pyspark.ml.tuning import CrossValidator\n",
    "from pyspark.ml.evaluation import RegressionEvaluator\n",
    "from pyspark.ml.tuning import ParamGridBuilder\n",
    "import numpy as np\n",
    "from pyspark.ml.tuning import CrossValidator\n",
    "\n",
    "import matplotlib.pyplot as plt"
   ]
  },
  {
   "cell_type": "code",
   "execution_count": 4,
   "metadata": {},
   "outputs": [],
   "source": [
    "spark_session = SparkSession\\\n",
    "        .builder\\\n",
    "        .appName(\"Spark Regression\")\\\n",
    "        .getOrCreate()"
   ]
  },
  {
   "cell_type": "markdown",
   "metadata": {},
   "source": [
    "### Load data in libsvm format\n",
    "\n",
    "We use libsvm format because spark get better results. The format is: Label, features vector named from 1 to n being n the number of features."
   ]
  },
  {
   "cell_type": "code",
   "execution_count": 5,
   "metadata": {},
   "outputs": [],
   "source": [
    "# Load and parse the data file, converting it to a DataFrame.\n",
    "data = spark_session.read.format(\"libsvm\").load(\"data/data_file.txt\")"
   ]
  },
  {
   "cell_type": "code",
   "execution_count": 6,
   "metadata": {},
   "outputs": [
    {
     "name": "stdout",
     "output_type": "stream",
     "text": [
      "+----------+--------------------+\n",
      "|     label|            features|\n",
      "+----------+--------------------+\n",
      "|115.970001|(10,[0,1,2,3,4,5,...|\n",
      "|    116.32|(10,[0,1,2,3,4,5,...|\n",
      "|118.690002|(10,[0,1,2,3,4,5,...|\n",
      "|119.029999|(10,[0,1,2,3,4,5,...|\n",
      "|114.949997|(10,[0,1,2,3,4,5,...|\n",
      "|110.440002|(10,[0,1,2,3,4,5,...|\n",
      "|108.769997|(10,[0,1,2,3,4,5,...|\n",
      "|108.860001|(10,[0,1,2,3,4,5,...|\n",
      "|    115.32|(10,[0,1,2,3,4,5,...|\n",
      "|111.199997|(10,[0,1,2,3,4,5,...|\n",
      "|116.599998|(10,[0,1,2,3,4,5,...|\n",
      "|115.050003|(10,[0,1,2,3,4,5,...|\n",
      "|115.040001|(10,[0,1,2,3,4,5,...|\n",
      "|    115.75|(10,[0,1,2,3,4,5,...|\n",
      "|116.870003|(10,[0,1,2,3,4,5,...|\n",
      "|117.510002|(10,[0,1,2,3,4,5,...|\n",
      "|115.980003|(10,[0,1,2,3,4,5,...|\n",
      "|119.019997|(10,[0,1,2,3,4,5,...|\n",
      "|120.709999|(10,[0,1,2,3,4,5,...|\n",
      "|121.190002|(10,[0,1,2,3,4,5,...|\n",
      "+----------+--------------------+\n",
      "only showing top 20 rows\n",
      "\n"
     ]
    }
   ],
   "source": [
    "data.show()"
   ]
  },
  {
   "cell_type": "markdown",
   "metadata": {},
   "source": [
    "### Split data into train and test sets and normalize \n",
    "\n",
    "We indicate 70% for training and 30% for test. `randomSplit` normalizes the data."
   ]
  },
  {
   "cell_type": "code",
   "execution_count": 7,
   "metadata": {},
   "outputs": [
    {
     "name": "stdout",
     "output_type": "stream",
     "text": [
      "+--------+\n",
      "|   label|\n",
      "+--------+\n",
      "|0.115513|\n",
      "|0.116629|\n",
      "|0.117188|\n",
      "|0.117188|\n",
      "|0.117746|\n",
      "|0.117746|\n",
      "|0.118304|\n",
      "|0.118862|\n",
      "| 0.12221|\n",
      "| 0.12221|\n",
      "+--------+\n",
      "only showing top 10 rows\n",
      "\n",
      "None\n"
     ]
    }
   ],
   "source": [
    "# Split the data into training and test sets (30% held out for testing)\n",
    "(trainingData, testData) = data.randomSplit([0.7, 0.3])\n",
    "print(trainingData.select(\"label\").show(10))"
   ]
  },
  {
   "cell_type": "markdown",
   "metadata": {},
   "source": [
    "### Training\n",
    "\n",
    "Creating a model. We have to indicate features and taget (label)."
   ]
  },
  {
   "cell_type": "code",
   "execution_count": 8,
   "metadata": {},
   "outputs": [],
   "source": [
    "# Train model.\n",
    "#lr = LinearRegression(maxIter=10, regParam=0.3, elasticNetParam=0.8)\n",
    "lr = LinearRegression(featuresCol = 'features', labelCol = 'label',)"
   ]
  },
  {
   "cell_type": "markdown",
   "metadata": {},
   "source": [
    "We prepared `ParamGridBuilder`, builder for a param grid used in grid search-based model selection and find the best configuration. we indicate `maxIter`, `regParam` and `elasticNetParam`."
   ]
  },
  {
   "cell_type": "code",
   "execution_count": 9,
   "metadata": {},
   "outputs": [],
   "source": [
    "paramGrid = ParamGridBuilder() \\\n",
    "    .addGrid(lr.maxIter, [int(x) for x in np.linspace(start = 5, stop = 30, num = 6)]) \\\n",
    "    .addGrid(lr.regParam, [float(x) for x in np.linspace(start = 0.1, stop = 0.9, num = 4)]) \\\n",
    "    .addGrid(lr.elasticNetParam, [float(x) for x in np.linspace(start = 0.01, stop = 1.0, num = 6)]) \\\n",
    "    .build()"
   ]
  },
  {
   "cell_type": "markdown",
   "metadata": {},
   "source": [
    "Cross Validation, we indicate model, paramGrid and evaluator. To evaluate we need a evaluator with metrics, since we are faced with a regression problem, we use root-mean-square error (rmse) as a metric."
   ]
  },
  {
   "cell_type": "code",
   "execution_count": 10,
   "metadata": {},
   "outputs": [],
   "source": [
    "#evaluator for regression, need label, prediction and metric\n",
    "evaluator = RegressionEvaluator(labelCol=\"label\", predictionCol=\"prediction\", metricName=\"rmse\")\n",
    "\n",
    "#cross validation\n",
    "crossval = CrossValidator(estimator=lr,\n",
    "                          estimatorParamMaps=paramGrid,\n",
    "                          evaluator=evaluator,\n",
    "                          numFolds=3)"
   ]
  },
  {
   "cell_type": "markdown",
   "metadata": {},
   "source": [
    "We train using cross validaton to fit."
   ]
  },
  {
   "cell_type": "code",
   "execution_count": 11,
   "metadata": {},
   "outputs": [],
   "source": [
    "cvModel = crossval.fit(trainingData)"
   ]
  },
  {
   "cell_type": "markdown",
   "metadata": {},
   "source": [
    "### Evaluation\n",
    "\n",
    "We have to get predictions from test data."
   ]
  },
  {
   "cell_type": "code",
   "execution_count": 12,
   "metadata": {},
   "outputs": [],
   "source": [
    "predictions = cvModel.transform(testData)"
   ]
  },
  {
   "cell_type": "code",
   "execution_count": 13,
   "metadata": {},
   "outputs": [
    {
     "name": "stdout",
     "output_type": "stream",
     "text": [
      "+-------------------+--------+--------------------+\n",
      "|         prediction|   label|            features|\n",
      "+-------------------+--------+--------------------+\n",
      "|0.21653024074319616|0.117188|(10,[0,1,2,3,4,5,...|\n",
      "|0.21173280874186057|0.118862|(10,[0,1,2,3,4,5,...|\n",
      "|0.21830109234224127|0.123326|(10,[0,1,2,3,4,5,...|\n",
      "|0.21815775138583063|0.124442|(10,[0,1,2,3,4,5,...|\n",
      "|0.22054404624469015|0.127232|(10,[0,1,2,3,4,5,...|\n",
      "|0.23106717442150315|0.136161|(10,[0,1,2,3,4,5,...|\n",
      "|0.22988346945507582|0.137277|(10,[0,1,2,3,4,5,...|\n",
      "|0.23673581413316375|0.139509|(10,[0,1,2,3,4,5,...|\n",
      "|0.24096963180637465|0.142857|(10,[0,1,2,3,4,5,...|\n",
      "|0.23503935401304915|0.143415|(10,[0,1,2,3,4,5,...|\n",
      "+-------------------+--------+--------------------+\n",
      "only showing top 10 rows\n",
      "\n"
     ]
    }
   ],
   "source": [
    "predictions.select(\"prediction\", \"label\", \"features\").show(10)"
   ]
  },
  {
   "cell_type": "markdown",
   "metadata": {},
   "source": [
    "We evaluate the predictions and show the results."
   ]
  },
  {
   "cell_type": "code",
   "execution_count": 14,
   "metadata": {},
   "outputs": [
    {
     "data": {
      "image/png": "[encoded data removed]",
      "text/plain": [
       "<Figure size 432x288 with 1 Axes>"
      ]
     },
     "metadata": {
      "needs_background": "light"
     },
     "output_type": "display_data"
    },
    {
     "name": "stdout",
     "output_type": "stream",
     "text": [
      "RMSE 0.15526175974146744\n",
      "           label                                           features  \\\n",
      "0       0.117188  (0.121652, 0.115513, 0.117188, 0.101266, 40635...   \n",
      "1       0.118862  (0.11942, 0.116071, 0.116629, 0.102713, 107878...   \n",
      "2       0.123326  (0.127232, 0.122768, 0.124442, 0.106571, 19147...   \n",
      "3       0.124442  (0.127232, 0.122768, 0.126116, 0.107535, 16589...   \n",
      "4       0.127232  (0.131696, 0.125, 0.131696, 0.109946, 17118080...   \n",
      "...          ...                                                ...   \n",
      "2309  118.275002  (118.392502, 115.732498, 115.75, 118.275002, 1...   \n",
      "2310  119.029999  (119.620003, 116.870003, 117.949997, 118.82499...   \n",
      "2311  121.190002  (123.029999, 119.620003, 121.0, 120.981277, 15...   \n",
      "2312  126.522499  (126.9925, 125.082497, 126.18, 126.522499, 163...   \n",
      "2313  129.039993  (131.0, 126.0, 127.580002, 129.039993, 2257027...   \n",
      "\n",
      "      prediction  \n",
      "0       0.216530  \n",
      "1       0.211733  \n",
      "2       0.218301  \n",
      "3       0.218158  \n",
      "4       0.220544  \n",
      "...          ...  \n",
      "2309  118.679636  \n",
      "2310  119.247006  \n",
      "2311  121.673110  \n",
      "2312  126.768674  \n",
      "2313  129.550534  \n",
      "\n",
      "[2314 rows x 3 columns]\n"
     ]
    }
   ],
   "source": [
    "#Evaluate predicctions\n",
    "rmse = evaluator.evaluate(predictions)\n",
    "\n",
    "#print results\n",
    "rfResult = predictions.toPandas()\n",
    "\n",
    "plt.plot(rfResult.label, rfResult.prediction, 'bo')\n",
    "plt.xlabel('Close price')\n",
    "plt.ylabel('Prediction')\n",
    "plt.suptitle(\"Model Performance RMSE: %f\" % rmse)\n",
    "plt.show()\n",
    "\n",
    "print(\"RMSE\",rmse)\n",
    "print(rfResult)"
   ]
  },
  {
   "cell_type": "markdown",
   "metadata": {},
   "source": [
    "#### Best model and best params"
   ]
  },
  {
   "cell_type": "code",
   "execution_count": 15,
   "metadata": {},
   "outputs": [],
   "source": [
    "bestModel = cvModel.bestModel"
   ]
  },
  {
   "cell_type": "code",
   "execution_count": 16,
   "metadata": {},
   "outputs": [
    {
     "data": {
      "text/plain": [
       "0.1"
      ]
     },
     "execution_count": 16,
     "metadata": {},
     "output_type": "execute_result"
    }
   ],
   "source": [
    "bestModel.getRegParam()"
   ]
  },
  {
   "cell_type": "code",
   "execution_count": 17,
   "metadata": {},
   "outputs": [
    {
     "data": {
      "text/plain": [
       "25"
      ]
     },
     "execution_count": 17,
     "metadata": {},
     "output_type": "execute_result"
    }
   ],
   "source": [
    "bestModel.getMaxIter()"
   ]
  },
  {
   "cell_type": "code",
   "execution_count": 18,
   "metadata": {},
   "outputs": [
    {
     "data": {
      "text/plain": [
       "0.01"
      ]
     },
     "execution_count": 18,
     "metadata": {},
     "output_type": "execute_result"
    }
   ],
   "source": [
    "bestModel.getElasticNetParam()"
   ]
  },
  {
   "cell_type": "markdown",
   "metadata": {},
   "source": [
    "#### Best coeficients "
   ]
  },
  {
   "cell_type": "code",
   "execution_count": 19,
   "metadata": {},
   "outputs": [
    {
     "name": "stdout",
     "output_type": "stream",
     "text": [
      "Coefficients: [0.19997004603931887,0.205398790671028,0.20297608564963734,0.19139144188846233,9.498303262846327e-12,9.498303262846327e-12,0.4667784517865622,0.0,0.20284396466603027,0.0]\n",
      "Intercept: 0.09363008717669023\n"
     ]
    }
   ],
   "source": [
    "# Print the coefficients and intercept for linear regression\n",
    "print(\"Coefficients: %s\" % str(bestModel.coefficients))\n",
    "print(\"Intercept: %s\" % str(bestModel.intercept))"
   ]
  },
  {
   "cell_type": "markdown",
   "metadata": {},
   "source": [
    "#### Best model summarize"
   ]
  },
  {
   "cell_type": "code",
   "execution_count": 20,
   "metadata": {},
   "outputs": [
    {
     "name": "stdout",
     "output_type": "stream",
     "text": [
      "numIterations: 26\n",
      "objectiveHistory: [0.5, 0.39329328379924317, 0.1007210332607647, 0.0013974774363986332, 0.0009223132620103973, 0.0005760076824828559, 0.00057366121904267, 0.0005730079509826838, 0.0005728775700857092, 0.0005727912824577024, 0.000572163541102485, 0.000572083849036118, 0.0005720287165253454, 0.0005718545880913117, 0.0005718028252191756, 0.000571637126545505, 0.0005715824618997258, 0.0005714427592287779, 0.0005713624768148117, 0.0005712767513699124, 0.0005711772065268555, 0.0005710462426880477, 0.0005710155576838152, 0.0005708523391118939, 0.0005707573875400505, 0.0005707365488915836]\n",
      "+--------------------+\n",
      "|           residuals|\n",
      "+--------------------+\n",
      "|-0.10009760470555593|\n",
      "|-0.09579646151824718|\n",
      "|-0.09303382162185338|\n",
      "|-0.09586637185342307|\n",
      "|-0.09735395787857322|\n",
      "|-0.09945438737740143|\n",
      "|-0.10017914534419643|\n",
      "|-0.09389020919571658|\n",
      "|-0.09441124853056103|\n",
      "|-0.09406719023384484|\n",
      "|-0.09346430678895105|\n",
      "|-0.09272193797783852|\n",
      "|-0.09443603449441339|\n",
      "|-0.09636359975424591|\n",
      "|-0.09374242120068749|\n",
      "|-0.09428763119542719|\n",
      "|-0.09408695516670404|\n",
      "| -0.0976752537109806|\n",
      "|-0.09370469045746335|\n",
      "|-0.09364877313664996|\n",
      "+--------------------+\n",
      "only showing top 20 rows\n",
      "\n",
      "RMSE: 0.157180\n",
      "r2: 0.999939\n"
     ]
    }
   ],
   "source": [
    "# Summarize the model over the training set and print out some metrics\n",
    "trainingSummary = bestModel.summary\n",
    "print(\"numIterations: %d\" % trainingSummary.totalIterations)\n",
    "print(\"objectiveHistory: %s\" % str(trainingSummary.objectiveHistory))\n",
    "trainingSummary.residuals.show()\n",
    "print(\"RMSE: %f\" % trainingSummary.rootMeanSquaredError)\n",
    "print(\"r2: %f\" % trainingSummary.r2)"
   ]
  },
  {
   "cell_type": "code",
   "execution_count": null,
   "metadata": {},
   "outputs": [],
   "source": []
  }
 ],
 "metadata": {
  "kernelspec": {
   "display_name": "Python 3",
   "language": "python",
   "name": "python3"
  },
  "language_info": {
   "codemirror_mode": {
    "name": "ipython",
    "version": 3
   },
   "file_extension": ".py",
   "mimetype": "text/x-python",
   "name": "python",
   "nbconvert_exporter": "python",
   "pygments_lexer": "ipython3",
   "version": "3.8.3"
  }
 },
 "nbformat": 4,
 "nbformat_minor": 4
}
