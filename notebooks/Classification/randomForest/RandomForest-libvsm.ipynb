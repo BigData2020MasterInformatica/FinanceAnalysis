{
 "cells": [
  {
   "cell_type": "code",
   "execution_count": 1,
   "metadata": {},
   "outputs": [],
   "source": [
    "from pyspark.sql import SparkSession\n",
    "from pyspark.ml import Pipeline\n",
    "from pyspark.ml.regression import RandomForestRegressor\n",
    "from pyspark.ml.feature import VectorIndexer\n",
    "from pyspark.ml.feature import VectorAssembler\n",
    "from pyspark.ml.evaluation import RegressionEvaluator"
   ]
  },
  {
   "cell_type": "code",
   "execution_count": 2,
   "metadata": {},
   "outputs": [],
   "source": [
    "spark_session = SparkSession\\\n",
    "        .builder\\\n",
    "        .appName(\"Spark Regression\")\\\n",
    "        .getOrCreate()"
   ]
  },
  {
   "cell_type": "code",
   "execution_count": null,
   "metadata": {},
   "outputs": [],
   "source": []
  },
  {
   "cell_type": "code",
   "execution_count": 3,
   "metadata": {},
   "outputs": [],
   "source": [
    "# Load and parse the data file, converting it to a DataFrame.\n",
    "data = spark_session.read.format(\"libsvm\").load(\"data/data_file.txt\")\n",
    "#data = spark_session.read.format(\"libsvm\").load(\"data/classificationDataLibsvm.txt\")"
   ]
  },
  {
   "cell_type": "code",
   "execution_count": 4,
   "metadata": {},
   "outputs": [
    {
     "name": "stdout",
     "output_type": "stream",
     "text": [
      "+----------+--------------------+\n",
      "|     label|            features|\n",
      "+----------+--------------------+\n",
      "|115.970001|(10,[0,1,2,3,4,5,...|\n",
      "|    116.32|(10,[0,1,2,3,4,5,...|\n",
      "|118.690002|(10,[0,1,2,3,4,5,...|\n",
      "|119.029999|(10,[0,1,2,3,4,5,...|\n",
      "|114.949997|(10,[0,1,2,3,4,5,...|\n",
      "|110.440002|(10,[0,1,2,3,4,5,...|\n",
      "|108.769997|(10,[0,1,2,3,4,5,...|\n",
      "|108.860001|(10,[0,1,2,3,4,5,...|\n",
      "|    115.32|(10,[0,1,2,3,4,5,...|\n",
      "|111.199997|(10,[0,1,2,3,4,5,...|\n",
      "|116.599998|(10,[0,1,2,3,4,5,...|\n",
      "|115.050003|(10,[0,1,2,3,4,5,...|\n",
      "|115.040001|(10,[0,1,2,3,4,5,...|\n",
      "|    115.75|(10,[0,1,2,3,4,5,...|\n",
      "|116.870003|(10,[0,1,2,3,4,5,...|\n",
      "|117.510002|(10,[0,1,2,3,4,5,...|\n",
      "|115.980003|(10,[0,1,2,3,4,5,...|\n",
      "|119.019997|(10,[0,1,2,3,4,5,...|\n",
      "|120.709999|(10,[0,1,2,3,4,5,...|\n",
      "|121.190002|(10,[0,1,2,3,4,5,...|\n",
      "+----------+--------------------+\n",
      "only showing top 20 rows\n",
      "\n"
     ]
    }
   ],
   "source": [
    "data.show()"
   ]
  },
  {
   "cell_type": "code",
   "execution_count": 280,
   "metadata": {},
   "outputs": [],
   "source": [
    "# Automatically identify categorical features, and index them.\n",
    "# Set maxCategories so features with > 4 distinct values are treated as continuous.\n",
    "#featureIndexer =\\\n",
    "#    VectorIndexer(inputCol=\"features\", outputCol=\"indexedFeatures\", maxCategories=4).fit(data)"
   ]
  },
  {
   "cell_type": "code",
   "execution_count": 5,
   "metadata": {},
   "outputs": [
    {
     "name": "stdout",
     "output_type": "stream",
     "text": [
      "+--------+\n",
      "|   label|\n",
      "+--------+\n",
      "|0.115513|\n",
      "|0.116629|\n",
      "|0.117188|\n",
      "|0.117188|\n",
      "|0.117746|\n",
      "|0.117746|\n",
      "|0.118862|\n",
      "|0.118862|\n",
      "| 0.12221|\n",
      "| 0.12221|\n",
      "+--------+\n",
      "only showing top 10 rows\n",
      "\n",
      "None\n"
     ]
    }
   ],
   "source": [
    "# Split the data into training and test sets (30% held out for testing)\n",
    "#(trainingData, testData) = data.randomSplit([0.7, 0.3]) \n",
    "#(trainingData, testData) = l1NormData.randomSplit([0.7, 0.3])\n",
    "(trainingData, testData) = data.randomSplit([0.7, 0.3])\n",
    "print(trainingData.select(\"label\").show(10))"
   ]
  },
  {
   "cell_type": "code",
   "execution_count": 6,
   "metadata": {},
   "outputs": [],
   "source": [
    "# Train a RandomForest model.\n",
    "#rf = RandomForestRegressor(featuresCol=\"indexedFeatures\", numTrees=100, featureSubsetStrategy=\"auto\",impurity='variance', maxDepth=20, maxBins=32)\n",
    "rf = RandomForestRegressor(numTrees=15, featureSubsetStrategy=\"auto\",\n",
    "                                    impurity='variance', maxDepth=10, maxBins=64)"
   ]
  },
  {
   "cell_type": "code",
   "execution_count": 151,
   "metadata": {},
   "outputs": [],
   "source": [
    "# Chain indexer and forest in a Pipeline\n",
    "#pipeline = Pipeline(stages=[featureIndexer, rf])"
   ]
  },
  {
   "cell_type": "code",
   "execution_count": 7,
   "metadata": {},
   "outputs": [],
   "source": [
    "# Train model.  This also runs the indexer.\n",
    "#model = pipeline.fit(trainingData)\n",
    "model = rf.fit(trainingData)"
   ]
  },
  {
   "cell_type": "code",
   "execution_count": 8,
   "metadata": {},
   "outputs": [],
   "source": [
    "# Make predictions.\n",
    "predictions = model.transform(testData)"
   ]
  },
  {
   "cell_type": "code",
   "execution_count": 9,
   "metadata": {},
   "outputs": [
    {
     "name": "stdout",
     "output_type": "stream",
     "text": [
      "+-------------------+--------+--------------------+\n",
      "|         prediction|   label|            features|\n",
      "+-------------------+--------+--------------------+\n",
      "| 0.1402073561270322|0.117188|(10,[0,1,2,3,4,5,...|\n",
      "|0.14004418313817582|0.118304|(10,[0,1,2,3,4,5,...|\n",
      "|0.14300684896515223|0.122768|(10,[0,1,2,3,4,5,...|\n",
      "|0.14072389407575014|0.123326|(10,[0,1,2,3,4,5,...|\n",
      "|0.14072389407575014|0.123326|(10,[0,1,2,3,4,5,...|\n",
      "+-------------------+--------+--------------------+\n",
      "only showing top 5 rows\n",
      "\n"
     ]
    }
   ],
   "source": [
    "# Select example rows to display.\n",
    "predictions.select(\"prediction\", \"label\", \"features\").show(5)"
   ]
  },
  {
   "cell_type": "code",
   "execution_count": 10,
   "metadata": {},
   "outputs": [
    {
     "name": "stdout",
     "output_type": "stream",
     "text": [
      "Root Mean Squared Error (RMSE) on test data = 1.54799\n"
     ]
    }
   ],
   "source": [
    "# Select (prediction, true label) and compute test error\n",
    "evaluator = RegressionEvaluator(\n",
    "    labelCol=\"label\", predictionCol=\"prediction\", metricName=\"rmse\")\n",
    "rmse = evaluator.evaluate(predictions)\n",
    "print(\"Root Mean Squared Error (RMSE) on test data = %g\" % rmse)\n"
   ]
  },
  {
   "cell_type": "code",
   "execution_count": null,
   "metadata": {},
   "outputs": [],
   "source": []
  },
  {
   "cell_type": "code",
   "execution_count": 11,
   "metadata": {},
   "outputs": [
    {
     "data": {
      "image/png": "[encoded data removed]",
      "text/plain": [
       "<Figure size 432x288 with 1 Axes>"
      ]
     },
     "metadata": {
      "needs_background": "light"
     },
     "output_type": "display_data"
    },
    {
     "name": "stdout",
     "output_type": "stream",
     "text": [
      "1.547988912787859\n"
     ]
    }
   ],
   "source": [
    "import matplotlib.pyplot as plt\n",
    "\n",
    "rfPred = model.transform(data)\n",
    "\n",
    "rfResult = rfPred.toPandas()\n",
    "\n",
    "plt.plot(rfResult.label, rfResult.prediction, 'bo')\n",
    "plt.xlabel('Close price')\n",
    "plt.ylabel('Prediction')\n",
    "plt.suptitle(\"Model Performance RMSE: %f\" % rmse)\n",
    "plt.show()\n",
    "\n",
    "print(rmse)"
   ]
  },
  {
   "cell_type": "code",
   "execution_count": 12,
   "metadata": {},
   "outputs": [],
   "source": [
    "from pyspark.ml.tuning import ParamGridBuilder\n",
    "import numpy as np\n",
    "\n",
    "paramGrid = ParamGridBuilder() \\\n",
    "    .addGrid(rf.numTrees, [int(x) for x in np.linspace(start = 10, stop = 50, num = 3)]) \\\n",
    "    .addGrid(rf.maxDepth, [int(x) for x in np.linspace(start = 5, stop = 25, num = 3)]) \\\n",
    "    .build()"
   ]
  },
  {
   "cell_type": "code",
   "execution_count": null,
   "metadata": {},
   "outputs": [],
   "source": []
  },
  {
   "cell_type": "code",
   "execution_count": null,
   "metadata": {},
   "outputs": [],
   "source": []
  },
  {
   "cell_type": "code",
   "execution_count": 13,
   "metadata": {},
   "outputs": [],
   "source": [
    "from pyspark.ml.tuning import CrossValidator\n",
    "from pyspark.ml.evaluation import RegressionEvaluator\n",
    "\n",
    "crossval = CrossValidator(estimator=rf,\n",
    "                          estimatorParamMaps=paramGrid,\n",
    "                          evaluator=RegressionEvaluator(),\n",
    "                          numFolds=3)"
   ]
  },
  {
   "cell_type": "code",
   "execution_count": 14,
   "metadata": {},
   "outputs": [],
   "source": [
    "# Split the data into training and test sets (30% held out for testing)\n",
    "(trainingData, testData) = data.randomSplit([0.7, 0.3])"
   ]
  },
  {
   "cell_type": "code",
   "execution_count": 15,
   "metadata": {},
   "outputs": [],
   "source": [
    "cvModel = crossval.fit(trainingData)"
   ]
  },
  {
   "cell_type": "code",
   "execution_count": 16,
   "metadata": {},
   "outputs": [],
   "source": [
    "predictions = cvModel.transform(testData)"
   ]
  },
  {
   "cell_type": "code",
   "execution_count": 17,
   "metadata": {},
   "outputs": [
    {
     "name": "stdout",
     "output_type": "stream",
     "text": [
      "+-------------------+--------+--------------------+\n",
      "|         prediction|   label|            features|\n",
      "+-------------------+--------+--------------------+\n",
      "|0.34670789148658765|0.115513|(10,[0,1,2,3,4,5,...|\n",
      "|0.34670789148658765|0.116629|(10,[0,1,2,3,4,5,...|\n",
      "|0.34670789148658765|0.117188|(10,[0,1,2,3,4,5,...|\n",
      "|0.34670789148658765|0.117746|(10,[0,1,2,3,4,5,...|\n",
      "|0.34670789148658765|0.118304|(10,[0,1,2,3,4,5,...|\n",
      "|0.34670789148658765| 0.12221|(10,[0,1,2,3,4,5,...|\n",
      "|0.34670789148658765|0.122768|(10,[0,1,2,3,4,5,...|\n",
      "|0.34670789148658765|0.124442|(10,[0,1,2,3,4,5,...|\n",
      "|0.34670789148658765| 0.12779|(10,[0,1,2,3,4,5,...|\n",
      "|0.34670789148658765|0.130022|(10,[0,1,2,3,4,5,...|\n",
      "+-------------------+--------+--------------------+\n",
      "only showing top 10 rows\n",
      "\n"
     ]
    }
   ],
   "source": [
    "predictions.select(\"prediction\", \"label\", \"features\").show(10)"
   ]
  },
  {
   "cell_type": "code",
   "execution_count": 18,
   "metadata": {},
   "outputs": [
    {
     "data": {
      "image/png": "[encoded data removed]",
      "text/plain": [
       "<Figure size 432x288 with 1 Axes>"
      ]
     },
     "metadata": {
      "needs_background": "light"
     },
     "output_type": "display_data"
    },
    {
     "name": "stdout",
     "output_type": "stream",
     "text": [
      "1.6137573762952826\n"
     ]
    }
   ],
   "source": [
    "import matplotlib.pyplot as plt\n",
    "\n",
    "evaluator = RegressionEvaluator(labelCol=\"label\", predictionCol=\"prediction\", metricName=\"rmse\")\n",
    "\n",
    "rmse = evaluator.evaluate(predictions)\n",
    "\n",
    "rfPred = cvModel.transform(data)\n",
    "\n",
    "rfResult = rfPred.toPandas()\n",
    "\n",
    "plt.plot(rfResult.label, rfResult.prediction, 'bo')\n",
    "plt.xlabel('Close price')\n",
    "plt.ylabel('Prediction')\n",
    "plt.suptitle(\"Model Performance RMSE: %f\" % rmse)\n",
    "plt.show()\n",
    "\n",
    "print(rmse)"
   ]
  },
  {
   "cell_type": "code",
   "execution_count": 19,
   "metadata": {},
   "outputs": [
    {
     "data": {
      "text/plain": [
       "1.6137573762952826"
      ]
     },
     "execution_count": 19,
     "metadata": {},
     "output_type": "execute_result"
    }
   ],
   "source": [
    "rmse"
   ]
  },
  {
   "cell_type": "code",
   "execution_count": 24,
   "metadata": {},
   "outputs": [
    {
     "data": {
      "text/plain": [
       "Text(0.5, 1.0, 'Feature Importances')"
      ]
     },
     "execution_count": 24,
     "metadata": {},
     "output_type": "execute_result"
    },
    {
     "data": {
      "image/png": "[encoded data removed]",
      "text/plain": [
       "<Figure size 432x288 with 1 Axes>"
      ]
     },
     "metadata": {
      "needs_background": "light"
     },
     "output_type": "display_data"
    }
   ],
   "source": [
    "bestModel = cvModel.bestModel\n",
    "\n",
    "importances = bestModel.featureImportances\n",
    "\n",
    "x_values = list(range(len(importances)))\n",
    "\n",
    "feature_list = ['symbol','date','open',high,low,close,adjClose,volume,unadjustedVolume,change,changePercent,vwap,label,'changeOverTime']\n",
    "\n",
    "plt.bar(x_values, importances, orientation = 'vertical')\n",
    "plt.xticks(x_values, feature_list, rotation=40)\n",
    "plt.ylabel('Importance')\n",
    "plt.xlabel('Feature')\n",
    "plt.title('Feature Importances')"
   ]
  }
 ],
 "metadata": {
  "kernelspec": {
   "display_name": "Python 3",
   "language": "python",
   "name": "python3"
  },
  "language_info": {
   "codemirror_mode": {
    "name": "ipython",
    "version": 3
   },
   "file_extension": ".py",
   "mimetype": "text/x-python",
   "name": "python",
   "nbconvert_exporter": "python",
   "pygments_lexer": "ipython3",
   "version": "3.8.3"
  }
 },
 "nbformat": 4,
 "nbformat_minor": 4
}
