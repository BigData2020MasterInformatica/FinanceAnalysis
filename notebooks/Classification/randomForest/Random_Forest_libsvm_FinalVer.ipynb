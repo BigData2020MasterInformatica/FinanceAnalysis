{
 "cells": [
  {
   "cell_type": "markdown",
   "metadata": {},
   "source": [
    "# Random Forest regressor"
   ]
  },
  {
   "cell_type": "markdown",
   "metadata": {},
   "source": [
    "## Authors:\n",
    "Iuliana Ilie <br>\n",
    "Benjamin Vega"
   ]
  },
  {
   "cell_type": "code",
   "execution_count": 1,
   "metadata": {},
   "outputs": [],
   "source": [
    "from pyspark.sql import SparkSession\n",
    "from pyspark.ml import Pipeline\n",
    "from pyspark.ml.regression import RandomForestRegressor\n",
    "from pyspark.ml.feature import VectorIndexer\n",
    "from pyspark.ml.feature import VectorAssembler\n",
    "from pyspark.ml.evaluation import RegressionEvaluator\n",
    "import pandas as pd\n",
    "import matplotlib.pyplot as plt\n",
    "from pyspark.ml.feature import Normalizer"
   ]
  },
  {
   "cell_type": "markdown",
   "metadata": {},
   "source": [
    "## Load the dataset"
   ]
  },
  {
   "cell_type": "markdown",
   "metadata": {},
   "source": [
    "### Create Spark Session"
   ]
  },
  {
   "cell_type": "code",
   "execution_count": 2,
   "metadata": {},
   "outputs": [],
   "source": [
    "spark_session = SparkSession\\\n",
    "        .builder\\\n",
    "        .appName(\"Spark Regression\")\\\n",
    "        .getOrCreate()"
   ]
  },
  {
   "cell_type": "markdown",
   "metadata": {},
   "source": [
    "### Load and parse the data file, converting it to a DataFrame."
   ]
  },
  {
   "cell_type": "code",
   "execution_count": 3,
   "metadata": {},
   "outputs": [
    {
     "name": "stdout",
     "output_type": "stream",
     "text": [
      "<class 'pyspark.sql.dataframe.DataFrame'>\n"
     ]
    }
   ],
   "source": [
    "data = spark_session.read.format(\"libsvm\").load(\"data_file_AAPL.txt\")\n",
    "print(type(data))"
   ]
  },
  {
   "cell_type": "code",
   "execution_count": 4,
   "metadata": {},
   "outputs": [
    {
     "name": "stdout",
     "output_type": "stream",
     "text": [
      "+----------+--------------------+\n",
      "|     label|            features|\n",
      "+----------+--------------------+\n",
      "|115.970001|(10,[0,1,2,3,4,5,...|\n",
      "|    116.32|(10,[0,1,2,3,4,5,...|\n",
      "|118.690002|(10,[0,1,2,3,4,5,...|\n",
      "|119.029999|(10,[0,1,2,3,4,5,...|\n",
      "|114.949997|(10,[0,1,2,3,4,5,...|\n",
      "|110.440002|(10,[0,1,2,3,4,5,...|\n",
      "|108.769997|(10,[0,1,2,3,4,5,...|\n",
      "|108.860001|(10,[0,1,2,3,4,5,...|\n",
      "|    115.32|(10,[0,1,2,3,4,5,...|\n",
      "|111.199997|(10,[0,1,2,3,4,5,...|\n",
      "|116.599998|(10,[0,1,2,3,4,5,...|\n",
      "|115.050003|(10,[0,1,2,3,4,5,...|\n",
      "|115.040001|(10,[0,1,2,3,4,5,...|\n",
      "|    115.75|(10,[0,1,2,3,4,5,...|\n",
      "|116.870003|(10,[0,1,2,3,4,5,...|\n",
      "|117.510002|(10,[0,1,2,3,4,5,...|\n",
      "|115.980003|(10,[0,1,2,3,4,5,...|\n",
      "|119.019997|(10,[0,1,2,3,4,5,...|\n",
      "|120.709999|(10,[0,1,2,3,4,5,...|\n",
      "|121.190002|(10,[0,1,2,3,4,5,...|\n",
      "+----------+--------------------+\n",
      "only showing top 20 rows\n",
      "\n"
     ]
    }
   ],
   "source": [
    "data.show()"
   ]
  },
  {
   "cell_type": "markdown",
   "metadata": {},
   "source": [
    "## Implement algorithm"
   ]
  },
  {
   "cell_type": "markdown",
   "metadata": {},
   "source": [
    "### Train-test split of dataset"
   ]
  },
  {
   "cell_type": "code",
   "execution_count": 7,
   "metadata": {},
   "outputs": [
    {
     "name": "stdout",
     "output_type": "stream",
     "text": [
      "+--------+--------------------+\n",
      "|   label|            features|\n",
      "+--------+--------------------+\n",
      "|0.115513|(10,[0,1,2,3,4,5,...|\n",
      "|0.116629|(10,[0,1,2,3,4,5,...|\n",
      "|0.117188|(10,[0,1,2,3,4,5,...|\n",
      "|0.117188|(10,[0,1,2,3,4,5,...|\n",
      "|0.117188|(10,[0,1,2,3,4,5,...|\n",
      "|0.118304|(10,[0,1,2,3,4,5,...|\n",
      "|0.118862|(10,[0,1,2,3,4,5,...|\n",
      "|0.118862|(10,[0,1,2,3,4,5,...|\n",
      "| 0.12221|(10,[0,1,2,3,4,5,...|\n",
      "| 0.12221|(10,[0,1,2,3,4,5,...|\n",
      "+--------+--------------------+\n",
      "only showing top 10 rows\n",
      "\n",
      "None\n"
     ]
    }
   ],
   "source": [
    "(trainingData, testData) = data.randomSplit([0.7, 0.3])\n",
    "\n",
    "print(trainingData.show(10))"
   ]
  },
  {
   "cell_type": "markdown",
   "metadata": {},
   "source": [
    "### Create the random forest model"
   ]
  },
  {
   "cell_type": "markdown",
   "metadata": {},
   "source": [
    "numTrees - Number of trees to train <br>\n",
    "impurity - Criterion used for information gain calculation <br>\n",
    "maxDepth - Maximum depth of the tree. E.g., depth 0 means 1 leaf node; depth 1 means 1 internal node + 2 leaf nodes. <br>\n",
    "maxBins - Max number of bins for discretizing continuous features. <br>"
   ]
  },
  {
   "cell_type": "code",
   "execution_count": 8,
   "metadata": {},
   "outputs": [],
   "source": [
    "rf = RandomForestRegressor(numTrees=15, impurity='variance', maxDepth=10, maxBins=64)"
   ]
  },
  {
   "cell_type": "markdown",
   "metadata": {},
   "source": [
    "### Train the model"
   ]
  },
  {
   "cell_type": "code",
   "execution_count": 9,
   "metadata": {},
   "outputs": [
    {
     "data": {
      "text/plain": [
       "RandomForestRegressionModel: uid=RandomForestRegressor_66822d60f6fc, numTrees=15, numFeatures=10"
      ]
     },
     "execution_count": 9,
     "metadata": {},
     "output_type": "execute_result"
    }
   ],
   "source": [
    "model = rf.fit(trainingData)\n",
    "model"
   ]
  },
  {
   "cell_type": "markdown",
   "metadata": {},
   "source": [
    "### Make predictions."
   ]
  },
  {
   "cell_type": "code",
   "execution_count": 10,
   "metadata": {},
   "outputs": [],
   "source": [
    "predictions = model.transform(testData)"
   ]
  },
  {
   "cell_type": "code",
   "execution_count": 12,
   "metadata": {},
   "outputs": [
    {
     "name": "stdout",
     "output_type": "stream",
     "text": [
      "+-------------------+--------+--------------------+\n",
      "|         prediction|   label|            features|\n",
      "+-------------------+--------+--------------------+\n",
      "|0.14103039658314653|0.117746|(10,[0,1,2,3,4,5,...|\n",
      "|0.14157915194374232|0.117746|(10,[0,1,2,3,4,5,...|\n",
      "|0.14103039658314653| 0.12221|(10,[0,1,2,3,4,5,...|\n",
      "|0.14213698290618199|0.122768|(10,[0,1,2,3,4,5,...|\n",
      "|0.14103039658314653|0.123326|(10,[0,1,2,3,4,5,...|\n",
      "|0.14103039658314653|0.130022|(10,[0,1,2,3,4,5,...|\n",
      "|0.14103039658314653|0.131138|(10,[0,1,2,3,4,5,...|\n",
      "| 0.1407149275796192|0.136161|(10,[0,1,2,3,4,5,...|\n",
      "|0.14103039658314653|0.136161|(10,[0,1,2,3,4,5,...|\n",
      "|0.14245245190970932|0.137277|(10,[0,1,2,3,4,5,...|\n",
      "|0.14213698290618199|0.138393|(10,[0,1,2,3,4,5,...|\n",
      "| 0.1407149275796192|0.140625|(10,[0,1,2,3,4,5,...|\n",
      "|0.14213698290618199|0.141183|(10,[0,1,2,3,4,5,...|\n",
      "| 0.1407149275796192|0.141183|(10,[0,1,2,3,4,5,...|\n",
      "|0.14281801945063285|0.141741|(10,[0,1,2,3,4,5,...|\n",
      "|0.14213698290618199|0.142299|(10,[0,1,2,3,4,5,...|\n",
      "|0.14213698290618199|0.143415|(10,[0,1,2,3,4,5,...|\n",
      "|0.14103039658314653|0.143973|(10,[0,1,2,3,4,5,...|\n",
      "|0.14281801945063285|0.144252|(10,[0,1,2,3,4,5,...|\n",
      "|0.14245245190970932|0.145089|(10,[0,1,2,3,4,5,...|\n",
      "|0.14245245190970932|0.147321|(10,[0,1,2,3,4,5,...|\n",
      "|0.14103039658314653|0.147321|(10,[0,1,2,3,4,5,...|\n",
      "|0.14245245190970932|0.147321|(10,[0,1,2,3,4,5,...|\n",
      "| 0.1407149275796192|0.147321|(10,[0,1,2,3,4,5,...|\n",
      "|0.14245245190970932|0.147321|(10,[0,1,2,3,4,5,...|\n",
      "|0.14103039658314653|0.147879|(10,[0,1,2,3,4,5,...|\n",
      "|0.14245245190970932|0.148438|(10,[0,1,2,3,4,5,...|\n",
      "|0.14213698290618199|0.148438|(10,[0,1,2,3,4,5,...|\n",
      "| 0.1407149275796192|0.148438|(10,[0,1,2,3,4,5,...|\n",
      "|0.14245245190970932|0.148996|(10,[0,1,2,3,4,5,...|\n",
      "|0.14245245190970932|0.149554|(10,[0,1,2,3,4,5,...|\n",
      "|0.14281801945063285| 0.15067|(10,[0,1,2,3,4,5,...|\n",
      "|0.16094689654745603|0.151786|(10,[0,1,2,3,4,5,...|\n",
      "| 0.1504193470963095|0.151786|(10,[0,1,2,3,4,5,...|\n",
      "| 0.1510078028951463|0.152065|(10,[0,1,2,3,4,5,...|\n",
      "|0.15951528717644237|0.152344|(10,[0,1,2,3,4,5,...|\n",
      "| 0.1504193470963095|0.152902|(10,[0,1,2,3,4,5,...|\n",
      "|0.16094689654745603| 0.15346|(10,[0,1,2,3,4,5,...|\n",
      "|0.16142584807233565|0.154018|(10,[0,1,2,3,4,5,...|\n",
      "| 0.1595375572565332|0.154018|(10,[0,1,2,3,4,5,...|\n",
      "|0.16094689654745603|0.155134|(10,[0,1,2,3,4,5,...|\n",
      "|0.16094689654745603| 0.15625|(10,[0,1,2,3,4,5,...|\n",
      "|0.16094689654745603| 0.15625|(10,[0,1,2,3,4,5,...|\n",
      "|0.15831771449453036| 0.15625|(10,[0,1,2,3,4,5,...|\n",
      "|0.16031633875362775|0.159598|(10,[0,1,2,3,4,5,...|\n",
      "|0.16094689654745603|0.160714|(10,[0,1,2,3,4,5,...|\n",
      "|0.16094689654745603|0.162388|(10,[0,1,2,3,4,5,...|\n",
      "|0.16105402681629694|0.162388|(10,[0,1,2,3,4,5,...|\n",
      "|0.16094689654745603|0.162946|(10,[0,1,2,3,4,5,...|\n",
      "|0.16094689654745603|0.162946|(10,[0,1,2,3,4,5,...|\n",
      "|0.16105402681629694|0.162946|(10,[0,1,2,3,4,5,...|\n",
      "|0.16094689654745603|0.165179|(10,[0,1,2,3,4,5,...|\n",
      "|0.16094689654745603|0.165179|(10,[0,1,2,3,4,5,...|\n",
      "|0.16094689654745603|0.165179|(10,[0,1,2,3,4,5,...|\n",
      "|0.16094689654745603|0.168806|(10,[0,1,2,3,4,5,...|\n",
      "| 0.1642592914564304|0.169085|(10,[0,1,2,3,4,5,...|\n",
      "|0.16094689654745603|0.169643|(10,[0,1,2,3,4,5,...|\n",
      "|0.16094689654745603|0.169643|(10,[0,1,2,3,4,5,...|\n",
      "|0.16094689654745603|0.170759|(10,[0,1,2,3,4,5,...|\n",
      "|0.18183930918839492|0.172991|(10,[0,1,2,3,4,5,...|\n",
      "|0.16094689654745603|0.173549|(10,[0,1,2,3,4,5,...|\n",
      "|0.19457836910910706|0.176339|(10,[0,1,2,3,4,5,...|\n",
      "|0.19392873542489653| 0.18192|(10,[0,1,2,3,4,5,...|\n",
      "|0.19044671780024913|0.182478|(10,[0,1,2,3,4,5,...|\n",
      "| 0.1922603285691205|0.183594|(10,[0,1,2,3,4,5,...|\n",
      "|0.19457836910910706|0.184152|(10,[0,1,2,3,4,5,...|\n",
      "|0.19546356148198843|0.185826|(10,[0,1,2,3,4,5,...|\n",
      "|0.19457836910910706|  0.1875|(10,[0,1,2,3,4,5,...|\n",
      "|0.19457836910910706|  0.1875|(10,[0,1,2,3,4,5,...|\n",
      "|0.19392873542489653|  0.1875|(10,[0,1,2,3,4,5,...|\n",
      "|0.19457836910910706|0.188616|(10,[0,1,2,3,4,5,...|\n",
      "|0.19137513619623914| 0.19029|(10,[0,1,2,3,4,5,...|\n",
      "|0.19137513619623914|0.191964|(10,[0,1,2,3,4,5,...|\n",
      "|0.19392873542489653|0.191964|(10,[0,1,2,3,4,5,...|\n",
      "|0.19457836910910706|0.194196|(10,[0,1,2,3,4,5,...|\n",
      "|0.19457836910910706|0.194196|(10,[0,1,2,3,4,5,...|\n",
      "|0.19545853158335988|0.194196|(10,[0,1,2,3,4,5,...|\n",
      "|0.19457836910910706|0.194754|(10,[0,1,2,3,4,5,...|\n",
      "|0.19546356148198843|0.196429|(10,[0,1,2,3,4,5,...|\n",
      "|0.19457836910910706|0.196429|(10,[0,1,2,3,4,5,...|\n",
      "|0.19457836910910706|0.196987|(10,[0,1,2,3,4,5,...|\n",
      "|0.19457836910910706|0.197545|(10,[0,1,2,3,4,5,...|\n",
      "|0.19392873542489653|0.198103|(10,[0,1,2,3,4,5,...|\n",
      "|0.19457836910910706|0.198661|(10,[0,1,2,3,4,5,...|\n",
      "|0.19457836910910706|0.199777|(10,[0,1,2,3,4,5,...|\n",
      "|0.19457836910910706|0.199777|(10,[0,1,2,3,4,5,...|\n",
      "|0.19457836910910706|0.200893|(10,[0,1,2,3,4,5,...|\n",
      "|0.19457836910910706|0.200893|(10,[0,1,2,3,4,5,...|\n",
      "|0.19863627366119985|0.202009|(10,[0,1,2,3,4,5,...|\n",
      "| 0.1919765139587125|0.203125|(10,[0,1,2,3,4,5,...|\n",
      "|0.19457836910910706|0.203683|(10,[0,1,2,3,4,5,...|\n",
      "| 0.2065816048950925|0.204241|(10,[0,1,2,3,4,5,...|\n",
      "|0.20703331163505242|0.205357|(10,[0,1,2,3,4,5,...|\n",
      "|0.20744868622488835|0.205357|(10,[0,1,2,3,4,5,...|\n",
      "|  0.215394017458781|0.205357|(10,[0,1,2,3,4,5,...|\n",
      "|  0.215394017458781|0.205357|(10,[0,1,2,3,4,5,...|\n",
      "| 0.2166346626386012|0.205357|(10,[0,1,2,3,4,5,...|\n",
      "|  0.215394017458781|0.205915|(10,[0,1,2,3,4,5,...|\n",
      "|0.21497864286894508|0.206473|(10,[0,1,2,3,4,5,...|\n",
      "|0.21497864286894508|0.207589|(10,[0,1,2,3,4,5,...|\n",
      "+-------------------+--------+--------------------+\n",
      "only showing top 100 rows\n",
      "\n"
     ]
    }
   ],
   "source": [
    "# Select example rows to display.\n",
    "predictions.select(\"prediction\", \"label\", \"features\").show(100)"
   ]
  },
  {
   "cell_type": "markdown",
   "metadata": {},
   "source": [
    "### Create evaluator to evaluate the prediction results"
   ]
  },
  {
   "cell_type": "code",
   "execution_count": 13,
   "metadata": {},
   "outputs": [
    {
     "name": "stdout",
     "output_type": "stream",
     "text": [
      "Root Mean Squared Error (RMSE) on test data = 1.98906\n"
     ]
    }
   ],
   "source": [
    "# Select (prediction, true label) and compute test error\n",
    "evaluator = RegressionEvaluator(\n",
    "    labelCol=\"label\", predictionCol=\"prediction\", metricName=\"rmse\")\n",
    "\n",
    "rmse = evaluator.evaluate(predictions)\n",
    "print(\"Root Mean Squared Error (RMSE) on test data = %g\" % rmse)"
   ]
  },
  {
   "cell_type": "markdown",
   "metadata": {},
   "source": [
    "## Plot the results"
   ]
  },
  {
   "cell_type": "code",
   "execution_count": 14,
   "metadata": {},
   "outputs": [],
   "source": [
    "#Convert predictions to pandas format in order to plot them\n",
    "rfResult = predictions.toPandas()\n",
    "rfResult\n",
    "\n",
    "nr = range(rfResult.label.count())"
   ]
  },
  {
   "cell_type": "code",
   "execution_count": 15,
   "metadata": {},
   "outputs": [
    {
     "data": {
      "image/png": "[encoded data removed]",
      "text/plain": [
       "<Figure size 1440x720 with 1 Axes>"
      ]
     },
     "metadata": {
      "needs_background": "light"
     },
     "output_type": "display_data"
    },
    {
     "name": "stdout",
     "output_type": "stream",
     "text": [
      "Model RMSE 1.9890627789115463\n"
     ]
    }
   ],
   "source": [
    "plt.figure(figsize=(20,10))\n",
    "plt.scatter(nr, rfResult.label, color = \"red\")\n",
    "plt.plot(nr, rfResult.prediction, color = \"green\")\n",
    "plt.title(\"Random Forest regression\")\n",
    "plt.xlabel('Close price')\n",
    "plt.ylabel('Prediction')\n",
    "\n",
    "plt.show()\n",
    "\n",
    "print(\"Model RMSE\", rmse)"
   ]
  },
  {
   "cell_type": "code",
   "execution_count": 16,
   "metadata": {},
   "outputs": [
    {
     "data": {
      "image/png": "[encoded data removed]",
      "text/plain": [
       "<Figure size 1440x720 with 1 Axes>"
      ]
     },
     "metadata": {
      "needs_background": "light"
     },
     "output_type": "display_data"
    },
    {
     "name": "stdout",
     "output_type": "stream",
     "text": [
      "Model RMSE 1.9890627789115463\n"
     ]
    }
   ],
   "source": [
    "plt.figure(figsize=(20,10))\n",
    "plt.plot(rfResult.label, rfResult.prediction, 'bo')\n",
    "plt.xlabel('Close price')\n",
    "plt.ylabel('Prediction')\n",
    "plt.suptitle(\"Model Performance RMSE: %f\" % rmse)\n",
    "\n",
    "plt.show()\n",
    "\n",
    "print(\"Model RMSE\", rmse)"
   ]
  },
  {
   "cell_type": "markdown",
   "metadata": {},
   "source": [
    "## Find the best model by implementing Cross-Validation"
   ]
  },
  {
   "cell_type": "markdown",
   "metadata": {},
   "source": [
    "Create parameter grid with 2 parameters: numTrees and maxDepth each of them having 3 values"
   ]
  },
  {
   "cell_type": "code",
   "execution_count": 17,
   "metadata": {},
   "outputs": [],
   "source": [
    "from pyspark.ml.tuning import ParamGridBuilder\n",
    "import numpy as np\n",
    "\n",
    "paramGrid = ParamGridBuilder() \\\n",
    "    .addGrid(rf.numTrees, [int(x) for x in np.linspace(start = 10, stop = 50, num = 3)]) \\\n",
    "    .addGrid(rf.maxDepth, [int(x) for x in np.linspace(start = 5, stop = 25, num = 3)]) \\\n",
    "    .build()"
   ]
  },
  {
   "cell_type": "markdown",
   "metadata": {},
   "source": [
    "estimator: algorithm or Pipeline to tune <br>\n",
    "estimatorParamMaps: parameters to choose from, sometimes called a “parameter grid” to search over <br>\n",
    "evaluator: metric to measure how well a fitted Model does on held-out test data"
   ]
  },
  {
   "cell_type": "code",
   "execution_count": 18,
   "metadata": {},
   "outputs": [],
   "source": [
    "from pyspark.ml.tuning import CrossValidator\n",
    "from pyspark.ml.evaluation import RegressionEvaluator\n",
    "\n",
    "crossval = CrossValidator(estimator=rf,\n",
    "                          estimatorParamMaps=paramGrid,\n",
    "                          evaluator=RegressionEvaluator(),\n",
    "                          numFolds=3)"
   ]
  },
  {
   "cell_type": "markdown",
   "metadata": {},
   "source": [
    "### Train model"
   ]
  },
  {
   "cell_type": "code",
   "execution_count": 19,
   "metadata": {},
   "outputs": [],
   "source": [
    "cvModel = crossval.fit(trainingData)"
   ]
  },
  {
   "cell_type": "markdown",
   "metadata": {},
   "source": [
    "### Predict values"
   ]
  },
  {
   "cell_type": "code",
   "execution_count": 20,
   "metadata": {},
   "outputs": [],
   "source": [
    "# Select the best model\n",
    "predictions_new = cvModel.transform(testData)"
   ]
  },
  {
   "cell_type": "code",
   "execution_count": 21,
   "metadata": {},
   "outputs": [
    {
     "name": "stdout",
     "output_type": "stream",
     "text": [
      "+-------------------+--------+--------------------+\n",
      "|         prediction|   label|            features|\n",
      "+-------------------+--------+--------------------+\n",
      "|0.14087813365017632|0.117746|(10,[0,1,2,3,4,5,...|\n",
      "| 0.1341407389092678|0.117746|(10,[0,1,2,3,4,5,...|\n",
      "|0.13826385742488095| 0.12221|(10,[0,1,2,3,4,5,...|\n",
      "|0.13861318494993896|0.122768|(10,[0,1,2,3,4,5,...|\n",
      "|0.13797334707007664|0.123326|(10,[0,1,2,3,4,5,...|\n",
      "|0.13964460879392857|0.130022|(10,[0,1,2,3,4,5,...|\n",
      "| 0.1423353332006382|0.131138|(10,[0,1,2,3,4,5,...|\n",
      "|0.13482671826320636|0.136161|(10,[0,1,2,3,4,5,...|\n",
      "|0.13544755055043312|0.136161|(10,[0,1,2,3,4,5,...|\n",
      "|0.14196790060378509|0.137277|(10,[0,1,2,3,4,5,...|\n",
      "+-------------------+--------+--------------------+\n",
      "only showing top 10 rows\n",
      "\n"
     ]
    }
   ],
   "source": [
    "predictions_new.select(\"prediction\", \"label\", \"features\").show(10)"
   ]
  },
  {
   "cell_type": "markdown",
   "metadata": {},
   "source": [
    "## Plot fine tuned prediction data"
   ]
  },
  {
   "cell_type": "code",
   "execution_count": 22,
   "metadata": {},
   "outputs": [
    {
     "data": {
      "image/png": "[encoded data removed]",
      "text/plain": [
       "<Figure size 1440x720 with 1 Axes>"
      ]
     },
     "metadata": {
      "needs_background": "light"
     },
     "output_type": "display_data"
    },
    {
     "name": "stdout",
     "output_type": "stream",
     "text": [
      "Model RMSE 1.9421223800688392\n"
     ]
    }
   ],
   "source": [
    "evaluator = RegressionEvaluator(labelCol=\"label\", predictionCol=\"prediction\", metricName=\"rmse\")\n",
    "\n",
    "# Compute RMSE\n",
    "rmse = evaluator.evaluate(predictions_new)\n",
    "\n",
    "# Convert dataset to panda for plotting\n",
    "rfResult_new = predictions_new.toPandas()\n",
    "nr_new = range(rfResult_new.label.count())\n",
    "\n",
    "plt.figure(figsize=(20,10))\n",
    "plt.scatter(nr_new, rfResult.label, color = \"red\", label=\"True values\")\n",
    "plt.plot(nr_new, rfResult.prediction, color = \"green\", label = \"Predicted values\")\n",
    "plt.title(\"Random Forest regression\")\n",
    "plt.xlabel('Close price')\n",
    "plt.ylabel('Prediction')\n",
    "plt.legend(prop={'size': 20})\n",
    "plt.show()\n",
    "\n",
    "print(\"Model RMSE\", rmse)"
   ]
  },
  {
   "cell_type": "markdown",
   "metadata": {},
   "source": [
    "## Feature Importance for random forest algorithm"
   ]
  },
  {
   "cell_type": "code",
   "execution_count": 23,
   "metadata": {},
   "outputs": [
    {
     "name": "stdout",
     "output_type": "stream",
     "text": [
      "[0, 1, 2, 3, 4, 5, 6, 7, 8, 9]\n"
     ]
    },
    {
     "data": {
      "text/plain": [
       "Text(0.5, 1.0, 'Feature Importances')"
      ]
     },
     "execution_count": 23,
     "metadata": {},
     "output_type": "execute_result"
    },
    {
     "data": {
      "image/png": "[encoded data removed]",
      "text/plain": [
       "<Figure size 432x288 with 1 Axes>"
      ]
     },
     "metadata": {
      "needs_background": "light"
     },
     "output_type": "display_data"
    }
   ],
   "source": [
    "#Select best model\n",
    "bestModel = cvModel.bestModel\n",
    "\n",
    "# Extract the important feature values\n",
    "importances = bestModel.featureImportances\n",
    "\n",
    "x_values = list(range(len(importances)))\n",
    "print(x_values)\n",
    "feature_list = ['high','low','open','adjClose','volume','unadjustedVolume','change','changePercent','vwap','changeOverTime']\n",
    "\n",
    "plt.bar(x_values, importances, orientation = 'vertical')\n",
    "plt.xticks(x_values, feature_list, rotation=40)\n",
    "plt.ylabel('Importance')\n",
    "plt.xlabel('Feature')\n",
    "plt.title('Feature Importances')"
   ]
  },
  {
   "cell_type": "code",
   "execution_count": null,
   "metadata": {},
   "outputs": [],
   "source": []
  }
 ],
 "metadata": {
  "kernelspec": {
   "display_name": "Python 3",
   "language": "python",
   "name": "python3"
  },
  "language_info": {
   "codemirror_mode": {
    "name": "ipython",
    "version": 3
   },
   "file_extension": ".py",
   "mimetype": "text/x-python",
   "name": "python",
   "nbconvert_exporter": "python",
   "pygments_lexer": "ipython3",
   "version": "3.8.3"
  }
 },
 "nbformat": 4,
 "nbformat_minor": 4
}
