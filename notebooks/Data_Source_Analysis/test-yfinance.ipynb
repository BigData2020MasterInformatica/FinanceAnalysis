{
 "cells": [
  {
   "cell_type": "markdown",
   "metadata": {},
   "source": [
    "# YFinance - Tutorial"
   ]
  },
  {
   "cell_type": "code",
   "execution_count": 10,
   "metadata": {},
   "outputs": [],
   "source": [
    "import yfinance as yf\n",
    "import pyspark\n",
    "from pyspark.sql import SparkSession\n",
    "from pyspark.sql.types import *\n",
    "import time\n",
    "import seaborn as sns"
   ]
  },
  {
   "cell_type": "markdown",
   "metadata": {},
   "source": [
    "## Instalation"
   ]
  },
  {
   "cell_type": "markdown",
   "metadata": {},
   "source": [
    "First, we will have to install YFinance by performing the following command: \n",
    "\n",
    "- pip install yfinance\n",
    "\n",
    "With this library, we have no limitations of use, so you can execute all the instructions you want. We do not recommend to use numpy==1.19.4 because it throws some incompatibility exceptions with YFinance. We have had some problems when using virtual environments such as anaconda."
   ]
  },
  {
   "cell_type": "code",
   "execution_count": 2,
<<<<<<< HEAD:notebooks/test-yfinance.ipynb
   "metadata": {
    "scrolled": true
   },
=======
   "metadata": {},
>>>>>>> 37a27916e37ba9dbeae5f8867e3af2095652cb56:notebooks/Data_Source_Analysis/test-yfinance.ipynb
   "outputs": [
    {
     "data": {
      "text/plain": [
       "{'zip': '98052-6399',\n",
       " 'sector': 'Technology',\n",
       " 'fullTimeEmployees': 163000,\n",
       " 'longBusinessSummary': 'Microsoft Corporation develops, licenses, and supports software, services, devices, and solutions worldwide. Its Productivity and Business Processes segment offers Office, Exchange, SharePoint, Microsoft Teams, Office 365 Security and Compliance, and Skype for Business, as well as related Client Access Licenses (CAL); Skype, Outlook.com, and OneDrive; LinkedIn that includes Talent, Learning, Sales, and Marketing solutions, as well as premium subscriptions; and Dynamics 365, a set of cloud-based and on-premises business solutions for small and medium businesses, large organizations, and divisions of enterprises. Its Intelligent Cloud segment licenses SQL and Windows Servers, Visual Studio, System Center, and related CALs; GitHub that provides a collaboration platform and code hosting service for developers; and Azure, a cloud platform. It also offers support services and Microsoft consulting services to assist customers in developing, deploying, and managing Microsoft server and desktop solutions; and training and certification to developers and IT professionals on various Microsoft products. Its More Personal Computing segment provides Windows original equipment manufacturer (OEM) licensing and other non-volume licensing of the Windows operating system; Windows Commercial, such as volume licensing of the Windows operating system, Windows cloud services, and other Windows commercial offerings; patent licensing; Windows Internet of Things; and MSN advertising. It also offers Surface, PC accessories, PCs, tablets, gaming and entertainment consoles, and other intelligent devices; Gaming, including Xbox hardware, and Xbox content and services; video games and third-party video game royalties; and Search, including Bing and Microsoft advertising. It sells its products through OEMs, distributors, and resellers; and directly through digital marketplaces, online stores, and retail stores. The company was founded in 1975 and is headquartered in Redmond, Washington.',\n",
       " 'city': 'Redmond',\n",
       " 'phone': '425-882-8080',\n",
       " 'state': 'WA',\n",
       " 'country': 'United States',\n",
       " 'companyOfficers': [],\n",
       " 'website': 'http://www.microsoft.com',\n",
       " 'maxAge': 1,\n",
       " 'address1': 'One Microsoft Way',\n",
       " 'industry': 'Software—Infrastructure',\n",
       " 'previousClose': 210.08,\n",
       " 'regularMarketOpen': 211.59,\n",
       " 'twoHundredDayAverage': 200.1337,\n",
       " 'trailingAnnualDividendYield': 0.009710587,\n",
       " 'payoutRatio': 0.3455,\n",
       " 'volume24Hr': None,\n",
       " 'regularMarketDayHigh': 214.47,\n",
       " 'navPrice': None,\n",
       " 'averageDailyVolume10Day': 25136250,\n",
       " 'totalAssets': None,\n",
       " 'regularMarketPreviousClose': 210.08,\n",
       " 'fiftyDayAverage': 210.14143,\n",
       " 'trailingAnnualDividendRate': 2.04,\n",
       " 'open': 211.59,\n",
       " 'toCurrency': None,\n",
       " 'averageVolume10days': 25136250,\n",
       " 'expireDate': None,\n",
       " 'yield': None,\n",
       " 'algorithm': None,\n",
       " 'dividendRate': 2.24,\n",
       " 'exDividendDate': 1605657600,\n",
       " 'beta': 0.923331,\n",
       " 'circulatingSupply': None,\n",
       " 'startDate': None,\n",
       " 'regularMarketDayLow': 210.329,\n",
       " 'priceHint': 2,\n",
       " 'currency': 'USD',\n",
       " 'trailingPE': 37.118053,\n",
       " 'regularMarketVolume': 20374212,\n",
       " 'lastMarket': None,\n",
       " 'maxSupply': None,\n",
       " 'openInterest': None,\n",
       " 'marketCap': 1616933027840,\n",
       " 'volumeAllCurrencies': None,\n",
       " 'strikePrice': None,\n",
       " 'averageVolume': 32073478,\n",
       " 'priceToSalesTrailing12Months': 11.306038,\n",
       " 'dayLow': 210.329,\n",
       " 'ask': 213.84,\n",
       " 'ytdReturn': None,\n",
       " 'askSize': 800,\n",
       " 'volume': 20374212,\n",
       " 'fiftyTwoWeekHigh': 232.86,\n",
       " 'forwardPE': 29.167805,\n",
       " 'fromCurrency': None,\n",
       " 'fiveYearAvgDividendYield': 1.8,\n",
       " 'fiftyTwoWeekLow': 132.52,\n",
       " 'bid': 213.79,\n",
       " 'tradeable': False,\n",
       " 'dividendYield': 0.0107,\n",
       " 'bidSize': 1000,\n",
       " 'dayHigh': 214.47,\n",
       " 'exchange': 'NMS',\n",
       " 'shortName': 'Microsoft Corporation',\n",
       " 'longName': 'Microsoft Corporation',\n",
       " 'exchangeTimezoneName': 'America/New_York',\n",
       " 'exchangeTimezoneShortName': 'EDT',\n",
       " 'isEsgPopulated': False,\n",
       " 'gmtOffSetMilliseconds': '-14400000',\n",
       " 'quoteType': 'EQUITY',\n",
       " 'symbol': 'MSFT',\n",
       " 'messageBoardId': 'finmb_21835',\n",
       " 'market': 'us_market',\n",
       " 'annualHoldingsTurnover': None,\n",
       " 'enterpriseToRevenue': 10.736,\n",
       " 'beta3Year': None,\n",
       " 'profitMargins': 0.30962,\n",
       " 'enterpriseToEbitda': 23.528,\n",
       " '52WeekChange': 0.4708395,\n",
       " 'morningStarRiskRating': None,\n",
       " 'forwardEps': 7.33,\n",
       " 'revenueQuarterlyGrowth': None,\n",
       " 'sharesOutstanding': 7562829824,\n",
       " 'fundInceptionDate': None,\n",
       " 'annualReportExpenseRatio': None,\n",
       " 'bookValue': 15.626,\n",
       " 'sharesShort': 35046001,\n",
       " 'sharesPercentSharesOut': 0.0046,\n",
       " 'fundFamily': None,\n",
       " 'lastFiscalYearEnd': 1593475200,\n",
       " 'heldPercentInstitutions': 0.74093,\n",
       " 'netIncomeToCommon': 44280999936,\n",
       " 'trailingEps': 5.76,\n",
       " 'lastDividendValue': 0.51,\n",
       " 'SandP52WeekChange': 0.1198858,\n",
       " 'priceToBook': 13.682324,\n",
       " 'heldPercentInsiders': 0.014249999,\n",
       " 'nextFiscalYearEnd': 1656547200,\n",
       " 'mostRecentQuarter': 1593475200,\n",
       " 'shortRatio': 1.17,\n",
       " 'sharesShortPreviousMonthDate': 1600128000,\n",
       " 'floatShares': 7456105731,\n",
       " 'enterpriseValue': 1535430492160,\n",
       " 'threeYearAverageReturn': None,\n",
       " 'lastSplitDate': 1045526400,\n",
       " 'lastSplitFactor': '2:1',\n",
       " 'legalType': None,\n",
       " 'lastDividendDate': 1597795200,\n",
       " 'morningStarOverallRating': None,\n",
       " 'earningsQuarterlyGrowth': -0.151,\n",
       " 'dateShortInterest': 1602720000,\n",
       " 'pegRatio': 2.29,\n",
       " 'lastCapGain': None,\n",
       " 'shortPercentOfFloat': 0.0046,\n",
       " 'sharesShortPriorMonth': 37794303,\n",
       " 'category': None,\n",
       " 'fiveYearAverageReturn': None,\n",
       " 'regularMarketPrice': 211.59,\n",
       " 'logo_url': 'https://logo.clearbit.com/microsoft.com'}"
      ]
     },
     "execution_count": 2,
     "metadata": {},
     "output_type": "execute_result"
    }
   ],
   "source": [
    "#Getting information about a certain company\n",
    "msft = yf.Ticker(\"MSFT\")\n",
    "#Historical information\n",
    "msft.info"
   ]
  },
  {
   "cell_type": "markdown",
   "metadata": {},
   "source": [
    "We get some information from the Company Zip Code until the averages values from the last five years. As we have more data than we need, we will use the next fields, which show the essential information of a company. \n",
    "- Zip\n",
    "- Sector\n",
    "- FullTimeEmployees\n",
    "- LongBusinessSummary\n",
    "- City \n",
    "- Phone\n",
    "- State\n",
    "- Website\n",
    "- Industry\n",
    "- PreviousClose is the value with which the stock closed the previous period."
   ]
  },
  {
   "cell_type": "code",
   "execution_count": 3,
   "metadata": {},
   "outputs": [
    {
     "data": {
      "text/html": [
       "<div>\n",
       "<style scoped>\n",
       "    .dataframe tbody tr th:only-of-type {\n",
       "        vertical-align: middle;\n",
       "    }\n",
       "\n",
       "    .dataframe tbody tr th {\n",
       "        vertical-align: top;\n",
       "    }\n",
       "\n",
       "    .dataframe thead th {\n",
       "        text-align: right;\n",
       "    }\n",
       "</style>\n",
       "<table border=\"1\" class=\"dataframe\">\n",
       "  <thead>\n",
       "    <tr style=\"text-align: right;\">\n",
       "      <th></th>\n",
       "      <th>Open</th>\n",
       "      <th>High</th>\n",
       "      <th>Low</th>\n",
       "      <th>Close</th>\n",
       "      <th>Volume</th>\n",
       "      <th>Dividends</th>\n",
       "      <th>Stock Splits</th>\n",
       "    </tr>\n",
       "    <tr>\n",
       "      <th>Date</th>\n",
       "      <th></th>\n",
       "      <th></th>\n",
       "      <th></th>\n",
       "      <th></th>\n",
       "      <th></th>\n",
       "      <th></th>\n",
       "      <th></th>\n",
       "    </tr>\n",
       "  </thead>\n",
       "  <tbody>\n",
       "    <tr>\n",
       "      <th>1986-03-13</th>\n",
       "      <td>0.056514</td>\n",
       "      <td>0.064825</td>\n",
       "      <td>0.056514</td>\n",
       "      <td>0.062055</td>\n",
       "      <td>1031788800</td>\n",
       "      <td>0.0</td>\n",
       "      <td>0.0</td>\n",
       "    </tr>\n",
       "    <tr>\n",
       "      <th>1986-03-14</th>\n",
       "      <td>0.062055</td>\n",
       "      <td>0.065379</td>\n",
       "      <td>0.062055</td>\n",
       "      <td>0.064271</td>\n",
       "      <td>308160000</td>\n",
       "      <td>0.0</td>\n",
       "      <td>0.0</td>\n",
       "    </tr>\n",
       "    <tr>\n",
       "      <th>1986-03-17</th>\n",
       "      <td>0.064271</td>\n",
       "      <td>0.065933</td>\n",
       "      <td>0.064271</td>\n",
       "      <td>0.065379</td>\n",
       "      <td>133171200</td>\n",
       "      <td>0.0</td>\n",
       "      <td>0.0</td>\n",
       "    </tr>\n",
       "    <tr>\n",
       "      <th>1986-03-18</th>\n",
       "      <td>0.065379</td>\n",
       "      <td>0.065933</td>\n",
       "      <td>0.063163</td>\n",
       "      <td>0.063717</td>\n",
       "      <td>67766400</td>\n",
       "      <td>0.0</td>\n",
       "      <td>0.0</td>\n",
       "    </tr>\n",
       "    <tr>\n",
       "      <th>1986-03-19</th>\n",
       "      <td>0.063717</td>\n",
       "      <td>0.064271</td>\n",
       "      <td>0.062055</td>\n",
       "      <td>0.062609</td>\n",
       "      <td>47894400</td>\n",
       "      <td>0.0</td>\n",
       "      <td>0.0</td>\n",
       "    </tr>\n",
       "    <tr>\n",
       "      <th>...</th>\n",
       "      <td>...</td>\n",
       "      <td>...</td>\n",
       "      <td>...</td>\n",
       "      <td>...</td>\n",
       "      <td>...</td>\n",
       "      <td>...</td>\n",
       "      <td>...</td>\n",
       "    </tr>\n",
       "    <tr>\n",
       "      <th>2020-10-21</th>\n",
       "      <td>213.119995</td>\n",
       "      <td>216.919998</td>\n",
       "      <td>213.119995</td>\n",
       "      <td>214.800003</td>\n",
       "      <td>22724900</td>\n",
       "      <td>0.0</td>\n",
       "      <td>0.0</td>\n",
       "    </tr>\n",
       "    <tr>\n",
       "      <th>2020-10-22</th>\n",
       "      <td>213.929993</td>\n",
       "      <td>216.059998</td>\n",
       "      <td>211.699997</td>\n",
       "      <td>214.889999</td>\n",
       "      <td>22351500</td>\n",
       "      <td>0.0</td>\n",
       "      <td>0.0</td>\n",
       "    </tr>\n",
       "    <tr>\n",
       "      <th>2020-10-23</th>\n",
       "      <td>215.029999</td>\n",
       "      <td>216.279999</td>\n",
       "      <td>213.160004</td>\n",
       "      <td>216.229996</td>\n",
       "      <td>18879600</td>\n",
       "      <td>0.0</td>\n",
       "      <td>0.0</td>\n",
       "    </tr>\n",
       "    <tr>\n",
       "      <th>2020-10-26</th>\n",
       "      <td>213.850006</td>\n",
       "      <td>216.339996</td>\n",
       "      <td>208.100006</td>\n",
       "      <td>210.080002</td>\n",
       "      <td>36482200</td>\n",
       "      <td>0.0</td>\n",
       "      <td>0.0</td>\n",
       "    </tr>\n",
       "    <tr>\n",
       "      <th>2020-10-27</th>\n",
       "      <td>211.589996</td>\n",
       "      <td>214.470001</td>\n",
       "      <td>210.328995</td>\n",
       "      <td>213.779999</td>\n",
       "      <td>20376298</td>\n",
       "      <td>0.0</td>\n",
       "      <td>0.0</td>\n",
       "    </tr>\n",
       "  </tbody>\n",
       "</table>\n",
       "<p>8729 rows × 7 columns</p>\n",
       "</div>"
      ],
      "text/plain": [
       "                  Open        High         Low       Close      Volume  \\\n",
       "Date                                                                     \n",
       "1986-03-13    0.056514    0.064825    0.056514    0.062055  1031788800   \n",
       "1986-03-14    0.062055    0.065379    0.062055    0.064271   308160000   \n",
       "1986-03-17    0.064271    0.065933    0.064271    0.065379   133171200   \n",
       "1986-03-18    0.065379    0.065933    0.063163    0.063717    67766400   \n",
       "1986-03-19    0.063717    0.064271    0.062055    0.062609    47894400   \n",
       "...                ...         ...         ...         ...         ...   \n",
       "2020-10-21  213.119995  216.919998  213.119995  214.800003    22724900   \n",
       "2020-10-22  213.929993  216.059998  211.699997  214.889999    22351500   \n",
       "2020-10-23  215.029999  216.279999  213.160004  216.229996    18879600   \n",
       "2020-10-26  213.850006  216.339996  208.100006  210.080002    36482200   \n",
       "2020-10-27  211.589996  214.470001  210.328995  213.779999    20376298   \n",
       "\n",
       "            Dividends  Stock Splits  \n",
       "Date                                 \n",
       "1986-03-13        0.0           0.0  \n",
       "1986-03-14        0.0           0.0  \n",
       "1986-03-17        0.0           0.0  \n",
       "1986-03-18        0.0           0.0  \n",
       "1986-03-19        0.0           0.0  \n",
       "...               ...           ...  \n",
       "2020-10-21        0.0           0.0  \n",
       "2020-10-22        0.0           0.0  \n",
       "2020-10-23        0.0           0.0  \n",
       "2020-10-26        0.0           0.0  \n",
       "2020-10-27        0.0           0.0  \n",
       "\n",
       "[8729 rows x 7 columns]"
      ]
     },
     "execution_count": 3,
     "metadata": {},
     "output_type": "execute_result"
    }
   ],
   "source": [
    "\n",
    "hist = msft.history(period=\"max\")\n",
    "hist"
   ]
  },
  {
   "cell_type": "code",
<<<<<<< HEAD:notebooks/test-yfinance.ipynb
   "execution_count": 9,
   "metadata": {
    "scrolled": false
   },
=======
   "execution_count": 4,
   "metadata": {},
>>>>>>> 37a27916e37ba9dbeae5f8867e3af2095652cb56:notebooks/Data_Source_Analysis/test-yfinance.ipynb
   "outputs": [
    {
     "name": "stdout",
     "output_type": "stream",
     "text": [
      "Introduzca los ticket de la empresa: GOOG\n",
      "Introduzca la fecha de inicio (AAAA-MM-DD): 2000-01-01\n",
      "Introduzca la fecha de fin (AAAA-MM-DD); 2020-01-01\n",
      "[*********************100%***********************]  1 of 1 completed\n"
     ]
    },
    {
     "data": {
      "text/plain": [
       "{'name': 'Alphabet Inc.',\n",
       " 'sector': 'Communication Services',\n",
       " 'fullTimeEmployees': 132121,\n",
       " 'city': 'Mountain View',\n",
       " 'state': 'CA',\n",
       " 'phone': '650-253-0000',\n",
       " 'webpage': 'http://www.abc.xyz',\n",
       " 'industry': 'Internet Content & Information',\n",
       " 'previousClose': 1621.01}"
      ]
     },
     "execution_count": 9,
     "metadata": {},
     "output_type": "execute_result"
    }
   ],
   "source": [
    "#Filtering Dataset by ticket and date\n",
    "ticket = input(\"Introduzca los ticket de la empresa: \")\n",
    "fecha_inicio = input(\"Introduzca la fecha de inicio (AAAA-MM-DD): \")\n",
    "fecha_fin = input(\"Introduzca la fecha de fin (AAAA-MM-DD); \")\n",
    "df = yf.download(ticket, start=fecha_inicio, end=fecha_fin)\n",
    "\n",
    "msft = yf.Ticker(ticket)\n",
    "company_inf = {\"name\": msft.info[\"longName\"],\n",
    "               \"sector\": msft.info[\"sector\"],\n",
    "               \"fullTimeEmployees\" : msft.info[\"fullTimeEmployees\"],\n",
    "               \"city\": msft.info[\"city\"],\n",
    "               \"state\": msft.info[\"state\"],\n",
    "               \"phone\" : msft.info[\"phone\"],\n",
    "               \"webpage\" : msft.info[\"website\"],\n",
    "               \"industry\" : msft.info[\"industry\"],\n",
    "               \"previousClose\" : msft.info[\"previousClose\"]              \n",
    "              }\n",
    "company_inf"
   ]
  },
  {
   "cell_type": "markdown",
   "metadata": {},
   "source": [
    "The dataset consists of several attributes defined below:\n",
    "- Date\n",
    "- Open is the price at which the financial security opens in the market when trading begins. It may or may not be different from the previous day's closing price.\n",
    "- High is the highest price at which a security, such as a stock, has traded during the time period.\n",
    "- Low is the lowest price at which a security, such as a stock, has traded during the time period.\n",
    "- Close  is the final price at which it trades during regular market hours on any given day. The closing price is considered the most accurate valuation of a stock or other security until trading resumes on the next trading day.\n",
    "- Adjusted Close (Adj Close) amends a stock's closing price to reflect that stock's value after accounting for any corporate actions. It is often used when examining historical returns or doing a detailed analysis of past performance.\n",
    "- Volume is the amount of an asset or security that changes hands over some period of time, often over the course of a day. For instance, stock trading volume would refer to the number of shares of a security traded between its daily open and close.\n",
    "\n",
    "ref: https://www.investopedia.com/\n",
    "\n",
    "We have detected that those values that are unknown for a certain date are NaN values so, they will be replaced by the arithmetic mean. "
   ]
  },
  {
   "cell_type": "code",
   "execution_count": 5,
<<<<<<< HEAD:notebooks/test-yfinance.ipynb
   "metadata": {
    "scrolled": true
   },
=======
   "metadata": {},
>>>>>>> 37a27916e37ba9dbeae5f8867e3af2095652cb56:notebooks/Data_Source_Analysis/test-yfinance.ipynb
   "outputs": [
    {
     "name": "stdout",
     "output_type": "stream",
     "text": [
      "                   Open         High          Low        Close    Adj Close  \\\n",
      "Date                                                                          \n",
      "2004-08-19    49.813286    51.835709    47.800831    49.982655    49.982655   \n",
      "2004-08-20    50.316402    54.336334    50.062355    53.952770    53.952770   \n",
      "2004-08-23    55.168217    56.528118    54.321388    54.495735    54.495735   \n",
      "2004-08-24    55.412300    55.591629    51.591621    52.239193    52.239193   \n",
      "2004-08-25    52.284027    53.798351    51.746044    52.802086    52.802086   \n",
      "...                 ...          ...          ...          ...          ...   \n",
      "2019-12-24  1348.500000  1350.260010  1342.780029  1343.560059  1343.560059   \n",
      "2019-12-26  1346.170044  1361.327026  1344.469971  1360.400024  1360.400024   \n",
      "2019-12-27  1362.989990  1364.530029  1349.310059  1351.890015  1351.890015   \n",
      "2019-12-30  1350.000000  1353.000000  1334.020020  1336.140015  1336.140015   \n",
      "2019-12-31  1330.109985  1338.000000  1329.084961  1337.020020  1337.020020   \n",
      "\n",
      "              Volume  \n",
      "Date                  \n",
      "2004-08-19  44871300  \n",
      "2004-08-20  22942800  \n",
      "2004-08-23  18342800  \n",
      "2004-08-24  15319700  \n",
      "2004-08-25   9232100  \n",
      "...              ...  \n",
      "2019-12-24    347500  \n",
      "2019-12-26    667500  \n",
      "2019-12-27   1038400  \n",
      "2019-12-30   1050900  \n",
      "2019-12-31    961800  \n",
      "\n",
      "[3869 rows x 6 columns]\n"
     ]
    }
   ],
   "source": [
    "#Replacing null by means values.\n",
    "if df.isnull().values.any():\n",
    "    df = df.fillna(data.mean())\n",
    "print (df)\n",
    "#Saving dataframe\n",
    "df.to_csv('out.csv',index=True)\n"
   ]
  },
  {
   "cell_type": "markdown",
   "metadata": {},
   "source": [
    "\n",
    "We use the described function to obtain the distribution that follows the dataset data obtained from the user's inputs."
   ]
  },
  {
   "cell_type": "code",
   "execution_count": 6,
   "metadata": {},
   "outputs": [
    {
     "data": {
      "text/html": [
       "<div>\n",
       "<style scoped>\n",
       "    .dataframe tbody tr th:only-of-type {\n",
       "        vertical-align: middle;\n",
       "    }\n",
       "\n",
       "    .dataframe tbody tr th {\n",
       "        vertical-align: top;\n",
       "    }\n",
       "\n",
       "    .dataframe thead th {\n",
       "        text-align: right;\n",
       "    }\n",
       "</style>\n",
       "<table border=\"1\" class=\"dataframe\">\n",
       "  <thead>\n",
       "    <tr style=\"text-align: right;\">\n",
       "      <th></th>\n",
       "      <th>Open</th>\n",
       "      <th>High</th>\n",
       "      <th>Low</th>\n",
       "      <th>Close</th>\n",
       "      <th>Adj Close</th>\n",
       "      <th>Volume</th>\n",
       "    </tr>\n",
       "  </thead>\n",
       "  <tbody>\n",
       "    <tr>\n",
       "      <th>count</th>\n",
       "      <td>3869.000000</td>\n",
       "      <td>3869.000000</td>\n",
       "      <td>3869.000000</td>\n",
       "      <td>3869.000000</td>\n",
       "      <td>3869.000000</td>\n",
       "      <td>3.869000e+03</td>\n",
       "    </tr>\n",
       "    <tr>\n",
       "      <th>mean</th>\n",
       "      <td>489.713012</td>\n",
       "      <td>494.082709</td>\n",
       "      <td>485.113028</td>\n",
       "      <td>489.695242</td>\n",
       "      <td>489.695242</td>\n",
       "      <td>7.089455e+06</td>\n",
       "    </tr>\n",
       "    <tr>\n",
       "      <th>std</th>\n",
       "      <td>338.547977</td>\n",
       "      <td>341.181763</td>\n",
       "      <td>336.068923</td>\n",
       "      <td>338.767985</td>\n",
       "      <td>338.767985</td>\n",
       "      <td>8.079163e+06</td>\n",
       "    </tr>\n",
       "    <tr>\n",
       "      <th>min</th>\n",
       "      <td>49.409801</td>\n",
       "      <td>50.680038</td>\n",
       "      <td>47.800831</td>\n",
       "      <td>49.818268</td>\n",
       "      <td>49.818268</td>\n",
       "      <td>7.900000e+03</td>\n",
       "    </tr>\n",
       "    <tr>\n",
       "      <th>25%</th>\n",
       "      <td>236.986710</td>\n",
       "      <td>239.332916</td>\n",
       "      <td>234.416351</td>\n",
       "      <td>236.662933</td>\n",
       "      <td>236.662933</td>\n",
       "      <td>1.771100e+06</td>\n",
       "    </tr>\n",
       "    <tr>\n",
       "      <th>50%</th>\n",
       "      <td>318.805054</td>\n",
       "      <td>322.172424</td>\n",
       "      <td>314.819977</td>\n",
       "      <td>318.795074</td>\n",
       "      <td>318.795074</td>\n",
       "      <td>4.411300e+06</td>\n",
       "    </tr>\n",
       "    <tr>\n",
       "      <th>75%</th>\n",
       "      <td>721.679993</td>\n",
       "      <td>725.765991</td>\n",
       "      <td>715.590027</td>\n",
       "      <td>719.409973</td>\n",
       "      <td>719.409973</td>\n",
       "      <td>9.166700e+06</td>\n",
       "    </tr>\n",
       "    <tr>\n",
       "      <th>max</th>\n",
       "      <td>1363.349976</td>\n",
       "      <td>1365.000000</td>\n",
       "      <td>1352.670044</td>\n",
       "      <td>1361.170044</td>\n",
       "      <td>1361.170044</td>\n",
       "      <td>8.254150e+07</td>\n",
       "    </tr>\n",
       "  </tbody>\n",
       "</table>\n",
       "</div>"
      ],
      "text/plain": [
       "              Open         High          Low        Close    Adj Close  \\\n",
       "count  3869.000000  3869.000000  3869.000000  3869.000000  3869.000000   \n",
       "mean    489.713012   494.082709   485.113028   489.695242   489.695242   \n",
       "std     338.547977   341.181763   336.068923   338.767985   338.767985   \n",
       "min      49.409801    50.680038    47.800831    49.818268    49.818268   \n",
       "25%     236.986710   239.332916   234.416351   236.662933   236.662933   \n",
       "50%     318.805054   322.172424   314.819977   318.795074   318.795074   \n",
       "75%     721.679993   725.765991   715.590027   719.409973   719.409973   \n",
       "max    1363.349976  1365.000000  1352.670044  1361.170044  1361.170044   \n",
       "\n",
       "             Volume  \n",
       "count  3.869000e+03  \n",
       "mean   7.089455e+06  \n",
       "std    8.079163e+06  \n",
       "min    7.900000e+03  \n",
       "25%    1.771100e+06  \n",
       "50%    4.411300e+06  \n",
       "75%    9.166700e+06  \n",
       "max    8.254150e+07  "
      ]
     },
     "execution_count": 6,
     "metadata": {},
     "output_type": "execute_result"
    }
   ],
   "source": [
    "df.describe()"
   ]
  },
  {
   "cell_type": "markdown",
   "metadata": {},
   "source": [
    "From this moment on, we will apply visualization techniques that can provide additional information on the dataset. (**IN PROCESS**)"
   ]
  },
  {
   "cell_type": "code",
   "execution_count": 15,
   "metadata": {},
   "outputs": [
    {
     "data": {
      "text/plain": [
       "<matplotlib.axes._subplots.AxesSubplot at 0x2021a3d98c8>"
      ]
     },
     "execution_count": 15,
     "metadata": {},
     "output_type": "execute_result"
    },
    {
     "data": {
      "image/png": "iVBORw0KGgoAAAANSUhEUgAAAXkAAAEGCAYAAACAd+UpAAAABHNCSVQICAgIfAhkiAAAAAlwSFlzAAALEgAACxIB0t1+/AAAADh0RVh0U29mdHdhcmUAbWF0cGxvdGxpYiB2ZXJzaW9uMy4yLjIsIGh0dHA6Ly9tYXRwbG90bGliLm9yZy+WH4yJAAAgAElEQVR4nO3dd5wU5f0H8M/3OkfvUj1AuvQTUcBYkGpEY0OjYizE+tNEY7BGESOJKfZCYu9diUhTUBFFOHpvgnQ4QZpwXHt+f8zMMbs7szu7M7s7u/d5v1682J2d8tzuzHeeeaoopUBEROkpI9kJICKi+GGQJyJKYwzyRERpjEGeiCiNMcgTEaWxrGQnwKxRo0aqoKAg2ckgIkopCxYs+Ekp1djqM18F+YKCAhQVFSU7GUREKUVEfrT7jMU1RERpjEGeiCiNMcgTEaUxBnkiojTGIE9ElMYY5ImI0hiDPBFRGmOQJ6JqY9/hUkxeuiPZyUgoBnkiqjZuenMhbnpzIbbtO5LspCQMgzwRVRvbftaCe2l5ZZJTkjgM8kREaYxBnogojTHIExFFadHmn7Fzf0myk+EIgzwRUZTOf+ZbnPborGQnwxEGeSKiGKRK5S2DPBFRGmOQJyJKYwzyRERpjEGeiKoNlewEJAGDPBGRh8orKjFr9e5kJ6MKgzwRVRuSgGM8OXM9fvfyfHy1tjgBR4uMQZ6IyEOb9x4GAOw5dDTJKdEwyBMRpTEGeSKiNMYgT0QUB8onTXkY5ImIPJSIyt1oMMgTEaUxBnkiojTmWZAXkUwRWSQin+rvG4jIDBFZp/9f36tjERGRM17m5G8FsMr0fiyAL5RS7QF8ob8nIkoan9SFJpQnQV5EWgIYAeC/psUjAbyiv34FwHleHIuIiJzzKif/GIA7AZhH0W+qlNoBAPr/Taw2FJExIlIkIkXFxf7oBkxE6SmRLV/88tTgOsiLyDkAdiulFsSyvVJqolKqUClV2LhxY7fJISJKLp+1oczyYB/9AZwrIsMB5AGoIyKvA9glIs2UUjtEpBkA/wzLRkRUTbjOySul7lJKtVRKFQAYBWCmUupyAJMAjNZXGw3gE7fHIiJKprKKSvy455eq9zv3lyQxNc54kZO3MwHAuyJyDYDNAC6K47GIiOLu/k9W4K15m6veHzpansTUOONpkFdKfQngS/31HgBnebl/IqJkmrP+p6Alfqletccer0REMfLLIGThMMgTEcUoBWI8gzwRkROVlaEhPVxOXvkkmx/PilciIl+JNewu3boP5z41x9G64rOG8szJE1G1E20Ynrdxr+VylQIFNgzyRFTt+D80e4dBnoiqjVgLUuyK131S7B4WgzwRVUslZRWYtGS7qwrSVAjyrHglomppwpTVePnbTfhyzW70bFUPV55SYLuuXdm7sfz5rzagVYN8DO/WLB5JdYU5eSKqloxxZz5cuA33f7Iipn0YOflHpqzGjW8sjLh+ZaXCA5NWYMvewzEdLxYM8kREup8OHbVcHkuxjNUmS7ftx8vfbsItby2KfocxYpAnomopuAhm2oqdKBz/Ob4NGZ8mzD4sIrmEqd01yv8TWZTPIE9EBKBok9YWftm2/SGfpUD9qi0GeSIik0emrI7/QRLYLIdBnoiqjXChNfw4NHb7iy5YS7iynDhhkCeiaifaUGsXzHekwMxQDPJEVO1Eyn9/tGhr4Po2G/z+tQUB70vLK0PWOVpegZXbD+j7SXzpPoM8EVUbRg7+qzW7UVIWGpANf3hnSUz7n7MhtGXO/R+vwPAnZmPKsh0x7dMtBnkiqnYe+N9KfLW2OGCZJ3lsFfp64eafAQA3vLEQPx8u9eIoUWGQJyLyUHB5f4apsvVIqf3TQ7wwyBNRRAdKynwz01G8BPd2fX3uj1Wv3fztSWhQE4BBnojC2rznMLo/MB2vmYJeOjpSWhHwftqKnVWvo4nxTlZlj1ci8o2Ne34BAMxYuSvJKYmvcIHXYnpXm30ovL8gsGWOuW18MnL1DPJERBE8OXNdzNua47rxRLB06358vGibu0Q5xCBPRGTBXERT7jQrb8Eu937Xh8ti3mc0XAd5EWklIrNEZJWIrBCRW/XlDURkhois0/+v7z65RJRoRoxKh3rXaIY1cDpkweqdB8J+bg7y5teJmgTci5x8OYDblVKdAfQDcJOIdAEwFsAXSqn2AL7Q3xNRikl26xAvhR+fJragO/Sx2Zb7N4K4mApskvFVug7ySqkdSqmF+uuDAFYBaAFgJIBX9NVeAXCe22MRkf/sPlCCrT8nbqajWP1ytBybw8zI9MXq3QHv56zf48lxzTdJczPNRD0ZeVomLyIFAHoB+B5AU6XUDkC7EQBoYrPNGBEpEpGi4uJiq1WIyGd6PzQDz365AQDQ969fYMDfZiU5RZF1/cu0pBzXnHu/L8ZpBt3wLMiLSC0AHwC4TSkVvpDKRCk1USlVqJQqbNy4sVfJISKPmcuQ9/5Sir9NTcC46+kgyeVdngR5EcmGFuDfUEp9qC/eJSLN9M+bAdhttz0RJceCH/eiYOxkLPhxr+065jLlmat3Yfu+I4lImqcS1VvXcjrAhBzZnhetawTACwBWKaX+ZfpoEoDR+uvRAD5xeywi8tbXa38K+D+Sq18uwjlPfhPPJMXFO/O3JO3Ydhn5RDVW8iIn3x/AFQDOFJHF+r/hACYAOFtE1gE4W39PRA7d9/FyXPnivLgewwhA0QScvb8kfiRFN8oqKrFqh+MSZM8lOyef5XYHSqlvYP93nOV2/0TVVSLGiqkqinFQnJEq7eQnfr0BU5bvxEc39gcAdLx3iuNhCbxkfF92U/5ZTTASD66DPBGlLiP+hAuCxjqbfvol/glyofjgUZz08Ochy90E+NLySnR7wHmrHKtDhcvJv1e0Bb/u0Rx52ZlRp80pDmtAlGC7D5aErehMpKrerGEKbIx1ounav+9wKfYfKYs9YTEo2hT4nb40Z6PrfQ597GscjSLHba7gnTj7B+zYfyRs45o/vb8Une6bii1h2u+7xSBPASorFf47+wf8crQ82UlJW8Mf/wYXPPud4/X3BI1z7iVxXlrj2L9nrEXPcTPQ48Hp3u3UgeBg+uD/Vrre5w9RPr2Yi2Z+KP4F175SFNA6yc6G4kNRp80pBnkKMH3lLoyfvAqPTFmV7KSkreDJKSKvH7+KTiMohYvx2/eXAAAOObzxP/5F7CM2uhMaTEvKKizWS5wDJWWOal6fmbUhbjdzBnkKYFwUB44wJ58q1uw8GNDipbyiMup24eFW/+f0NQCAw6WhAbPSVIQz94c9+P6H6IYC2PjTLygYOxnfWkyAHS2rYpFnZq13vd9o/Gf2DwHvt+w9gnkbIxfNzdu0F398N7bJwyNhkKcA6TQYVbqINPnzkMe+xtDHvgYA7Nh/BCfcMwVvzXPWLvyAXm4erky+rMK+TNo8XO6oiXNxycS5luvt2H8E3R6YhvW7DwYs/26DdlOYtHi7o/SGY3XqJrpewElAt+P0SSlaDPJp6r6Pl+Od+Zsdr3/3R8vwf28twgOTtLE1UqS1XLUwauJczLXJIRs56d0HtUf9jXoZ8qQlziakeP5rLed5qKQch0utg0y4XP47RZFvJut3H8Ipj8zEwZJyvD7X+px0krmYs/4n/Gv6GiilUFGpcLBEC+D7DpcGTNVnloymk7GKV/6KTSjTlNHG+pKTWjta/83vnd8QKPGWbd2Pfm0bhix/9qsNnuz/je8344OFW7H6oWEhn7mNk1YtifYdLsXybQcijql+9r++wnWntcXFha3w2/9+DwB4YuaxIpjZd56BP72/BHN/sM5BV6RK437E7ymaOfk0c7i0HAVjJwcsO1peEVB2SqnHLhhGUzzw0aKtmLp8BwBg9rriqpywoaTMuljGzbgvz365AbsPhFYojnjiG1z+wvemybMFew4dRcHYyfjNM3Oq1lu3+xDufH+p7f7HT15pG+ABYKdeaVydMSefZooPBl5QSil0vHcqfntyazx8freAzz5duh3183PQ/4RGIftJ1IBO5IyTn+NASVnYbPcf3tEq9ubedRaueGEezupkOfp36LEdrWXNaqTK2euKsU0f5Mxoey8CTJiirbtw8z4AwEXPfRtx/9NWhJ9cfObq1BkX0UlTy1gwJx+jJVv24YbXF6DnuMS2BY6WkYF/c15occzNby6qegQO9unSHdi853BcO2mEo5TCrW8v8qTVhV89Om2162Zz5kf88Z+uxF69kjZcwDDK3uPZNtuOUgpLt+43vT/2WYbpj3l61nrM3/RzIpOWthjkYzTy6TmYsnwn9h1ObO29ldLyyqpH7+CLu7xSewTPjKHA77RHZ2Hg35MzGURZhcIni7fjyhfiO0BXMj09awPu+Wh51NsdKa3AUzPXoTyo1cu7RVtx85uLAADLt+232tSR/hNm4u+mHLjXD3VW85wKgOysYx88Om2NtwetxhjkE2z/4TIUjJ2Mtyxy1rH67X/notsD03GktKIqqBvKK7SLqLxSJbxjyAOTVoTUD0QrVZp0Xv3yfPzxncWWn1VWKts6kdIwzRPNzFs/MXMd/jF9Ld5bsNV2/YMOmuNt2mP9lLZt3xE88+WxCl0vi+4UAjMixq73HSlDdmY1D0eseE0PW/S5MF/9zrsRBo3H2s73T8XolwJzvubxRjrdNxX7E/jk8fK3m2Le1qqi8UBJGXqOm27bnDCZZq7ejQ8XWTdb7P+3meg5brplsLS6rosPHsXtQR1jzJsalZU79pfgyzXxnzLTy4z8q9/9GHDj3nVAqxidvHQH5qxP36I5J+KVn2GQ94DRbtfZutr/GXH6RbfsDZy1JzhdL87ZiIuf+y6qXP3+w2WYvU4LJkfLKxI6nriR65u5ehduf3cJ9h0uw+OfO+s2r5QKCaxlFZVYvGWfJ2lrd/dnVfOcmpWUVeCf09dgwY8/QymFHftLcKCkHG3u+gxPzQxMu9WTyiOfrcIHC+1z6YYn4jB8wOqdFuOue1xc878lxzo+mTM7a3clvo6gOkjbIF9RqcL21PPSv2asRbu7P8OCHyNXFFXqQSfTFOVnrNyFuz5cajuxwYrt+y1zgeUVlbjlrUVhjzd52Y6A949/sQ7zNu3Fr02z+/SfMDPsPsa8VoQrXpiHdnd/ho73TkXvh2aEjPjnRllFJb5YdayVRK9x06sGlyqtqERlpcLVLxdhxkptnQyHZ+05T36DE+6ZgspKhU8Wb0NFpcKj09bgvKfnVAWzBT/+HDL9nVIKa3YetNstAGDVjgOoqFSWrUcmfv0Dnpy5Hhc8+y0+WBiYuw/tiRrd3T6aprD/nrEWBWMnY9nW/QHfbzhDH5td9frHPb9g6GNfOyr6icaK7cmbwMPP4lW/l7ZB/ryn56D9PVM8219JWUVVRVfwYP9P6p0zLnj2W0xdvgPTV+y0HebUCPI/HTyKb9b9hKVb9+G6V4vw1rwtlrMAzVqzGyOe+MZy+rJFW/YF5Iqs3PexdcXeut3Hck3bIszZuVK/+ZifCozu6G6VV1TiiS/W4ZpXivD1Wu1p4efDZQGds14M+i7NrTAOHS3H0Me+tqxoXLFdC8TvFm3BrW8vxm3vLMYSPRf/00HtaeQr/ZgXPPsdxuk3lle/+xFDHvs6ZByW/3z9A655eT6AwGFt3w6qXzlafuwpad2uwJtFVmZgUHda51BeUYn/zv4Bbe/+DCu2O6tUNQYK+/VT3+CaV4qqlju9Tfzq0S+xOsLNLlGiHdQtFa3ZFZ/vOm3byS9z2LrgSGkF/vT+Etx3Thc0rZNnuc7+I2Xo8eB0DDihEV6/9mR0uNf+5nH96wurXv+uf5uQz40LbPv+Elz+wvd47Zq+VZ9ZXe8bi7Vu6lYX29MJGnzpYEloTu6fM9aifdPamL2uGPXyszH6lAI0qpWLDAflUEopPPPlBnRvWRdXmFrP2BUDBeeqzU9B3/+wB6t3HsQ9Hy/Hxzeeitfm/ogR3ZqhYa3cqnX26eOXmG+Ij0xZhUGbmmKu6Wb14pyNeHv+5qrzYPPewzhZ72U6Y+UuPPzZsZE5zTe8sabxW0rLK/H0rGNFOAs3Bz7dZQV9P+UVlXivaAsu7NMy7IiQL87ZiJ/1nJ7bpoUvfON+nPVEKxwfOhkIOZOWQX7RZucXwadLt+PTpTtwoKQc40eeiNYN80PW+f1rWi7om/U/RdXSYOrynTi7S1McLi3HhuJfcN7Tc3BGx8Zht1FKYfgT3+CmM9rhnO7NsW63/d09EZVu4dz4xoKqdvhPz9qAwV2aYkT3ZhjZs0XY7T5bttO2iZyTugJzTt7opblkyz58vmo37v9kBWas3IXXrjm5ah2rVhsrth+wLDY4XFpRNf6LiOCDBVvR/4RGIaMLVticBsEZgB1BPS6zgsqaZq0pxqw1xaiZm4Xh3ZqhpKwCH1lU4P7s4aM8h7CoXtIyyJ//TGhPua/WFmP0i/PQsGYOiu4dFDLv4tdri3Hao7OwacKIkG1XmoLB5ig6B13/+gKMOqkV3p6/BVfrufpZQYHZ3JxMBLjxjYVYteMAbn17Mc7p3tx2NMHTH01O+3Wz4OLh6St3YfrKXRjZs4XtzfDhySvxn9n2OUkn7eLNmWFz0ch1r2o34+BRG4/YDLwVyR3vaS1cOjatjXr52QGfOS0bDy6OCS6uMbwzfwtmr/sJV/cviDqdROGkZZC3Mlov797zSykqFWBca3aX6qw1u/G7l+Zjyf2DccBUXGGUGzv1tl6WfsQmh2rOuQoEU5Zro+lVVAa22Hn5200oaJiPAe0b4YQmtW3bOPvBlGU7AlqHHCwpQ+28bFRWqrAB/jabduYlQXUg5hu01RjcwR3C/jF9raN02wkuK526fGfAzSWc4NZOe2wmADHqBr5ckzrd8Ck1pEWQV0rhnflbcG7P5sjPCfyT/vjOYnRtUTdgWVlFJTIzrCfOLRg7GTmZGWhQMwcA8Kf3A4NINPM9mtkN43rtq8cqxHYeCHy0f31uYFv6B/SKwRHdmsWUhkS54Y2FAe+7PTAdOZkZjjv+BAuuXF65/QAKxk7G/24eYLl+vJt4Xv/6gpi3Df6NgwUX7xC5lRata77bsAdjP1yGByeFzun44aJteOjTwOVGB6GSsgrLMuDSisqqi3H6ysCmZ7EG+U9imBThL/rY7sGCm0WmglgDvBWjNZBdsN227wg+WhS5nTlRdZAWOXmjKGT7/iOOutE/8tkqLNy8z7ZdejgcU8M/wvWDMEZcJKru0iLIG60tZq9z1i36DbYuSAu7D6Z/22kit+JeXCMiQ0VkjYisF5Gx8TiGk7bZRETVUVyDvIhkAngawDAAXQBcKiJdvD4OYzwRkbV45+T7AlivlPpBKVUK4G0AI70+SEaqjEdLRJRg8Q7yLQCYe/Ns1ZdVEZExIlIkIkXFxbH14MzLtm4OSURU3cU7yFtlsQP6HymlJiqlCpVShY0bh+/yb6d7y7qRVyIiqobiHeS3Amhlet8SQPQNxiMIHvSJiIg08Q7y8wG0F5E2IpIDYBSASV4fxNzN3WrsGSKi6iquQV4pVQ7gZgDTAKwC8K5SyrobZ4I9eG7XZCeBPGA3tAERaeLeTl4p9ZlSqoNSqp1S6uF4Hy+YVc6+6N5BuLzf8QlNR2aURUq1clOnn9ppHWKrS/GC1dDQiZTMv53IibQYuwYAHh/VEzP+cJqjdRvVyq0Kuic0qYWmdXIDPh/UuQkAbYhZr6wdPyyq9VvWr1H1OkcfD/3kNg0C1unSrI77hHmgTl7gDSk/JxPLHhiMjY8M9+wYv+nVAledWhCSc/ey9ez7158S9TYt6llPNEPeeui8E5OdhJSVNkF+ZM8WaK8H5b4FgcHQrpx+2QOD8ektA9BPn/1H209z/OfKQvzv5gH4y7nH+m09cWmvqNIz647T8cezO1S9jyYn/8lN/XHboPYAtJN77cPDsP7hYXh7TL+qdZrUzsVntw6MKk3xYq4T2fjIcKwcNxS187IhIrhCf2Jy2wLq/N4t8MC5XdEtaD9eVrkXms6bYSceh0cv7B5xm/vPYbFfrPoGZVrCuSLBT97pJG2CvNlr1/YNWfbpLaFlt7XzspGXnRkQKJrWyYOIoFvLuji1XSNc3q81XhhdiHN7NHd8/PycTLRpVDOWpGPACY3Qo1U9DD2xGTZNGFF1cmdlZgQE0yjmc/ZcqwY1Am6cXZsfe6IInozFmGxjUOemljfbiVf0cRRM7Tq8hesIN+nm/lg1bmjEfVt59vI+uKiwFVrUq2G7zvx7BqFGTib+e2UhftM7/GxYTiy+/2zX+0gl/76kZ8hkLOS9tAzy2Rmhf9aJLeri01sGYMNf7YsQftWhMW4f3CFg2fjzuuGszk0Dlj1pkas/xfQ0kBkUeM7p7nz890hPDEYZcGUU0xB67fpftQMA1MzROqGNGdjWdl0jnVYPMk9c2guDux6HOjWsL/TszMBZs6yEK67JEHFcnPNrm5v4ZSe3tt2mcW2tmG9Ql6b418U9HR0nXLFDvfwcrB0/DAvuHeRoX6kuQ2IrcjTOO3ImLYO83YBlJ7aoG7bY5LxezZGbFfkE6tGyXsiyPw/rdOxN0CHMufoL+7TEa9f0RbO6x8py87KP/QzGZCV2XhxdiOMb5uPhKMsoh514XFTrh3NZXy3wTb3tNPznykJkZAhuOfMEy3WNJ47gHD6Aqqcju6kCV44bihNbaEHAnGNfeN+xHG/wLFBmToa7aNu4Jt4Z0w9/v8D6aeLG09tF3Ec0Luzd0nK5UZ+Uk5WBhrVy0ahWruV66SQzw/lN2Cw/hRol+EFaBnlAqzT92wXdHK3bTH8kr2uTowxmdWL2MJUV2523myaMwD8u6oGB7RsHBI9wRQLBsjIz8NWfzsCwKGeHevbyPrafNaltH1CsniyMgN2qQT7O7qI95dw+uKNlcYwxF2q4gNvZIjc38Yo+yM7MwJmdtP2bb4rmG2HYnHyG/ecXF2rBtkW9Gji5bUPUsMkdWt2cYtGlWR3Uys2yPU77oEr+2XeegX5tnZdZm5kzDV546Xcnebo/Q70a4TM0doxMBjmTtkF+2h9OwyUnOTsZ/jCoA564tBfO6NjE0fpWTwrmYOAkMJjXSWLJC4Dw5ft5We5OkZE9tbLqwV2b2q5zfMOaVTe90zs2xnUD2+DMTtpvcetZ7TH7zjNwfEPndRxGhV5uVqZtTv9yjyqE7Tx2SU+8PaYfbj2rPa46tQCf3ToQyx8cYrnu46NCi3pq5GTiqct6hywviNBk9LqBbbDwvrNx3UBt4vjh3dw9wX079kzH14WVnq1Cn3oB4D9XFiInKyPsk5gdo1ECOcPnHmiPyNFUrEY6LZ00pDEXGyWzfB0Abji9XcgUiQa3FbxdmtexzOF/clP/gPdGkVaDmjm4Z8SxVk2ZGYJWDewDm9UTwtOX9ca0FTvRplFN29mjureshw9vPBXdW8QW5D8OSn+w/JxM9GvbMKDllpW/X9C96kYYrFGtXHxyU3+s230I7ZvUwq4DJfhqbTE27bGf9Mb47rpZFCmGc/2v2uG5rzYELBs7rBOaR/GUaeXWQe3xu5fmhyw3ngBj4SQTlZuVEfNUnekmbXPyyTTKweNkgSlnGu+WMlbt1c2tTrqFDXQKA9s38jxNPYJyeLEWi1ht1rh2blVOPdxee7euj6zM6C+Bpy7rZZtDNTj5STdNGIGLT2oVdp0ererhwj4t0aNVPQzu6jxXrtSxYjInE7+bK7kN4c8LZyL9qvEaJfy+czyftiJlMcjHINKJeeeQjgCAq/oX4Nc9muPaAaGtT05p1xD/ubIQQPxz8kYANVrFALAtGw5WqYBXr+6LPw/VKpbNbfVjMaizdQ7OrvI1EvNP8fionngvTIemeXefFdMxgp3T3fqpr7GpbqNhhAr0eDNaLB1XJw+XRLiRAECFRU4jkcP+ednxkAIxyMcgUjwygmqdvGw8eWkv1LVpC9y5mXZiV7rIyv/1fGeVy4D2+G12UkH9iNsopf09N5zeDpsmjIhY/BDJ81f0ibr3r5UerephcJemAU8AI3u2wElBHeHMnzepk4fL+7VG+ya1XB/finGj+sdFPQI6ViXD6R0a49+X9MAdQzo6eqroblG840XWw+k+7h7R2YOjkRUGeReOqxPYpf2Z3/bG5f2c1/w3qZ2H+vnZAWXQ0QrXjtsLXj9lZGYIciwqcwv0MvmuzZ0VEXxyU39MvLIwcnFA0Pvx53XDjD/+ytExomV8VadFKN5667p+GDfSfU/ZcMUwIoLze7V0PKFOrdwsnNfTeb2UU+YntIv6WDcfjQdOFncMg3wUOh1XG2NOa2t7Ag3v1gzjz3Oes87JysCi+wdjRBSdpbx0gd5m26rFxty7zsL5vVq4qiCLxkkFDTDl1oG4un9BVNtFupiNzy8pjFxk4ZZxQ4xUv3BKu4a48pQC18erUyOw3cT8e2LvRKVMee4+x2tPeMd7MPhbecWx/T56UY+Qz6/ur7UCMveadmvx/WfH1GonXTHIR2Hqbafh7uGdk97kMZxrBrRxvO6ovq2xacIINKkTOsjWcXXz8O9LeiZ0asXOzepEXQEbaX0RwcpxQ/DX3zi/+cbKKHWL5xw25j83+DxsHKa/g5nVQGxKHStaubxfa6waNxQt67sP8pFKIs/o1ASbJoyw7PzVq3V0LYQM9fKt60MeScA54EcM8i748ZHwzqEdcUZHDn9rlp+TFfVQz2avXN0X/7TIhQZzmpP3il3P7kis6gsUgKF6651uLeo6rpiPJN/Ffj66MXwz1XCsfoLWYZripjO2k/eJpy/rjWXb9rveT25WJoZ0PQ6z1sQ2KXp19/wVfUJaxvxKHy/o9veWhAyrHCABOXlzzrh2uLSY1HPQk1sphWHdmmH9w8NialZq5b3rT3E0tISVd3+vPW20b1IL63Yfinp7y8mlffwEHk8M8jGIx7kyonszz8rmz+3ZHF+tLcaU5TvDByUKMSRMW/TVD8U2oqWX9h8uq3rdvO6xjkrBjQDMerSqh+Z187B9f4nl5zWyM6va/XsV4AGtH8LiLfti2tbotTzp5gE4XFoe9fZW9xavnk689KchHfH2/M3YsvdI3I7B4po0Yoy9k5+ThWcv74P59wzCN2PPTHKq0vNWpSkAABKgSURBVEdedqajOop4VvoZzW4BVA39ACDiUMef/p/13ANTbh2IVQ8NtS3HdiJ4MhtAa/WlFZE5zxJ9a3Gu1sjJREOPBmszKpT9pHm9PEeDIrrBIB8DHxbFW2pcOxd18tJ/vO7rBrbBOy47aaWKG063Hu0zErvRTa0Gh4vW69eeHDJufyzXSLJH3oxHE9JwXrm6L87r2QIvXaUNAPfYJc6Gq44Wn+VjkMpFe5/eMsDxaJupwk0/g1RjV4GczEYA2ZkZCH7A+VKvE4qmHNzLvyH4acrJnA6jTy3Ax4u3uzru6R0bV/3tkRh1Pa0a5NvOXucFBnkXjNPImBM2FZzoYDyS5nU5b6krCQq45nmA/dYufNu++JUxh/PlHadrL5L0dfjrV9AwyLu04sEhyHU5HK9bdfKycKCkHKNP8WYeTLvyWwov0U94gcNbO9smni1/rEQayM1rBUHTbhqjUSbqt0lU89losEw+Buau2jVzszxtkRALo9LsNzazDjlhHjo30uxUFF4yrnMnh3z+ij6YefvpAIAXRhc6avvvVryujdevOTns58b34TS4mwfvi4Ux8Y7/QjyDfFpxE1wSneNKR7GOpJkoQ7oeV5XTPatzU1yQwLFkzM7vZd0SKJrTd0CE8YGqctQOf5K87AxXTSyv0ofj8GFGnsU1sfDjIxlQfTt7+I0/z4746926HhZuDm0X/8LoQhws0dq6x7OCsa2pqCaW36DTcbG3NDp27fnv13cV5EXkUQC/BlAKYAOA3yml9umf3QXgGgAVAP5PKTXNZVp9w285Np/ecyiNjRvZFfd/siJgmV3RzFk2cwh45bu7zsS+w2UB8wAblMvS+BOa1ML6KHrc2l2L+TmZOFxa4SotsXJbXDMDwIlKqe4A1gK4CwBEpAuAUQC6AhgK4BkR8V93M5f8lqP3162n+vLbeREPlqNoJukEbFwrF52b1XHVoctK/fxsPDTyREfrGhk/q1++c7M6WDkueb2lXeXklVLTTW/nArhQfz0SwNtKqaMANorIegB9AXzn5nh+kaPnWJrWSW7nDYNXIeXiwpZxn4qQyE7sU0CGbldVJB/l+WyeG/aEJrUs5z6woqrGLfLfDd7LMvmrAbyjv24BLegbturL0kKTOnl47JKeESt/Us3fL4x/awuiRIiy3rVKg5o52KGP8aP1PXC2ByNzVN+HLdMi3qZE5HMRWW7xb6RpnXsAlAN4w1hksSvLb0tExohIkYgUFRenzsiJ5/VqkfRu2IZ/XtwDA05oFNA5hiiZ7ObyjYe45Z2j2LHR/6BJ7Vx88+czqibk8YOIOXmlVNjpZkRkNIBzAJyljtVIbgVgnoqnJQDL/sJKqYkAJgJAYWEhCwti0Of4Bnj92vDthin+knry+qGYwJSETsd5PzF33zYNqoYCCDisxZ9uTCN5++AO+PvUNfiNTbPNYObinWi+0asHtMGugyUYc1pbre+MqdeZ1X6uG+h8ch+33LauGQrgzwB+pZQ6bPpoEoA3ReRfAJoDaA9gnptjEaWKpIRbP7T4cpmESN+bMca8Ex2a1sbqh4YiLzsTN8Y4qJuI86+1Zm5WwNSfATN4Ba370lUnof8JiSvqdVsm/xSAXAAz9MqPuUqp65VSK0TkXQAroRXj3KSUSk77ISJKOLdNF6NhV2Eby9SVXqU73IPVGZ0SO9aV29Y1trdIpdTDAB52s38iCpWZIejRMmigOT8U16QZgbgI+f75PdjjlcgjiSox2fDX4Yk5kImjogsxv/RPkItVutw3OXYNkceSERz6t2sY1/2vGjcUV51a4Hj9WIo9/BZUvUpPsv8s5uSJPJLIcuhgJ7eNb5B3NPWhD+p+3QpsXSMRn16eu7w3dh88GrLcTzcsBnkiIgtOAvWQrsdZ97iNQ3pixSBP5JF0KIeOxj8u6oGGtUw9PNPgzw/OuNfLt58q89wezW1b9jAnT5SGkllckwwXJmk8+kTq0NR9p65L+7aKvFIcseKVyGPVLUfvFT+M3mlVBm81hLFT40Z2xRVWI3YmEIM8ETlypUdzCKcK46bz70t62nweZlv9Ru+HjsgM8kTkSJ0aWvl0TRfT5KUSI4bXybMvl7fdNvkPJVUY5Ik84odcWzr489BOyU4CAG8CtR9mkWPFK5HH/JSLSzXxnAPWmdCgHMvveXrHxnj1ux/Rq3V9D9LkDoM8kUdq5WbhaHlpspNBHjFieyyZ8TM7NcWa8UORm5X8oi0W1xB55P0bTsW9IzrHNPphOhg77Fgxiw9KKWIS0OPV5SOZHwI8wCBP5Jk2jWri2oFtk52MpOnduj7uGNwh2cnwTKQQH+0t4LnL+2DqbQNjTU7MWFxDRJ5L1XoJ8wNIpL8h2oeVoSceF21yPMGcPBF5LpWKa3q1rofLTm4dstwodkvVG5aBQZ6IHMnO1KLd2V0SN0l3Inx0Y380qa31ajUmY7m6fxs8NPLEsNulSuxncQ1RCiu6dxCOllcm5Fi5WZn4/u6zUD8/J/LKKeqpy3pj3e5D6NmqXrKT4hkGeaIU1qhWbkKP17RO+HFc/DD+jBs1c7NCAnwqFT1ZYXENEaWkdo1rJjsJKYE5eSJKSR/e2B+7D5REtU23FnWxbNv+qLaxezhJlacW5uSJKCXVrZGN9lGO9968XuzDBgfr17aBZ/uKJwZ5Iqo2vBrrv3ndPFxcmNzJQJxikCciilLj2rksriEiouRjkCciSmOeBHkRuUNElIg0Mi27S0TWi8gaERnixXGIKDX4vWl5Rw8m6E4VroO8iLQCcDaAzaZlXQCMAtAVwFAAz4iIP8bdJKJqyyhGv3VQ++QmJIG8yMn/G8CdCLx5jwTwtlLqqFJqI4D1APp6cCwiIoqCqyAvIucC2KaUWhL0UQsAW0zvt+rLrPYxRkSKRKSouLjYTXKIiBxJ9aEKohGxx6uIfA7AaiDkewDcDWCw1WYWyyy/VqXURAATAaCwsLAaffVElGixtHpMkZaStiIGeaXUIKvlItINQBsAS/T2oi0BLBSRvtBy7uaeAi0BbHedWiIiD6goqoZTPdcfc3GNUmqZUqqJUqpAKVUALbD3VkrtBDAJwCgRyRWRNgDaA5jnSYqJiGLkVY/XVIr7cRmgTCm1QkTeBbASQDmAm5RSFfE4FhER2fOsM5Seo//J9P5hpVQ7pVRHpdQUr45DRP51ZqcmAIAhXZMzn2mipFIxPYcaJiLPdG5WB5smjEh2MsiEwxoQEYVh1bomlcrkGeSJqNpJ9RYz0WCQJ6LqI4bC9FS/ITDIE1G14zZup1LFK4M8EVUbqRScvcIgT0QUBiteiYhSjEr1gvYoMMgTEaUxBnkiojTGIE9E1YbEMG5w/fycOKQkcRjkiYjCaFonD3VrZCc7GTFjkCciiqCgYX6ykxAzBnkiqjZibiefwtNDMcgTUbXjtgVlQcOa3iQkATjUMBFVG15kyF/63Uk4uU0D9ztKEAZ5IqII6ucfq3g9o2OTJKYkeiyuIaJqw5i5qlOz2lFtd8/wzgCA5nXzPE9TvDEnT0TVxsieLTCoc1PUzI0u9NXIyQQQWzv7ZGNOnoiqlWgDfKpjkCciSmMM8kREaYxBnogojTHIExGlsepVA0FEpOtzfH3k661mnErFyUZcB3kRuQXAzQDKAUxWSt2pL78LwDUAKgD8n1JqmttjERF55YMbTnW8bio2nTS4CvIicgaAkQC6K6WOikgTfXkXAKMAdAXQHMDnItJBKVXhNsFEROSc2zL5GwBMUEodBQCl1G59+UgAbyuljiqlNgJYD6Cvy2MRESVV6hXWuA/yHQAMFJHvReQrETlJX94CwBbTelv1ZSFEZIyIFIlIUXFxscvkEBF5L3ULaxwU14jI5wCOs/joHn37+gD6ATgJwLsi0hbW34nlTVApNRHARAAoLCxMxRslEZFvRQzySqlBdp+JyA0APlRalfM8EakE0Ahazr2VadWWALa7TCsREUXJbXHNxwDOBAAR6QAgB8BPACYBGCUiuSLSBkB7APNcHouIKCky9NY1ednRNbn0A7dNKF8E8KKILAdQCmC0nqtfISLvAlgJrWnlTWxZQ0SpqmmdXNwxuAPO7WFZtehr4qfG/YWFhaqoqCjZySAiSikiskApVWj1GYc1ICJKYwzyRERpjEGeiCiNMcgTEaUxBnkiojTGIE9ElMYY5ImI0hiDPBFRGvNVZygRKQbwo/62EbQhEvzKz+nzc9oAf6fPz2kDmD43/Jw2wF36jldKNbb6wFdB3kxEiux6cPmBn9Pn57QB/k6fn9MGMH1u+DltQPzSx+IaIqI0xiBPRJTG/BzkJyY7ARH4OX1+Thvg7/T5OW0A0+eGn9MGxCl9vi2TJyIi9/yckyciIpcY5ImI0ljCgryItBKRWSKySkRWiMit+vIGIjJDRNbp/9c3bXOXiKwXkTUiMsRin5P0Wal8lT4RyRGRiSKyVkRWi8gFPkrbpSKyTESWishUEWnkJm2xpE9EGurrHxKRp4L21UdP33oReUJErCaFT3jaRCRfRCbrv+cKEZngJl1epy9on0m7LiL8tkm9LiKkzQ/XxdkiskBPxwIROdO0r9ivC6VUQv4BaAagt/66NoC1ALoA+DuAsfrysQD+pr/uAmAJgFwAbQBsAJBp2t9vALwJYLnf0gfgQQDj9dcZABr5IW3QpnvcbaRH3/6BJHx3NQEMAHA9gKeC9jUPwCkABMAUAMP8kDYA+QDO0F/nAJjtNm1ef3c+uS7C/bbJvi7sflu/XBe9ADTXX58IYJsX14Xrk8DFF/AJgLMBrAHQzPSlrNFf3wXgLtP60wCcor+uBeAb/Qvz5GT2OH1bANT023cHIBtAMYDj9ZPlOQBjEp0+03pXBV1szQCsNr2/FMDzfkibxX4eB3CdX747fVnSr4sI6UvqdRHmvPPVdaEvFwB7oGXUXF0XSSmTF5ECaHet7wE0VUrtAAD9/yb6ai2gnRSGrfoyAHgIwD8BHPZb+kSknpFGEVkoIu+JSFM/pE0pVQbgBgDLAGyHFgxe8CptUaTPTgs9rQHp9knazPupB+DXAL7wKm0epc8P14Xdtn64Liz59Lq4AMAipdRRuLwuEh7kRaQWgA8A3KaUOhBuVYtlSkR6AjhBKfWRH9MH7dGvJYA5SqneAL4D8A8/pE1EsqGdzL0ANAewFFqu3xNRpM92FxbLPGnj60HajP1kAXgLwBNKqR+8SJsX6fPRdWHHD9eF3fa+ui5EpCuAvwH4vbHIYjXH10VCg7z+ZX4A4A2l1If64l0i0kz/vBm0sjFAu1u1Mm3eEtpd9hQAfURkE7RH0w4i8qWP0rcHWk7KuNjeA9DbJ2nrCQBKqQ1Ke+57F8CpbtMWQ/rsbNXTGpxuP6TNMBHAOqXUY27T5XH6/HJd2PHDdWHHN9eFiLSE9h1dqZTaoC92dV0ksnWNQHsEWqWU+pfpo0kARuuvR0MrtzKWjxKRXBFpA6A9gHlKqWeVUs2VUgXQKlHWKqVO91H6FID/ATDSdBaAlX5IG4BtALqIiDFa3dkAVrlJW4zps6Q/uh4UkX76Pq+MtE2i0qbvazyAugBuc5OmeKTPR9eFXfr8cF3Y8cV1oRdpTYZWnzbHWNn1deF15UKYSocB0B4xlgJYrP8bDqAhtLLNdfr/DUzb3AOtZcgaWNQmAyiAd60IPEsftAqcr/V9fQGgtY/Sdj20E3gptIuuYZK+u00A9gI4BC2n0kVfXghguZ72p6D3yk522qDlnpT+3Rn7udZP352Prgu739YP14Vd2pJ+XQC4F8AvpnUXA2ji9rrgsAZERGmMPV6JiNIYgzwRURpjkCciSmMM8kREaYxBnogojTHIU7UmIhUislgfJXCJiPxRRMJeFyJSICKXJSqNRG4wyFN1d0Qp1VMp1RVaJ5jhAP4SYZsCAAzylBLYTp6qNRE5pJSqZXrfFsB8AI2gdd55DdoQtQBws1LqWxGZC6AzgI0AXgHwBIAJ0Hpz5gJ4Win1fML+CKIwGOSpWgsO8vqynwF0AnAQQKVSqkRE2gN4SylVKCKnA7hDKXWOvv4YaD0Tx4tILoA5AC5SSm1M6B9DZCEr2Qkg8iFj1L9sAE/pIzxWAOhgs/5gAN1F5EL9fV1o4wUxyFPSMcgTmejFNRXQRgb8C4BdAHpAq78qsdsMwC1KqWkJSSRRFFjxSqTTRyF8DtqsQQpajnyHUqoSwBXQplAEtGKc2qZNpwG4QR9WFiLSQURqgsgHmJOn6q6GiCyGVjRTDq2i1RgW9hkAH4jIRQBmQRshENBGFSwXkSUAXoY2FWABgIX6ULDFAM5L1B9AFA4rXomI0hiLa4iI0hiDPBFRGmOQJyJKYwzyRERpjEGeiCiNMcgTEaUxBnkiojT2//nxvcsmmvzrAAAAAElFTkSuQmCC\n",
      "text/plain": [
       "<Figure size 432x288 with 1 Axes>"
      ]
     },
     "metadata": {
      "needs_background": "light"
     },
     "output_type": "display_data"
    }
   ],
   "source": [
    "sns.lineplot(data=df, x=\"Date\", y=df[\"Close\"]-df[\"Open\"])"
   ]
  },
  {
   "cell_type": "markdown",
   "metadata": {},
   "source": [
    "We can see how as time goes by the value that increases or decreases the company is greater."
   ]
  },
  {
   "cell_type": "code",
   "execution_count": 7,
   "metadata": {},
   "outputs": [
    {
     "name": "stdout",
     "output_type": "stream",
     "text": [
      "root\n",
      " |-- Date: string (nullable = true)\n",
      " |-- Open: double (nullable = true)\n",
      " |-- High: double (nullable = true)\n",
      " |-- Low: double (nullable = true)\n",
      " |-- Close: double (nullable = true)\n",
      " |-- Adj Close: double (nullable = true)\n",
      " |-- Volume: integer (nullable = true)\n",
      "\n",
      "+----------+------------------+------------------+------------------+------------------+------------------+--------+\n",
      "|      Date|              Open|              High|               Low|             Close|         Adj Close|  Volume|\n",
      "+----------+------------------+------------------+------------------+------------------+------------------+--------+\n",
      "|2004-08-19| 49.81328582763672| 51.83570861816406| 47.80083084106445|  49.9826545715332|  49.9826545715332|44871300|\n",
      "|2004-08-20|50.316402435302734|54.336334228515625|50.062355041503906|  53.9527702331543|  53.9527702331543|22942800|\n",
      "|2004-08-23|55.168216705322266| 56.52811813354492|54.321388244628906| 54.49573516845703| 54.49573516845703|18342800|\n",
      "|2004-08-24| 55.41230010986328| 55.59162902832031| 51.59162139892578|52.239192962646484|52.239192962646484|15319700|\n",
      "|2004-08-25|52.284027099609375|  53.7983512878418| 51.74604415893555|52.802085876464844|52.802085876464844| 9232100|\n",
      "|2004-08-26| 52.27904510498047| 53.77344512939453|52.134586334228516|53.753517150878906|53.753517150878906| 7128600|\n",
      "|2004-08-27| 53.84816360473633| 54.10719299316406| 52.64766311645508| 52.87680435180664| 52.87680435180664| 6241200|\n",
      "|2004-08-30| 52.44342803955078|52.548038482666016| 50.81453323364258| 50.81453323364258| 50.81453323364258| 5221400|\n",
      "|2004-08-31| 50.95899200439453| 51.66136169433594| 50.88925552368164| 50.99386215209961| 50.99386215209961| 4941200|\n",
      "|2004-09-01| 51.15824508666992| 51.29274368286133|49.648902893066406| 49.93782043457031| 49.93782043457031| 9181600|\n",
      "|2004-09-02|  49.4098014831543| 50.99386215209961|  49.2852668762207|50.565467834472656|50.565467834472656|15190400|\n",
      "|2004-09-03| 50.28651428222656| 50.68003845214844| 49.47455596923828|49.818267822265625|49.818267822265625| 5176800|\n",
      "|2004-09-07|50.316402435302734| 50.80955505371094|49.619014739990234|50.600337982177734|50.600337982177734| 5875200|\n",
      "|2004-09-08|50.181907653808594|  51.3226318359375|50.062355041503906| 50.95899200439453| 50.95899200439453| 5009200|\n",
      "|2004-09-09| 51.07356262207031| 51.16322708129883| 50.31142044067383| 50.96397399902344| 50.96397399902344| 4080900|\n",
      "|2004-09-10| 50.61030197143555| 53.08103942871094| 50.46086120605469| 52.46833419799805| 52.46833419799805| 8740200|\n",
      "|2004-09-13|53.115909576416016|54.002586364746094|53.031227111816406|53.549285888671875|53.549285888671875| 7881300|\n",
      "|2004-09-14|53.524375915527344|  55.7908821105957| 53.19561004638672|55.536834716796875|55.536834716796875|10880300|\n",
      "|2004-09-15|55.073570251464844| 56.90171813964844| 54.89424133300781|  55.7908821105957|  55.7908821105957|10763900|\n",
      "|2004-09-16| 55.96024703979492| 57.68378829956055| 55.61653518676758|  56.7722053527832|  56.7722053527832| 9310200|\n",
      "+----------+------------------+------------------+------------------+------------------+------------------+--------+\n",
      "only showing top 20 rows\n",
      "\n"
     ]
    }
   ],
   "source": [
    "spark = SparkSession.builder.appName('aggs').getOrCreate()\n",
    "logger = spark._jvm.org.apache.log4j\n",
    "logger.LogManager.getLogger(\"org\").setLevel(logger.Level.WARN)\n",
    "\n",
    "fields = [StructField(\"Date\", StringType(), True),\n",
    "          StructField(\"Open\", DoubleType(), True),\n",
    "          StructField(\"High\", DoubleType(), True),\n",
    "          StructField(\"Low\", DoubleType(), True),\n",
    "          StructField(\"Close\", DoubleType(), True),\n",
    "          StructField(\"Adj Close\", DoubleType(), True),\n",
    "          StructField(\"Volume\", IntegerType(), True)]\n",
    "schema = StructType(fields)\n",
    "#Loading dataframe using spark\n",
    "spark_df = spark \\\n",
    "    .read \\\n",
    "    .format(\"csv\") \\\n",
    "    .option(\"header\",\"true\")\\\n",
    "    .schema(schema)\\\n",
    "    .load(\"out.csv\")\n",
    "#Printing Schema\n",
    "spark_df.printSchema()\n",
    "spark_df.show()\n"
   ]
  },
  {
   "cell_type": "code",
   "execution_count": 8,
   "metadata": {
    "scrolled": true
   },
   "outputs": [
    {
     "data": {
      "text/plain": [
       "<matplotlib.axes._subplots.AxesSubplot at 0x20217a6bc88>"
      ]
     },
     "execution_count": 8,
     "metadata": {},
     "output_type": "execute_result"
    },
    {
     "data": {
      "image/png": "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\n",
      "text/plain": [
       "<Figure size 432x288 with 1 Axes>"
      ]
     },
     "metadata": {
      "needs_background": "light"
     },
     "output_type": "display_data"
    }
   ],
   "source": [
    "sns.lineplot(data=df, x=\"Date\", y=df.Close/df.Open)"
   ]
  }
 ],
 "metadata": {
  "kernelspec": {
   "display_name": "Python 3",
   "language": "python",
   "name": "python3"
  },
  "language_info": {
   "codemirror_mode": {
    "name": "ipython",
    "version": 3
   },
   "file_extension": ".py",
   "mimetype": "text/x-python",
   "name": "python",
   "nbconvert_exporter": "python",
   "pygments_lexer": "ipython3",
<<<<<<< HEAD:notebooks/test-yfinance.ipynb
   "version": "3.6.12"
=======
   "version": "3.8.3"
>>>>>>> 37a27916e37ba9dbeae5f8867e3af2095652cb56:notebooks/Data_Source_Analysis/test-yfinance.ipynb
  }
 },
 "nbformat": 4,
 "nbformat_minor": 4
}
