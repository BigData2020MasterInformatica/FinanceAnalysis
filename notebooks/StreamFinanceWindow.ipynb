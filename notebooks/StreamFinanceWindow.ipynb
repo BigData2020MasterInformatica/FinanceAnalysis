{
 "cells": [
  {
   "cell_type": "markdown",
   "metadata": {},
   "source": [
    "Alumnos: Jose Gomez Baco / Leticia Yepez Chavez\n",
    "\n",
    "# Stream Finance With Window\n",
    "Program that reads finance in streaming from a directory, finding those that are higher than a given threshold.\n",
    "\n",
    "It is assumed that an external entity is writing files in that directory.\n",
    "The file should have the CSV format with the schema: [\"name\":string, \"money\":string, \"time\":timestamp]\n",
    "\n",
    ":param directory: streaming directory"
   ]
  },
  {
   "cell_type": "code",
   "execution_count": 2,
   "metadata": {},
   "outputs": [],
   "source": [
    "#Load library\n",
    "import sys\n",
    "import logging\n",
    "from pyspark.sql import SparkSession\n",
    "from pyspark.sql.functions import explode, window\n",
    "from pyspark.sql.types import StructType"
   ]
  },
  {
   "cell_type": "code",
   "execution_count": null,
   "metadata": {},
   "outputs": [],
   "source": [
    "# Define de path of the directory\n",
    "directory=\"\""
   ]
  },
  {
   "cell_type": "code",
   "execution_count": 3,
   "metadata": {},
   "outputs": [],
   "source": [
    "spark = SparkSession \\\n",
    "    .builder \\\n",
    "    .master(\"local[2]\") \\\n",
    "    .appName(\"StreamingFinanceData\") \\\n",
    "    .getOrCreate()"
   ]
  },
  {
   "cell_type": "code",
   "execution_count": null,
   "metadata": {},
   "outputs": [],
   "source": [
    "spark.sparkContext.setLogLevel(\"ERROR\")"
   ]
  },
  {
   "cell_type": "code",
   "execution_count": null,
   "metadata": {},
   "outputs": [],
   "source": [
    "fileSchema = StructType().add('name', 'string').add('money', 'string').add('time', 'timestamp')"
   ]
  },
  {
   "cell_type": "code",
   "execution_count": null,
   "metadata": {},
   "outputs": [],
   "source": [
    "# Create DataFrame representing the stream of input lines\n",
    "lines = spark \\\n",
    "    .readStream \\\n",
    "    .format(\"CSV\") \\\n",
    "    .option('sep', ',') \\\n",
    "    .option(\"header\", \"true\") \\\n",
    "    .option('includeTimestamp', 'true') \\\n",
    "    .schema(fileSchema) \\\n",
    "    .load(directory)\n",
    "\n",
    "lines.printSchema()"
   ]
  },
  {
   "cell_type": "code",
   "execution_count": null,
   "metadata": {},
   "outputs": [],
   "source": [
    "# Split the lines into words\n",
    "words = lines.select(lines.name, lines.money, lines.time)\n",
    "words.printSchema()"
   ]
  },
  {
   "cell_type": "code",
   "execution_count": null,
   "metadata": {},
   "outputs": [],
   "source": [
    "# Generate running word count, indicating window parameters (in seconds)\n",
    "windowSize = '{} seconds'.format(3)\n",
    "slideSize = '{} seconds'.format(2)\n",
    "windowedCounts = words.groupBy(\n",
    "        window(words.time, windowSize, slideSize),\n",
    "        words.name\n",
    "    ).count()\\\n",
    "    .orderBy('window')\n",
    "\n",
    "windowedCounts.printSchema()"
   ]
  },
  {
   "cell_type": "code",
   "execution_count": null,
   "metadata": {},
   "outputs": [],
   "source": [
    "# Start running the query that prints the output in the screen\n",
    "query = windowedCounts \\\n",
    "    .writeStream \\\n",
    "    .outputMode(\"complete\") \\\n",
    "    .format(\"console\") \\\n",
    "    .option('truncate', 'false') \\\n",
    "    .start()"
   ]
  },
  {
   "cell_type": "code",
   "execution_count": null,
   "metadata": {},
   "outputs": [],
   "source": [
    "query.awaitTermination()"
   ]
  }
 ],
 "metadata": {
  "kernelspec": {
   "display_name": "Python 3",
   "language": "python",
   "name": "python3"
  },
  "language_info": {
   "codemirror_mode": {
    "name": "ipython",
    "version": 3
   },
   "file_extension": ".py",
   "mimetype": "text/x-python",
   "name": "python",
   "nbconvert_exporter": "python",
   "pygments_lexer": "ipython3",
   "version": "3.7.4"
  }
 },
 "nbformat": 4,
 "nbformat_minor": 4
}
