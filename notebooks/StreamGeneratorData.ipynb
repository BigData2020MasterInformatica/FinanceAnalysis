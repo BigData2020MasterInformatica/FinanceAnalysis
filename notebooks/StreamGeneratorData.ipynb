{
 "cells": [
  {
   "cell_type": "markdown",
   "metadata": {},
   "source": [
    "Alumnos: Jose Gomez Baco / Leticia Yepez Chavez\n",
    "\n",
    "# Stream Generator Data"
   ]
  },
  {
   "cell_type": "code",
   "execution_count": null,
   "metadata": {},
   "outputs": [],
   "source": [
    "import websocket\n",
    "import json\n",
    "import datetime\n",
    "import time;"
   ]
  },
  {
   "cell_type": "code",
   "execution_count": 3,
   "metadata": {},
   "outputs": [],
   "source": [
    "fileName = \"streamCSV\"\n",
    "\n",
    "# Define de Finnhub api key \n",
    "apiToken = \"\""
   ]
  },
  {
   "cell_type": "code",
   "execution_count": null,
   "metadata": {},
   "outputs": [],
   "source": [
    "def on_message(ws, message):\n",
    "    global fileName\n",
    "    \n",
    "    # save message data\n",
    "    print(message)\n",
    "    jsonD = json.loads(message)\n",
    "    f = open(fileName, \"a\")\n",
    "    for dato in jsonD['data']:\n",
    "        f.write(str(dato['s']) + ',' + str(dato['v']) + ',' + str(datetime.datetime.fromtimestamp(dato['t']/1000.0)) + '\\n')\n",
    "    f.close()"
   ]
  },
  {
   "cell_type": "code",
   "execution_count": null,
   "metadata": {},
   "outputs": [],
   "source": [
    "def on_error(ws, error):\n",
    "    print(error)"
   ]
  },
  {
   "cell_type": "code",
   "execution_count": null,
   "metadata": {},
   "outputs": [],
   "source": [
    "def on_close(ws):\n",
    "    print(\"### closed ###\")"
   ]
  },
  {
   "cell_type": "code",
   "execution_count": null,
   "metadata": {},
   "outputs": [],
   "source": [
    "def on_open(ws):\n",
    "    print('### open ###')\n",
    "    global fileName\n",
    "    # subscribe to enterprises data\n",
    "    ws.send('{\"type\":\"subscribe\",\"symbol\":\"AAPL\"}')\n",
    "    ws.send('{\"type\":\"subscribe\",\"symbol\":\"AMZN\"}')\n",
    "    ws.send('{\"type\":\"subscribe\",\"symbol\":\"BINANCE:BTCUSDT\"}')\n",
    "    ws.send('{\"type\":\"subscribe\",\"symbol\":\"IC MARKETS:1\"}')\n",
    "    \n",
    "    # create file with timestamp\n",
    "    ts = time.time()\n",
    "    fileName = \"streamCSV\" + str(ts) + \".txt\"\n",
    "    f = open(fileName, \"a\")\n",
    "    f.write('name,value,time\\n')\n",
    "    f.close()"
   ]
  },
  {
   "cell_type": "code",
   "execution_count": null,
   "metadata": {},
   "outputs": [],
   "source": [
    "# connect to API socket\n",
    "ws = websocket.WebSocketApp(\"wss://ws.finnhub.io?token=\" + str(apiToken), \n",
    "                          on_message = on_message,\n",
    "                          on_error = on_error,\n",
    "                          on_close = on_close)\n",
    "ws.on_open = on_open\n",
    "ws.run_forever()"
   ]
  }
 ],
 "metadata": {
  "kernelspec": {
   "display_name": "Python 3",
   "language": "python",
   "name": "python3"
  },
  "language_info": {
   "codemirror_mode": {
    "name": "ipython",
    "version": 3
   },
   "file_extension": ".py",
   "mimetype": "text/x-python",
   "name": "python",
   "nbconvert_exporter": "python",
   "pygments_lexer": "ipython3",
   "version": "3.7.4"
  }
 },
 "nbformat": 4,
 "nbformat_minor": 4
}
